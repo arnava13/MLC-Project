{
 "cells": [
  {
   "cell_type": "markdown",
   "metadata": {},
   "source": [
    "# UHI Prediction Notebook with Clay Encoder and LSTM for regression\n",
    "### Arnav Agarwal and Shunsuke Akamatsu"
   ]
  }
 ],
 "metadata": {
  "language_info": {
   "name": "python"
  }
 },
 "nbformat": 4,
 "nbformat_minor": 2
}
