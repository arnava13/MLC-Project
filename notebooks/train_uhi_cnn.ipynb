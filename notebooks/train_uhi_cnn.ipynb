{
 "cells": [
  {
   "cell_type": "code",
   "execution_count": 1,
   "id": "97feb2c0",
   "metadata": {
    "tags": []
   },
   "outputs": [],
   "source": [
    "# %% Setup & Imports\n",
    "\n",
    "import sys\n",
    "import os\n",
    "import pandas as pd\n",
    "import numpy as np\n",
    "import json\n",
    "import matplotlib.pyplot as plt\n",
    "from pathlib import Path\n",
    "from datetime import datetime\n",
    "import logging\n",
    "import torch\n",
    "import torch.nn as nn\n",
    "import torch.optim as optim\n",
    "from torch.utils.data import DataLoader, random_split, Subset\n",
    "from tqdm import tqdm\n",
    "import math\n",
    "import shutil # For checkpoint saving\n",
    "\n",
    "# Add the project root to the Python path\n",
    "project_root = Path(os.getcwd()).parent # Assumes notebook is in 'notebooks' subdir\n",
    "sys.path.insert(0, str(project_root))\n",
    "\n",
    "# --- Import Model Components ---\n",
    "from src.model import UHINetCNN # Import the CNN model\n",
    "from src.ingest.dataloader_cnn import CityDataSet # Import the corresponding dataloader\n",
    "\n",
    "# --- Import Training Utilities & Loss --- ### MODIFIED ###\n",
    "from src.train.loss import masked_mse_loss, masked_mae_loss # Import loss functions\n",
    "import src.train.train_utils as train_utils # Import the new utility module\n",
    "\n",
    "# Setup logging\n",
    "logging.basicConfig(level=logging.INFO, format='%(asctime)s - %(levelname)s - %(message)s')\n",
    "\n",
    "# Optionally import wandb if needed\n",
    "try:\n",
    "    import wandb\n",
    "except ImportError:\n",
    "    print(\"wandb not installed, skipping W&B logging.\")\n",
    "    wandb = None\n",
    "\n",
    "# Import necessary metrics\n",
    "from sklearn.metrics import mean_squared_error, r2_score"
   ]
  },
  {
   "cell_type": "code",
   "execution_count": 2,
   "id": "860c52a0-0d4b-4e3e-a2fc-363a45e9abc1",
   "metadata": {},
   "outputs": [],
   "source": [
    "### UNCOMMENT ON FIRST RUN\n",
    "#!wget -q https://huggingface.co/made-with-clay/Clay/resolve/main/v1.5/clay-v1.5.ckpt"
   ]
  },
  {
   "cell_type": "markdown",
   "id": "14e727ff",
   "metadata": {},
   "source": [
    "## Configuration\n",
    "\n",
    "Set up paths and hyperparameters."
   ]
  },
  {
   "cell_type": "code",
   "execution_count": 3,
   "id": "bca486df",
   "metadata": {
    "tags": []
   },
   "outputs": [
    {
     "name": "stdout",
     "output_type": "stream",
     "text": [
      "Using device: cuda\n",
      "Loaded bounds from uhi.csv: [-73.99445667, 40.75879167, -73.87945833, 40.85949667]\n",
      "\n",
      "Configuration dictionary created:\n",
      "{\n",
      "  \"model_type\": \"UHINetCNN\",\n",
      "  \"project_root\": \"/home/jupyter/MLC-Project\",\n",
      "  \"city_name\": \"NYC\",\n",
      "  \"wandb_project_name\": \"MLC_UHI_Proj\",\n",
      "  \"wander_run_name_prefix\": \"NYC_UHINetCNN\",\n",
      "  \"resolution_m\": 10,\n",
      "  \"include_lst\": true,\n",
      "  \"uhi_csv\": \"data/NYC/uhi.csv\",\n",
      "  \"bronx_weather_csv\": \"/home/jupyter/MLC-Project/data/NYC/bronx_weather.csv\",\n",
      "  \"manhattan_weather_csv\": \"/home/jupyter/MLC-Project/data/NYC/manhattan_weather.csv\",\n",
      "  \"cloudless_mosaic_path\": \"/home/jupyter/MLC-Project/data/NYC/sat_files/sentinel_NYC_20210601_to_20210901_cloudless_mosaic.npy\",\n",
      "  \"single_lst_median_path\": \"/home/jupyter/MLC-Project/data/NYC/sat_files/lst_NYC_median_20210601_to_20210901.npy\",\n",
      "  \"bounds\": [\n",
      "    -73.99445667,\n",
      "    40.75879167,\n",
      "    -73.87945833,\n",
      "    40.85949667\n",
      "  ],\n",
      "  \"clay_model_size\": \"large\",\n",
      "  \"clay_bands\": [\n",
      "    \"blue\",\n",
      "    \"green\",\n",
      "    \"red\",\n",
      "    \"nir\"\n",
      "  ],\n",
      "  \"clay_platform\": \"sentinel-2-l2a\",\n",
      "  \"clay_gsd\": 10,\n",
      "  \"clay_checkpoint_path\": \"/home/jupyter/MLC-Project/notebooks/clay-v1.5.ckpt\",\n",
      "  \"clay_metadata_path\": \"/home/jupyter/MLC-Project/src/Clay/configs/metadata.yaml\",\n",
      "  \"weather_channels\": 6,\n",
      "  \"time_embed_dim\": 2,\n",
      "  \"lst_channels\": 1,\n",
      "  \"proj_ch\": 64,\n",
      "  \"cnn_hidden_dims\": [\n",
      "    32,\n",
      "    16,\n",
      "    8\n",
      "  ],\n",
      "  \"cnn_kernel_size\": 3,\n",
      "  \"n_train_batches\": 8,\n",
      "  \"num_workers\": 4,\n",
      "  \"epochs\": 500,\n",
      "  \"lr\": 5e-05,\n",
      "  \"weight_decay\": 0.01,\n",
      "  \"loss_type\": \"mse\",\n",
      "  \"patience\": 50,\n",
      "  \"device\": \"cuda\",\n",
      "  \"cnn_dropout\": 0.3\n",
      "}\n"
     ]
    }
   ],
   "source": [
    "# %% Configuration / Hyperparameters (CNN Model + Common Resampling)\n",
    "\n",
    "# --- Import utils ---\n",
    "from src.train.train_utils import check_path\n",
    "# -------------------\n",
    "\n",
    "# --- Paths & Basic Info ---\n",
    "project_root_str = str(project_root) # Store as string for config\n",
    "data_dir_base = project_root / \"data\"\n",
    "city_name = \"NYC\"\n",
    "output_dir_base = project_root / \"training_runs\"\n",
    "\n",
    "# --- WANDB Config ---\n",
    "wandb_project_name = \"MLC_UHI_Proj\"\n",
    "wander_run_name_prefix = f\"{city_name}_UHINetCNN_CommonRes\" # Modified prefix\n",
    "\n",
    "# --- Data Loading Config ---\n",
    "# NEW: Define the common resolution for spatial features entering the model\n",
    "feature_resolution_m = 10 # Start with 10m (matches Clay/UHI grid)\n",
    "\n",
    "# Define UHI grid resolution separately (used for final target matching)\n",
    "uhi_grid_resolution_m = 10 # Assume UHI grid is 10m\n",
    "\n",
    "# Input Data Paths (relative)\n",
    "relative_data_dir = Path(\"data\")\n",
    "relative_uhi_csv = relative_data_dir / city_name / \"uhi.csv\"\n",
    "relative_bronx_weather_csv = relative_data_dir / city_name / \"bronx_weather.csv\"\n",
    "relative_manhattan_weather_csv = relative_data_dir / city_name / \"manhattan_weather.csv\"\n",
    "relative_dem_path = relative_data_dir / city_name / \"sat_files\" / \"nyc_dem_1m_pc.tif\"\n",
    "relative_dsm_path = relative_data_dir / city_name / \"sat_files\" / \"nyc_dsm_1m_pc.tif\"\n",
    "relative_cloudless_mosaic_path = relative_data_dir / city_name / \"sat_files\" / f\"sentinel_{city_name}_20210601_to_20210901_cloudless_mosaic.npy\"\n",
    "relative_single_lst_median_path = relative_data_dir / city_name / \"sat_files\" / f\"lst_{city_name}_median_20210601_to_20210901.npy\"\n",
    "\n",
    "# Nodata values\n",
    "elevation_nodata = -9999.0\n",
    "lst_nodata = 0.0\n",
    "\n",
    "# --- Feature Selection Flags --- #\n",
    "feature_flags = {\n",
    "    \"use_dem\": True,\n",
    "    \"use_dsm\": True,\n",
    "    \"use_clay\": True,\n",
    "    \"use_sentinel_composite\": False,\n",
    "    \"use_lst\": False,\n",
    "    \"use_ndvi\": False,\n",
    "    \"use_ndbi\": False,\n",
    "    \"use_ndwi\": False,\n",
    "}\n",
    "\n",
    "# --- Bands for Sentinel Composite --- #\n",
    "sentinel_bands_to_load = [\"blue\", \"green\", \"red\", \"nir\", \"swir16\", \"swir22\"]\n",
    "\n",
    "# --- Model Config (UHINetCNN) ---\n",
    "# Clay Backbone (if feature_flags[\"use_clay\"])\n",
    "clay_model_size = \"large\"\n",
    "clay_bands = [\"blue\", \"green\", \"red\", \"nir\"]\n",
    "clay_platform = \"sentinel-2-l2a\"\n",
    "clay_gsd = 10\n",
    "freeze_backbone = True\n",
    "relative_clay_checkpoint_path = \"notebooks/clay-v1.5.ckpt\"\n",
    "relative_clay_metadata_path = Path(\"src\") / \"Clay\" / \"configs\" / \"metadata.yaml\"\n",
    "\n",
    "# Weather input channels (even though it's not a sequence)\n",
    "weather_channels = 6\n",
    "\n",
    "# U-Net Backbone Config\n",
    "unet_base_channels = 64\n",
    "unet_depth = 4\n",
    "\n",
    "# --- REMOVED Elevation Branch Config ---\n",
    "\n",
    "# --- Training Hyperparameters ---\n",
    "num_workers = 4\n",
    "epochs = 500\n",
    "lr = 5e-5\n",
    "weight_decay = 0.01\n",
    "loss_type = 'mse'\n",
    "patience = 50\n",
    "cpu = False\n",
    "\n",
    "# V100 Suggestion: Target batch size 4 => n_train_batches = 36 / 4 = 9\n",
    "n_train_batches = 9\n",
    "\n",
    "# --- Device Setup ---\n",
    "device = torch.device(\"cuda\" if torch.cuda.is_available() and not cpu else \"cpu\")\n",
    "print(f\"Using device: {device}\")\n",
    "\n",
    "# --- Resolve Paths --- #\n",
    "absolute_uhi_csv = check_path(relative_uhi_csv, project_root, \"UHI CSV\")\n",
    "absolute_bronx_weather_csv = check_path(relative_bronx_weather_csv, project_root, \"Bronx Weather CSV\")\n",
    "absolute_manhattan_weather_csv = check_path(relative_manhattan_weather_csv, project_root, \"Manhattan Weather CSV\")\n",
    "absolute_dem_path = check_path(relative_dem_path, project_root, \"DEM TIF\")\n",
    "absolute_dsm_path = check_path(relative_dsm_path, project_root, \"DSM TIF\")\n",
    "absolute_clay_checkpoint_path = check_path(relative_clay_checkpoint_path, project_root, \"Clay Checkpoint\")\n",
    "absolute_clay_metadata_path = check_path(relative_clay_metadata_path, project_root, \"Clay Metadata\")\n",
    "absolute_cloudless_mosaic_path = check_path(relative_cloudless_mosaic_path, project_root, \"Cloudless Mosaic\")\n",
    "absolute_single_lst_median_path = check_path(relative_single_lst_median_path, project_root, \"Single LST Median\", should_exist=feature_flags[\"use_lst\"])\n",
    "\n",
    "# --- Calculate Bounds --- #\n",
    "uhi_df = pd.read_csv(absolute_uhi_csv)\n",
    "required_cols = ['Longitude', 'Latitude']\n",
    "if not all(col in uhi_df.columns for col in required_cols):\n",
    "    raise ValueError(f\"UHI CSV must contain columns: {required_cols}\")\n",
    "bounds = [\n",
    "    uhi_df['Longitude'].min(),\n",
    "    uhi_df['Latitude'].min(),\n",
    "    uhi_df['Longitude'].max(),\n",
    "    uhi_df['Latitude'].max()\n",
    "]\n",
    "print(f\"Loaded bounds from {absolute_uhi_csv.name}: {bounds}\")\n",
    "\n",
    "# --- Central Config Dictionary --- #\n",
    "config = {\n",
    "    # Paths & Info\n",
    "    \"model_type\": \"UHINetCNN_CommonRes\",\n",
    "    \"project_root\": project_root_str,\n",
    "    \"city_name\": city_name,\n",
    "    \"wandb_project_name\": wandb_project_name,\n",
    "    \"wander_run_name_prefix\": wander_run_name_prefix,\n",
    "    # Data Loading\n",
    "    \"feature_resolution_m\": feature_resolution_m,\n",
    "    \"uhi_grid_resolution_m\": uhi_grid_resolution_m,\n",
    "    \"uhi_csv\": str(relative_uhi_csv),\n",
    "    \"bronx_weather_csv\": str(absolute_bronx_weather_csv),\n",
    "    \"manhattan_weather_csv\": str(absolute_manhattan_weather_csv),\n",
    "    \"bounds\": bounds,\n",
    "    \"feature_flags\": feature_flags,\n",
    "    \"sentinel_bands_to_load\": sentinel_bands_to_load,\n",
    "    \"dem_path\": str(absolute_dem_path) if absolute_dem_path else None,\n",
    "    \"dsm_path\": str(absolute_dsm_path) if absolute_dsm_path else None,\n",
    "    \"elevation_nodata\": elevation_nodata,\n",
    "    \"cloudless_mosaic_path\": str(absolute_cloudless_mosaic_path) if absolute_cloudless_mosaic_path else None,\n",
    "    \"single_lst_median_path\": str(absolute_single_lst_median_path) if absolute_single_lst_median_path else None,\n",
    "    \"lst_nodata\": lst_nodata,\n",
    "    # Model Config\n",
    "    \"weather_channels\": weather_channels,\n",
    "    \"unet_base_channels\": unet_base_channels,\n",
    "    \"unet_depth\": unet_depth,\n",
    "    # Clay specific\n",
    "    \"clay_model_size\": clay_model_size,\n",
    "    \"clay_bands\": clay_bands,\n",
    "    \"clay_platform\": clay_platform,\n",
    "    \"clay_gsd\": clay_gsd,\n",
    "    \"freeze_backbone\": freeze_backbone,\n",
    "    \"clay_checkpoint_path\": str(absolute_clay_checkpoint_path) if feature_flags[\"use_clay\"] else None,\n",
    "    \"clay_metadata_path\": str(absolute_clay_metadata_path) if feature_flags[\"use_clay\"] else None,\n",
    "    # Training Hyperparameters\n",
    "    \"n_train_batches\": n_train_batches,\n",
    "    \"num_workers\": num_workers,\n",
    "    \"epochs\": epochs,\n",
    "    \"lr\": lr,\n",
    "    \"weight_decay\": weight_decay,\n",
    "    \"loss_type\": loss_type,\n",
    "    \"patience\": patience,\n",
    "    \"device\": str(device)\n",
    "}\n",
    "\n",
    "print(\"\\nUHINetCNN (Common Res) Configuration dictionary created:\")\n",
    "print(json.dumps(config, indent=2, default=lambda x: str(x) if isinstance(x, (Path, torch.device)) else x))"
   ]
  },
  {
   "cell_type": "markdown",
   "id": "44cd2dde-04dc-44fa-9c48-2840e2ec1e75",
   "metadata": {
    "tags": []
   },
   "source": [
    "## Setup DataLoader"
   ]
  },
  {
   "cell_type": "code",
   "execution_count": 4,
   "id": "b2abac67",
   "metadata": {
    "tags": []
   },
   "outputs": [
    {
     "name": "stderr",
     "output_type": "stream",
     "text": [
      "2025-04-30 02:20:01,176 - INFO - Loading cloudless mosaic from /home/jupyter/MLC-Project/data/NYC/sat_files/sentinel_NYC_20210601_to_20210901_cloudless_mosaic.npy\n",
      "2025-04-30 02:20:01,254 - INFO - Loaded mosaic with 4 bands and shape (1119, 1278)\n",
      "2025-04-30 02:20:01,290 - INFO - Loading single LST median from: /home/jupyter/MLC-Project/data/NYC/sat_files/lst_NYC_median_20210601_to_20210901.npy\n"
     ]
    },
    {
     "name": "stdout",
     "output_type": "stream",
     "text": [
      "Initializing dataset...\n"
     ]
    },
    {
     "name": "stderr",
     "output_type": "stream",
     "text": [
      "2025-04-30 02:20:01,391 - INFO - Loaded and normalized single LST median with shape (1, 1118, 969)\n",
      "/home/jupyter/MLC-Project/src/ingest/dataloader.py:143: FutureWarning: Parsed string \"2021-07-24 06:00:00 EDT\" included an un-recognized timezone \"EDT\". Dropping unrecognized timezones is deprecated; in a future version this will raise. Instead pass the string without the timezone, then use .tz_localize to convert to a recognized timezone.\n",
      "  dt_naive_or_aware = pd.to_datetime(self.bronx_weather['datetime'], errors='raise')\n",
      "/home/jupyter/MLC-Project/src/ingest/dataloader.py:169: FutureWarning: Parsed string \"2021-07-24 06:00:00 EDT\" included an un-recognized timezone \"EDT\". Dropping unrecognized timezones is deprecated; in a future version this will raise. Instead pass the string without the timezone, then use .tz_localize to convert to a recognized timezone.\n",
      "  dt_naive_or_aware = pd.to_datetime(self.manhattan_weather['datetime'], errors='raise')\n",
      "2025-04-30 02:20:01,401 - INFO - Loaded Bronx weather data: 169 records\n",
      "2025-04-30 02:20:01,402 - INFO - Loaded Manhattan weather data: 169 records\n",
      "2025-04-30 02:20:03,252 - INFO - Computed grid cell coordinates and closest station map\n",
      "2025-04-30 02:20:03,254 - INFO - Grid cells assigned to Bronx: 370359\n",
      "2025-04-30 02:20:03,256 - INFO - Grid cells assigned to Manhattan: 712983\n",
      "Precomputing UHI grids: 100%|██████████| 59/59 [00:00<00:00, 397.53it/s]\n",
      "2025-04-30 02:20:03,416 - INFO - Dataset initialized for NYC with 59 unique timestamps. LST included: True\n",
      "2025-04-30 02:20:03,417 - INFO - Target grid size (H, W): (1118, 969)\n"
     ]
    },
    {
     "name": "stdout",
     "output_type": "stream",
     "text": [
      "Random dataset split: 36 training, 23 validation samples.\n",
      "Calculating UHI statistics from training data...\n",
      "Training UHI Mean: 1.0004, Std Dev: 0.0162\n",
      "Creating dataloaders...\n",
      "Data loading setup complete.\n"
     ]
    }
   ],
   "source": [
    "# %% Data Loading and Preprocessing (CNN Model + Common Resampling)\n",
    "\n",
    "# --- Import utils ---\n",
    "from src.train.train_utils import (\n",
    "    split_data,\n",
    "    calculate_uhi_stats,\n",
    "    create_dataloaders\n",
    ")\n",
    "# -------------------\n",
    "\n",
    "print(\"Initializing CityDataSet...\")\n",
    "try:\n",
    "    dataset = CityDataSet(\n",
    "        bounds=config[\"bounds\"],\n",
    "        feature_resolution_m=config[\"feature_resolution_m\"],\n",
    "        uhi_grid_resolution_m=config[\"uhi_grid_resolution_m\"],\n",
    "        uhi_csv=absolute_uhi_csv, # Use absolute path resolved earlier\n",
    "        bronx_weather_csv=absolute_bronx_weather_csv,\n",
    "        manhattan_weather_csv=absolute_manhattan_weather_csv,\n",
    "        data_dir=project_root_str,\n",
    "        city_name=config[\"city_name\"],\n",
    "        feature_flags=config[\"feature_flags\"],\n",
    "        sentinel_bands_to_load=config[\"sentinel_bands_to_load\"],\n",
    "        dem_path=config[\"dem_path\"],\n",
    "        dsm_path=config[\"dsm_path\"],\n",
    "        elevation_nodata=config[\"elevation_nodata\"],\n",
    "        cloudless_mosaic_path=config[\"cloudless_mosaic_path\"],\n",
    "        single_lst_median_path=config[\"single_lst_median_path\"],\n",
    "        lst_nodata=config[\"lst_nodata\"]\n",
    "    )\n",
    "except FileNotFoundError as e:\n",
    "    print(f\"Dataset initialization failed: {e}\")\n",
    "    print(\"Ensure required data files (DEM, DSM, weather, UHI, potentially mosaic/LST) exist.\")\n",
    "    print(\"Run `notebooks/download_data.ipynb` first.\")\n",
    "    raise\n",
    "except Exception as e:\n",
    "    print(f\"Unexpected error during dataset initialization: {e}\")\n",
    "    raise\n",
    "\n",
    "# --- Train/Val Split --- #\n",
    "train_ds, val_ds = split_data(dataset, val_percent=0.40, seed=42)\n",
    "\n",
    "# --- Calculate UHI Mean and Std from Training Data ONLY --- #\n",
    "uhi_mean, uhi_std = calculate_uhi_stats(train_ds)\n",
    "config['uhi_mean'] = uhi_mean\n",
    "config['uhi_std'] = uhi_std\n",
    "\n",
    "# --- Create DataLoaders --- #\n",
    "train_loader, val_loader = create_dataloaders(\n",
    "    train_ds,\n",
    "    val_ds,\n",
    "    n_train_batches=config['n_train_batches'],\n",
    "    num_workers=config['num_workers'],\n",
    "    device=device # Pass device from config cell\n",
    ")\n"
   ]
  },
  {
   "cell_type": "code",
   "execution_count": null,
   "id": "ab087292-f6cb-4c31-8db0-6ae9bb6223f7",
   "metadata": {
    "tags": []
   },
   "outputs": [
    {
     "name": "stdout",
     "output_type": "stream",
     "text": [
      "Model UHINetCNN initialized on cuda\n",
      "Checkpoints and logs will be saved to: /home/jupyter/MLC-Project/training_runs/NYC_UHINetCNN_20250430_022023\n",
      "Using Training UHI Mean: 1.0004, Std Dev: 0.0162 for normalization.\n"
     ]
    },
    {
     "name": "stderr",
     "output_type": "stream",
     "text": [
      "\u001b[34m\u001b[1mwandb\u001b[0m: \u001b[32m\u001b[41mERROR\u001b[0m Failed to detect the name of this notebook. You can set it manually with the WANDB_NOTEBOOK_NAME environment variable to enable code saving.\n",
      "\u001b[34m\u001b[1mwandb\u001b[0m: Currently logged in as: \u001b[33marnava1304\u001b[0m (\u001b[33marnava1304-columbia-university\u001b[0m) to \u001b[32mhttps://api.wandb.ai\u001b[0m. Use \u001b[1m`wandb login --relogin`\u001b[0m to force relogin\n"
     ]
    },
    {
     "data": {
      "text/html": [
       "Tracking run with wandb version 0.19.10"
      ],
      "text/plain": [
       "<IPython.core.display.HTML object>"
      ]
     },
     "metadata": {},
     "output_type": "display_data"
    },
    {
     "data": {
      "text/html": [
       "Run data is saved locally in <code>/home/jupyter/MLC-Project/notebooks/wandb/run-20250430_022024-1hnl57gu</code>"
      ],
      "text/plain": [
       "<IPython.core.display.HTML object>"
      ]
     },
     "metadata": {},
     "output_type": "display_data"
    },
    {
     "data": {
      "text/html": [
       "Syncing run <strong><a href='https://wandb.ai/arnava1304-columbia-university/MLC_UHI_Proj/runs/1hnl57gu' target=\"_blank\">NYC_UHINetCNN_20250430_022023</a></strong> to <a href='https://wandb.ai/arnava1304-columbia-university/MLC_UHI_Proj' target=\"_blank\">Weights & Biases</a> (<a href='https://wandb.me/developer-guide' target=\"_blank\">docs</a>)<br>"
      ],
      "text/plain": [
       "<IPython.core.display.HTML object>"
      ]
     },
     "metadata": {},
     "output_type": "display_data"
    },
    {
     "data": {
      "text/html": [
       " View project at <a href='https://wandb.ai/arnava1304-columbia-university/MLC_UHI_Proj' target=\"_blank\">https://wandb.ai/arnava1304-columbia-university/MLC_UHI_Proj</a>"
      ],
      "text/plain": [
       "<IPython.core.display.HTML object>"
      ]
     },
     "metadata": {},
     "output_type": "display_data"
    },
    {
     "data": {
      "text/html": [
       " View run at <a href='https://wandb.ai/arnava1304-columbia-university/MLC_UHI_Proj/runs/1hnl57gu' target=\"_blank\">https://wandb.ai/arnava1304-columbia-university/MLC_UHI_Proj/runs/1hnl57gu</a>"
      ],
      "text/plain": [
       "<IPython.core.display.HTML object>"
      ]
     },
     "metadata": {},
     "output_type": "display_data"
    },
    {
     "name": "stdout",
     "output_type": "stream",
     "text": [
      "Wandb initialized for run: NYC_UHINetCNN_20250430_022023\n",
      "Saved local configuration to config.json\n",
      "Starting CNN training...\n",
      "--- Epoch 1/500 ---\n"
     ]
    },
    {
     "data": {
      "application/vnd.jupyter.widget-view+json": {
       "model_id": "",
       "version_major": 2,
       "version_minor": 0
      },
      "text/plain": [
       "Training:   0%|          | 0/9 [00:00<?, ?it/s]"
      ]
     },
     "metadata": {},
     "output_type": "display_data"
    },
    {
     "data": {
      "application/vnd.jupyter.widget-view+json": {
       "model_id": "",
       "version_major": 2,
       "version_minor": 0
      },
      "text/plain": [
       "Validation:   0%|          | 0/1 [00:00<?, ?it/s]"
      ]
     },
     "metadata": {},
     "output_type": "display_data"
    },
    {
     "name": "stdout",
     "output_type": "stream",
     "text": [
      "Epoch 1: Train Loss=645.8097 RMSE=0.0169 R2=-0.0923 | Val Loss=3226.9849 RMSE=0.0165 R2=-0.0316\n",
      "New best validation R^2: -0.0316\n",
      "Saved new best model to /home/jupyter/MLC-Project/training_runs/NYC_UHINetCNN_20250430_022023/model_best.pth.tar\n",
      "--- Epoch 2/500 ---\n"
     ]
    },
    {
     "data": {
      "application/vnd.jupyter.widget-view+json": {
       "model_id": "",
       "version_major": 2,
       "version_minor": 0
      },
      "text/plain": [
       "Training:   0%|          | 0/9 [00:00<?, ?it/s]"
      ]
     },
     "metadata": {},
     "output_type": "display_data"
    },
    {
     "data": {
      "application/vnd.jupyter.widget-view+json": {
       "model_id": "",
       "version_major": 2,
       "version_minor": 0
      },
      "text/plain": [
       "Validation:   0%|          | 0/1 [00:00<?, ?it/s]"
      ]
     },
     "metadata": {},
     "output_type": "display_data"
    },
    {
     "name": "stdout",
     "output_type": "stream",
     "text": [
      "Epoch 2: Train Loss=619.4320 RMSE=0.0166 R2=-0.0477 | Val Loss=3201.6125 RMSE=0.0164 R2=-0.0235\n",
      "New best validation R^2: -0.0235\n",
      "Saved new best model to /home/jupyter/MLC-Project/training_runs/NYC_UHINetCNN_20250430_022023/model_best.pth.tar\n",
      "--- Epoch 3/500 ---\n"
     ]
    },
    {
     "data": {
      "application/vnd.jupyter.widget-view+json": {
       "model_id": "",
       "version_major": 2,
       "version_minor": 0
      },
      "text/plain": [
       "Training:   0%|          | 0/9 [00:00<?, ?it/s]"
      ]
     },
     "metadata": {},
     "output_type": "display_data"
    },
    {
     "data": {
      "application/vnd.jupyter.widget-view+json": {
       "model_id": "",
       "version_major": 2,
       "version_minor": 0
      },
      "text/plain": [
       "Validation:   0%|          | 0/1 [00:00<?, ?it/s]"
      ]
     },
     "metadata": {},
     "output_type": "display_data"
    },
    {
     "name": "stdout",
     "output_type": "stream",
     "text": [
      "Epoch 3: Train Loss=592.4688 RMSE=0.0162 R2=-0.0021 | Val Loss=3103.2617 RMSE=0.0162 R2=0.0080\n",
      "New best validation R^2: 0.0080\n",
      "Saved new best model to /home/jupyter/MLC-Project/training_runs/NYC_UHINetCNN_20250430_022023/model_best.pth.tar\n",
      "--- Epoch 4/500 ---\n"
     ]
    },
    {
     "data": {
      "application/vnd.jupyter.widget-view+json": {
       "model_id": "",
       "version_major": 2,
       "version_minor": 0
      },
      "text/plain": [
       "Training:   0%|          | 0/9 [00:00<?, ?it/s]"
      ]
     },
     "metadata": {},
     "output_type": "display_data"
    },
    {
     "data": {
      "application/vnd.jupyter.widget-view+json": {
       "model_id": "",
       "version_major": 2,
       "version_minor": 0
      },
      "text/plain": [
       "Validation:   0%|          | 0/1 [00:00<?, ?it/s]"
      ]
     },
     "metadata": {},
     "output_type": "display_data"
    },
    {
     "name": "stdout",
     "output_type": "stream",
     "text": [
      "Epoch 4: Train Loss=608.3326 RMSE=0.0164 R2=-0.0289 | Val Loss=2994.3579 RMSE=0.0159 R2=0.0428\n",
      "New best validation R^2: 0.0428\n",
      "Saved new best model to /home/jupyter/MLC-Project/training_runs/NYC_UHINetCNN_20250430_022023/model_best.pth.tar\n",
      "--- Epoch 5/500 ---\n"
     ]
    },
    {
     "data": {
      "application/vnd.jupyter.widget-view+json": {
       "model_id": "",
       "version_major": 2,
       "version_minor": 0
      },
      "text/plain": [
       "Training:   0%|          | 0/9 [00:00<?, ?it/s]"
      ]
     },
     "metadata": {},
     "output_type": "display_data"
    },
    {
     "data": {
      "application/vnd.jupyter.widget-view+json": {
       "model_id": "",
       "version_major": 2,
       "version_minor": 0
      },
      "text/plain": [
       "Validation:   0%|          | 0/1 [00:00<?, ?it/s]"
      ]
     },
     "metadata": {},
     "output_type": "display_data"
    },
    {
     "name": "stdout",
     "output_type": "stream",
     "text": [
      "Epoch 5: Train Loss=555.4505 RMSE=0.0157 R2=0.0605 | Val Loss=2895.1689 RMSE=0.0156 R2=0.0745\n",
      "New best validation R^2: 0.0745\n",
      "Saved new best model to /home/jupyter/MLC-Project/training_runs/NYC_UHINetCNN_20250430_022023/model_best.pth.tar\n",
      "--- Epoch 6/500 ---\n"
     ]
    },
    {
     "data": {
      "application/vnd.jupyter.widget-view+json": {
       "model_id": "",
       "version_major": 2,
       "version_minor": 0
      },
      "text/plain": [
       "Training:   0%|          | 0/9 [00:00<?, ?it/s]"
      ]
     },
     "metadata": {},
     "output_type": "display_data"
    },
    {
     "data": {
      "application/vnd.jupyter.widget-view+json": {
       "model_id": "",
       "version_major": 2,
       "version_minor": 0
      },
      "text/plain": [
       "Validation:   0%|          | 0/1 [00:00<?, ?it/s]"
      ]
     },
     "metadata": {},
     "output_type": "display_data"
    },
    {
     "name": "stdout",
     "output_type": "stream",
     "text": [
      "Epoch 6: Train Loss=520.1677 RMSE=0.0152 R2=0.1202 | Val Loss=2928.8545 RMSE=0.0157 R2=0.0637\n",
      "No improvement in validation R^2 for 1 epochs.\n",
      "--- Epoch 7/500 ---\n"
     ]
    },
    {
     "data": {
      "application/vnd.jupyter.widget-view+json": {
       "model_id": "",
       "version_major": 2,
       "version_minor": 0
      },
      "text/plain": [
       "Training:   0%|          | 0/9 [00:00<?, ?it/s]"
      ]
     },
     "metadata": {},
     "output_type": "display_data"
    },
    {
     "data": {
      "application/vnd.jupyter.widget-view+json": {
       "model_id": "",
       "version_major": 2,
       "version_minor": 0
      },
      "text/plain": [
       "Validation:   0%|          | 0/1 [00:00<?, ?it/s]"
      ]
     },
     "metadata": {},
     "output_type": "display_data"
    },
    {
     "name": "stdout",
     "output_type": "stream",
     "text": [
      "Epoch 7: Train Loss=596.9733 RMSE=0.0163 R2=-0.0097 | Val Loss=2853.7822 RMSE=0.0155 R2=0.0877\n",
      "New best validation R^2: 0.0877\n",
      "Saved new best model to /home/jupyter/MLC-Project/training_runs/NYC_UHINetCNN_20250430_022023/model_best.pth.tar\n",
      "--- Epoch 8/500 ---\n"
     ]
    },
    {
     "data": {
      "application/vnd.jupyter.widget-view+json": {
       "model_id": "",
       "version_major": 2,
       "version_minor": 0
      },
      "text/plain": [
       "Training:   0%|          | 0/9 [00:00<?, ?it/s]"
      ]
     },
     "metadata": {},
     "output_type": "display_data"
    },
    {
     "data": {
      "application/vnd.jupyter.widget-view+json": {
       "model_id": "",
       "version_major": 2,
       "version_minor": 0
      },
      "text/plain": [
       "Validation:   0%|          | 0/1 [00:00<?, ?it/s]"
      ]
     },
     "metadata": {},
     "output_type": "display_data"
    },
    {
     "name": "stdout",
     "output_type": "stream",
     "text": [
      "Epoch 8: Train Loss=532.3227 RMSE=0.0154 R2=0.0996 | Val Loss=2936.8237 RMSE=0.0157 R2=0.0612\n",
      "No improvement in validation R^2 for 1 epochs.\n",
      "--- Epoch 9/500 ---\n"
     ]
    },
    {
     "data": {
      "application/vnd.jupyter.widget-view+json": {
       "model_id": "",
       "version_major": 2,
       "version_minor": 0
      },
      "text/plain": [
       "Training:   0%|          | 0/9 [00:00<?, ?it/s]"
      ]
     },
     "metadata": {},
     "output_type": "display_data"
    },
    {
     "data": {
      "application/vnd.jupyter.widget-view+json": {
       "model_id": "",
       "version_major": 2,
       "version_minor": 0
      },
      "text/plain": [
       "Validation:   0%|          | 0/1 [00:00<?, ?it/s]"
      ]
     },
     "metadata": {},
     "output_type": "display_data"
    },
    {
     "name": "stdout",
     "output_type": "stream",
     "text": [
      "Epoch 9: Train Loss=566.1273 RMSE=0.0158 R2=0.0424 | Val Loss=2793.0508 RMSE=0.0154 R2=0.1071\n",
      "New best validation R^2: 0.1071\n",
      "Saved new best model to /home/jupyter/MLC-Project/training_runs/NYC_UHINetCNN_20250430_022023/model_best.pth.tar\n",
      "--- Epoch 10/500 ---\n"
     ]
    },
    {
     "data": {
      "application/vnd.jupyter.widget-view+json": {
       "model_id": "",
       "version_major": 2,
       "version_minor": 0
      },
      "text/plain": [
       "Training:   0%|          | 0/9 [00:00<?, ?it/s]"
      ]
     },
     "metadata": {},
     "output_type": "display_data"
    },
    {
     "data": {
      "application/vnd.jupyter.widget-view+json": {
       "model_id": "",
       "version_major": 2,
       "version_minor": 0
      },
      "text/plain": [
       "Validation:   0%|          | 0/1 [00:00<?, ?it/s]"
      ]
     },
     "metadata": {},
     "output_type": "display_data"
    },
    {
     "name": "stdout",
     "output_type": "stream",
     "text": [
      "Epoch 10: Train Loss=534.8112 RMSE=0.0154 R2=0.0954 | Val Loss=2801.7456 RMSE=0.0154 R2=0.1043\n",
      "No improvement in validation R^2 for 1 epochs.\n",
      "--- Epoch 11/500 ---\n"
     ]
    },
    {
     "data": {
      "application/vnd.jupyter.widget-view+json": {
       "model_id": "",
       "version_major": 2,
       "version_minor": 0
      },
      "text/plain": [
       "Training:   0%|          | 0/9 [00:00<?, ?it/s]"
      ]
     },
     "metadata": {},
     "output_type": "display_data"
    },
    {
     "data": {
      "application/vnd.jupyter.widget-view+json": {
       "model_id": "",
       "version_major": 2,
       "version_minor": 0
      },
      "text/plain": [
       "Validation:   0%|          | 0/1 [00:00<?, ?it/s]"
      ]
     },
     "metadata": {},
     "output_type": "display_data"
    },
    {
     "name": "stdout",
     "output_type": "stream",
     "text": [
      "Epoch 11: Train Loss=562.8188 RMSE=0.0158 R2=0.0480 | Val Loss=2649.6572 RMSE=0.0150 R2=0.1530\n",
      "New best validation R^2: 0.1530\n",
      "Saved new best model to /home/jupyter/MLC-Project/training_runs/NYC_UHINetCNN_20250430_022023/model_best.pth.tar\n",
      "--- Epoch 12/500 ---\n"
     ]
    },
    {
     "data": {
      "application/vnd.jupyter.widget-view+json": {
       "model_id": "",
       "version_major": 2,
       "version_minor": 0
      },
      "text/plain": [
       "Training:   0%|          | 0/9 [00:00<?, ?it/s]"
      ]
     },
     "metadata": {},
     "output_type": "display_data"
    },
    {
     "data": {
      "application/vnd.jupyter.widget-view+json": {
       "model_id": "",
       "version_major": 2,
       "version_minor": 0
      },
      "text/plain": [
       "Validation:   0%|          | 0/1 [00:00<?, ?it/s]"
      ]
     },
     "metadata": {},
     "output_type": "display_data"
    },
    {
     "name": "stdout",
     "output_type": "stream",
     "text": [
      "Epoch 12: Train Loss=535.5470 RMSE=0.0154 R2=0.0942 | Val Loss=2979.5686 RMSE=0.0159 R2=0.0475\n",
      "No improvement in validation R^2 for 1 epochs.\n",
      "--- Epoch 13/500 ---\n"
     ]
    },
    {
     "data": {
      "application/vnd.jupyter.widget-view+json": {
       "model_id": "",
       "version_major": 2,
       "version_minor": 0
      },
      "text/plain": [
       "Training:   0%|          | 0/9 [00:00<?, ?it/s]"
      ]
     },
     "metadata": {},
     "output_type": "display_data"
    },
    {
     "data": {
      "application/vnd.jupyter.widget-view+json": {
       "model_id": "",
       "version_major": 2,
       "version_minor": 0
      },
      "text/plain": [
       "Validation:   0%|          | 0/1 [00:00<?, ?it/s]"
      ]
     },
     "metadata": {},
     "output_type": "display_data"
    },
    {
     "name": "stdout",
     "output_type": "stream",
     "text": [
      "Epoch 13: Train Loss=554.7834 RMSE=0.0157 R2=0.0616 | Val Loss=2787.3311 RMSE=0.0153 R2=0.1090\n",
      "No improvement in validation R^2 for 2 epochs.\n",
      "--- Epoch 14/500 ---\n"
     ]
    },
    {
     "data": {
      "application/vnd.jupyter.widget-view+json": {
       "model_id": "",
       "version_major": 2,
       "version_minor": 0
      },
      "text/plain": [
       "Training:   0%|          | 0/9 [00:00<?, ?it/s]"
      ]
     },
     "metadata": {},
     "output_type": "display_data"
    },
    {
     "data": {
      "application/vnd.jupyter.widget-view+json": {
       "model_id": "",
       "version_major": 2,
       "version_minor": 0
      },
      "text/plain": [
       "Validation:   0%|          | 0/1 [00:00<?, ?it/s]"
      ]
     },
     "metadata": {},
     "output_type": "display_data"
    },
    {
     "name": "stdout",
     "output_type": "stream",
     "text": [
      "Epoch 14: Train Loss=505.4470 RMSE=0.0150 R2=0.1451 | Val Loss=2786.1643 RMSE=0.0153 R2=0.1093\n",
      "No improvement in validation R^2 for 3 epochs.\n",
      "--- Epoch 15/500 ---\n"
     ]
    },
    {
     "data": {
      "application/vnd.jupyter.widget-view+json": {
       "model_id": "",
       "version_major": 2,
       "version_minor": 0
      },
      "text/plain": [
       "Training:   0%|          | 0/9 [00:00<?, ?it/s]"
      ]
     },
     "metadata": {},
     "output_type": "display_data"
    },
    {
     "data": {
      "application/vnd.jupyter.widget-view+json": {
       "model_id": "",
       "version_major": 2,
       "version_minor": 0
      },
      "text/plain": [
       "Validation:   0%|          | 0/1 [00:00<?, ?it/s]"
      ]
     },
     "metadata": {},
     "output_type": "display_data"
    },
    {
     "name": "stdout",
     "output_type": "stream",
     "text": [
      "Epoch 15: Train Loss=554.4417 RMSE=0.0157 R2=0.0622 | Val Loss=2901.9517 RMSE=0.0157 R2=0.0723\n",
      "No improvement in validation R^2 for 4 epochs.\n",
      "--- Epoch 16/500 ---\n"
     ]
    },
    {
     "data": {
      "application/vnd.jupyter.widget-view+json": {
       "model_id": "",
       "version_major": 2,
       "version_minor": 0
      },
      "text/plain": [
       "Training:   0%|          | 0/9 [00:00<?, ?it/s]"
      ]
     },
     "metadata": {},
     "output_type": "display_data"
    },
    {
     "data": {
      "application/vnd.jupyter.widget-view+json": {
       "model_id": "",
       "version_major": 2,
       "version_minor": 0
      },
      "text/plain": [
       "Validation:   0%|          | 0/1 [00:00<?, ?it/s]"
      ]
     },
     "metadata": {},
     "output_type": "display_data"
    },
    {
     "name": "stdout",
     "output_type": "stream",
     "text": [
      "Epoch 16: Train Loss=508.4681 RMSE=0.0150 R2=0.1400 | Val Loss=2693.0142 RMSE=0.0151 R2=0.1391\n",
      "No improvement in validation R^2 for 5 epochs.\n",
      "--- Epoch 17/500 ---\n"
     ]
    },
    {
     "data": {
      "application/vnd.jupyter.widget-view+json": {
       "model_id": "",
       "version_major": 2,
       "version_minor": 0
      },
      "text/plain": [
       "Training:   0%|          | 0/9 [00:00<?, ?it/s]"
      ]
     },
     "metadata": {},
     "output_type": "display_data"
    },
    {
     "data": {
      "application/vnd.jupyter.widget-view+json": {
       "model_id": "",
       "version_major": 2,
       "version_minor": 0
      },
      "text/plain": [
       "Validation:   0%|          | 0/1 [00:00<?, ?it/s]"
      ]
     },
     "metadata": {},
     "output_type": "display_data"
    },
    {
     "name": "stdout",
     "output_type": "stream",
     "text": [
      "Epoch 17: Train Loss=518.6981 RMSE=0.0152 R2=0.1227 | Val Loss=2603.2144 RMSE=0.0148 R2=0.1678\n",
      "New best validation R^2: 0.1678\n",
      "Saved new best model to /home/jupyter/MLC-Project/training_runs/NYC_UHINetCNN_20250430_022023/model_best.pth.tar\n",
      "--- Epoch 18/500 ---\n"
     ]
    },
    {
     "data": {
      "application/vnd.jupyter.widget-view+json": {
       "model_id": "",
       "version_major": 2,
       "version_minor": 0
      },
      "text/plain": [
       "Training:   0%|          | 0/9 [00:00<?, ?it/s]"
      ]
     },
     "metadata": {},
     "output_type": "display_data"
    },
    {
     "data": {
      "application/vnd.jupyter.widget-view+json": {
       "model_id": "",
       "version_major": 2,
       "version_minor": 0
      },
      "text/plain": [
       "Validation:   0%|          | 0/1 [00:00<?, ?it/s]"
      ]
     },
     "metadata": {},
     "output_type": "display_data"
    },
    {
     "name": "stdout",
     "output_type": "stream",
     "text": [
      "Epoch 18: Train Loss=544.8151 RMSE=0.0155 R2=0.0785 | Val Loss=2575.1655 RMSE=0.0147 R2=0.1768\n",
      "New best validation R^2: 0.1768\n",
      "Saved new best model to /home/jupyter/MLC-Project/training_runs/NYC_UHINetCNN_20250430_022023/model_best.pth.tar\n",
      "--- Epoch 19/500 ---\n"
     ]
    },
    {
     "data": {
      "application/vnd.jupyter.widget-view+json": {
       "model_id": "",
       "version_major": 2,
       "version_minor": 0
      },
      "text/plain": [
       "Training:   0%|          | 0/9 [00:00<?, ?it/s]"
      ]
     },
     "metadata": {},
     "output_type": "display_data"
    },
    {
     "data": {
      "application/vnd.jupyter.widget-view+json": {
       "model_id": "",
       "version_major": 2,
       "version_minor": 0
      },
      "text/plain": [
       "Validation:   0%|          | 0/1 [00:00<?, ?it/s]"
      ]
     },
     "metadata": {},
     "output_type": "display_data"
    },
    {
     "name": "stdout",
     "output_type": "stream",
     "text": [
      "Epoch 19: Train Loss=507.7743 RMSE=0.0150 R2=0.1411 | Val Loss=2620.6755 RMSE=0.0149 R2=0.1622\n",
      "No improvement in validation R^2 for 1 epochs.\n",
      "--- Epoch 20/500 ---\n"
     ]
    },
    {
     "data": {
      "application/vnd.jupyter.widget-view+json": {
       "model_id": "",
       "version_major": 2,
       "version_minor": 0
      },
      "text/plain": [
       "Training:   0%|          | 0/9 [00:00<?, ?it/s]"
      ]
     },
     "metadata": {},
     "output_type": "display_data"
    },
    {
     "data": {
      "application/vnd.jupyter.widget-view+json": {
       "model_id": "",
       "version_major": 2,
       "version_minor": 0
      },
      "text/plain": [
       "Validation:   0%|          | 0/1 [00:00<?, ?it/s]"
      ]
     },
     "metadata": {},
     "output_type": "display_data"
    },
    {
     "name": "stdout",
     "output_type": "stream",
     "text": [
      "Epoch 20: Train Loss=503.7513 RMSE=0.0149 R2=0.1479 | Val Loss=2610.5540 RMSE=0.0148 R2=0.1655\n",
      "No improvement in validation R^2 for 2 epochs.\n",
      "--- Epoch 21/500 ---\n"
     ]
    },
    {
     "data": {
      "application/vnd.jupyter.widget-view+json": {
       "model_id": "",
       "version_major": 2,
       "version_minor": 0
      },
      "text/plain": [
       "Training:   0%|          | 0/9 [00:00<?, ?it/s]"
      ]
     },
     "metadata": {},
     "output_type": "display_data"
    },
    {
     "data": {
      "application/vnd.jupyter.widget-view+json": {
       "model_id": "",
       "version_major": 2,
       "version_minor": 0
      },
      "text/plain": [
       "Validation:   0%|          | 0/1 [00:00<?, ?it/s]"
      ]
     },
     "metadata": {},
     "output_type": "display_data"
    },
    {
     "name": "stdout",
     "output_type": "stream",
     "text": [
      "Epoch 21: Train Loss=527.9740 RMSE=0.0153 R2=0.1070 | Val Loss=2656.1699 RMSE=0.0150 R2=0.1509\n",
      "No improvement in validation R^2 for 3 epochs.\n",
      "--- Epoch 22/500 ---\n"
     ]
    },
    {
     "data": {
      "application/vnd.jupyter.widget-view+json": {
       "model_id": "",
       "version_major": 2,
       "version_minor": 0
      },
      "text/plain": [
       "Training:   0%|          | 0/9 [00:00<?, ?it/s]"
      ]
     },
     "metadata": {},
     "output_type": "display_data"
    },
    {
     "data": {
      "application/vnd.jupyter.widget-view+json": {
       "model_id": "",
       "version_major": 2,
       "version_minor": 0
      },
      "text/plain": [
       "Validation:   0%|          | 0/1 [00:00<?, ?it/s]"
      ]
     },
     "metadata": {},
     "output_type": "display_data"
    },
    {
     "name": "stdout",
     "output_type": "stream",
     "text": [
      "Epoch 22: Train Loss=468.0458 RMSE=0.0144 R2=0.2083 | Val Loss=2524.9971 RMSE=0.0146 R2=0.1928\n",
      "New best validation R^2: 0.1928\n",
      "Saved new best model to /home/jupyter/MLC-Project/training_runs/NYC_UHINetCNN_20250430_022023/model_best.pth.tar\n",
      "--- Epoch 23/500 ---\n"
     ]
    },
    {
     "data": {
      "application/vnd.jupyter.widget-view+json": {
       "model_id": "",
       "version_major": 2,
       "version_minor": 0
      },
      "text/plain": [
       "Training:   0%|          | 0/9 [00:00<?, ?it/s]"
      ]
     },
     "metadata": {},
     "output_type": "display_data"
    },
    {
     "data": {
      "application/vnd.jupyter.widget-view+json": {
       "model_id": "",
       "version_major": 2,
       "version_minor": 0
      },
      "text/plain": [
       "Validation:   0%|          | 0/1 [00:00<?, ?it/s]"
      ]
     },
     "metadata": {},
     "output_type": "display_data"
    },
    {
     "name": "stdout",
     "output_type": "stream",
     "text": [
      "Epoch 23: Train Loss=470.5060 RMSE=0.0144 R2=0.2042 | Val Loss=2646.7505 RMSE=0.0150 R2=0.1539\n",
      "No improvement in validation R^2 for 1 epochs.\n",
      "--- Epoch 24/500 ---\n"
     ]
    },
    {
     "data": {
      "application/vnd.jupyter.widget-view+json": {
       "model_id": "",
       "version_major": 2,
       "version_minor": 0
      },
      "text/plain": [
       "Training:   0%|          | 0/9 [00:00<?, ?it/s]"
      ]
     },
     "metadata": {},
     "output_type": "display_data"
    },
    {
     "data": {
      "application/vnd.jupyter.widget-view+json": {
       "model_id": "",
       "version_major": 2,
       "version_minor": 0
      },
      "text/plain": [
       "Validation:   0%|          | 0/1 [00:00<?, ?it/s]"
      ]
     },
     "metadata": {},
     "output_type": "display_data"
    },
    {
     "name": "stdout",
     "output_type": "stream",
     "text": [
      "Epoch 24: Train Loss=470.8963 RMSE=0.0144 R2=0.2035 | Val Loss=2551.9546 RMSE=0.0147 R2=0.1842\n",
      "No improvement in validation R^2 for 2 epochs.\n",
      "--- Epoch 25/500 ---\n"
     ]
    },
    {
     "data": {
      "application/vnd.jupyter.widget-view+json": {
       "model_id": "",
       "version_major": 2,
       "version_minor": 0
      },
      "text/plain": [
       "Training:   0%|          | 0/9 [00:00<?, ?it/s]"
      ]
     },
     "metadata": {},
     "output_type": "display_data"
    },
    {
     "data": {
      "application/vnd.jupyter.widget-view+json": {
       "model_id": "",
       "version_major": 2,
       "version_minor": 0
      },
      "text/plain": [
       "Validation:   0%|          | 0/1 [00:00<?, ?it/s]"
      ]
     },
     "metadata": {},
     "output_type": "display_data"
    },
    {
     "name": "stdout",
     "output_type": "stream",
     "text": [
      "Epoch 25: Train Loss=428.7389 RMSE=0.0138 R2=0.2748 | Val Loss=2549.7131 RMSE=0.0147 R2=0.1849\n",
      "No improvement in validation R^2 for 3 epochs.\n",
      "--- Epoch 26/500 ---\n"
     ]
    },
    {
     "data": {
      "application/vnd.jupyter.widget-view+json": {
       "model_id": "",
       "version_major": 2,
       "version_minor": 0
      },
      "text/plain": [
       "Training:   0%|          | 0/9 [00:00<?, ?it/s]"
      ]
     },
     "metadata": {},
     "output_type": "display_data"
    },
    {
     "data": {
      "application/vnd.jupyter.widget-view+json": {
       "model_id": "",
       "version_major": 2,
       "version_minor": 0
      },
      "text/plain": [
       "Validation:   0%|          | 0/1 [00:00<?, ?it/s]"
      ]
     },
     "metadata": {},
     "output_type": "display_data"
    },
    {
     "name": "stdout",
     "output_type": "stream",
     "text": [
      "Epoch 26: Train Loss=479.1599 RMSE=0.0146 R2=0.1895 | Val Loss=2494.6724 RMSE=0.0145 R2=0.2025\n",
      "New best validation R^2: 0.2025\n",
      "Saved new best model to /home/jupyter/MLC-Project/training_runs/NYC_UHINetCNN_20250430_022023/model_best.pth.tar\n",
      "--- Epoch 27/500 ---\n"
     ]
    },
    {
     "data": {
      "application/vnd.jupyter.widget-view+json": {
       "model_id": "",
       "version_major": 2,
       "version_minor": 0
      },
      "text/plain": [
       "Training:   0%|          | 0/9 [00:00<?, ?it/s]"
      ]
     },
     "metadata": {},
     "output_type": "display_data"
    },
    {
     "data": {
      "application/vnd.jupyter.widget-view+json": {
       "model_id": "",
       "version_major": 2,
       "version_minor": 0
      },
      "text/plain": [
       "Validation:   0%|          | 0/1 [00:00<?, ?it/s]"
      ]
     },
     "metadata": {},
     "output_type": "display_data"
    },
    {
     "name": "stdout",
     "output_type": "stream",
     "text": [
      "Epoch 27: Train Loss=462.3014 RMSE=0.0143 R2=0.2181 | Val Loss=2327.6934 RMSE=0.0140 R2=0.2559\n",
      "New best validation R^2: 0.2559\n",
      "Saved new best model to /home/jupyter/MLC-Project/training_runs/NYC_UHINetCNN_20250430_022023/model_best.pth.tar\n",
      "--- Epoch 28/500 ---\n"
     ]
    },
    {
     "data": {
      "application/vnd.jupyter.widget-view+json": {
       "model_id": "",
       "version_major": 2,
       "version_minor": 0
      },
      "text/plain": [
       "Training:   0%|          | 0/9 [00:00<?, ?it/s]"
      ]
     },
     "metadata": {},
     "output_type": "display_data"
    },
    {
     "data": {
      "application/vnd.jupyter.widget-view+json": {
       "model_id": "",
       "version_major": 2,
       "version_minor": 0
      },
      "text/plain": [
       "Validation:   0%|          | 0/1 [00:00<?, ?it/s]"
      ]
     },
     "metadata": {},
     "output_type": "display_data"
    },
    {
     "name": "stdout",
     "output_type": "stream",
     "text": [
      "Epoch 28: Train Loss=441.2404 RMSE=0.0140 R2=0.2537 | Val Loss=2539.5195 RMSE=0.0146 R2=0.1882\n",
      "No improvement in validation R^2 for 1 epochs.\n",
      "--- Epoch 29/500 ---\n"
     ]
    },
    {
     "data": {
      "application/vnd.jupyter.widget-view+json": {
       "model_id": "",
       "version_major": 2,
       "version_minor": 0
      },
      "text/plain": [
       "Training:   0%|          | 0/9 [00:00<?, ?it/s]"
      ]
     },
     "metadata": {},
     "output_type": "display_data"
    },
    {
     "data": {
      "application/vnd.jupyter.widget-view+json": {
       "model_id": "",
       "version_major": 2,
       "version_minor": 0
      },
      "text/plain": [
       "Validation:   0%|          | 0/1 [00:00<?, ?it/s]"
      ]
     },
     "metadata": {},
     "output_type": "display_data"
    },
    {
     "name": "stdout",
     "output_type": "stream",
     "text": [
      "Epoch 29: Train Loss=445.1794 RMSE=0.0140 R2=0.2470 | Val Loss=2350.2019 RMSE=0.0141 R2=0.2487\n",
      "No improvement in validation R^2 for 2 epochs.\n",
      "--- Epoch 30/500 ---\n"
     ]
    },
    {
     "data": {
      "application/vnd.jupyter.widget-view+json": {
       "model_id": "",
       "version_major": 2,
       "version_minor": 0
      },
      "text/plain": [
       "Training:   0%|          | 0/9 [00:00<?, ?it/s]"
      ]
     },
     "metadata": {},
     "output_type": "display_data"
    },
    {
     "data": {
      "application/vnd.jupyter.widget-view+json": {
       "model_id": "",
       "version_major": 2,
       "version_minor": 0
      },
      "text/plain": [
       "Validation:   0%|          | 0/1 [00:00<?, ?it/s]"
      ]
     },
     "metadata": {},
     "output_type": "display_data"
    },
    {
     "name": "stdout",
     "output_type": "stream",
     "text": [
      "Epoch 30: Train Loss=471.6626 RMSE=0.0145 R2=0.2022 | Val Loss=2426.2075 RMSE=0.0143 R2=0.2244\n",
      "No improvement in validation R^2 for 3 epochs.\n",
      "--- Epoch 31/500 ---\n"
     ]
    },
    {
     "data": {
      "application/vnd.jupyter.widget-view+json": {
       "model_id": "",
       "version_major": 2,
       "version_minor": 0
      },
      "text/plain": [
       "Training:   0%|          | 0/9 [00:00<?, ?it/s]"
      ]
     },
     "metadata": {},
     "output_type": "display_data"
    },
    {
     "data": {
      "application/vnd.jupyter.widget-view+json": {
       "model_id": "",
       "version_major": 2,
       "version_minor": 0
      },
      "text/plain": [
       "Validation:   0%|          | 0/1 [00:00<?, ?it/s]"
      ]
     },
     "metadata": {},
     "output_type": "display_data"
    },
    {
     "name": "stdout",
     "output_type": "stream",
     "text": [
      "Epoch 31: Train Loss=444.9828 RMSE=0.0140 R2=0.2474 | Val Loss=2549.3318 RMSE=0.0147 R2=0.1850\n",
      "No improvement in validation R^2 for 4 epochs.\n",
      "--- Epoch 32/500 ---\n"
     ]
    },
    {
     "data": {
      "application/vnd.jupyter.widget-view+json": {
       "model_id": "",
       "version_major": 2,
       "version_minor": 0
      },
      "text/plain": [
       "Training:   0%|          | 0/9 [00:00<?, ?it/s]"
      ]
     },
     "metadata": {},
     "output_type": "display_data"
    },
    {
     "data": {
      "application/vnd.jupyter.widget-view+json": {
       "model_id": "",
       "version_major": 2,
       "version_minor": 0
      },
      "text/plain": [
       "Validation:   0%|          | 0/1 [00:00<?, ?it/s]"
      ]
     },
     "metadata": {},
     "output_type": "display_data"
    },
    {
     "name": "stdout",
     "output_type": "stream",
     "text": [
      "Epoch 32: Train Loss=454.2806 RMSE=0.0142 R2=0.2316 | Val Loss=2284.2578 RMSE=0.0139 R2=0.2698\n",
      "New best validation R^2: 0.2698\n",
      "Saved new best model to /home/jupyter/MLC-Project/training_runs/NYC_UHINetCNN_20250430_022023/model_best.pth.tar\n",
      "--- Epoch 33/500 ---\n"
     ]
    },
    {
     "data": {
      "application/vnd.jupyter.widget-view+json": {
       "model_id": "",
       "version_major": 2,
       "version_minor": 0
      },
      "text/plain": [
       "Training:   0%|          | 0/9 [00:00<?, ?it/s]"
      ]
     },
     "metadata": {},
     "output_type": "display_data"
    },
    {
     "data": {
      "application/vnd.jupyter.widget-view+json": {
       "model_id": "",
       "version_major": 2,
       "version_minor": 0
      },
      "text/plain": [
       "Validation:   0%|          | 0/1 [00:00<?, ?it/s]"
      ]
     },
     "metadata": {},
     "output_type": "display_data"
    },
    {
     "name": "stdout",
     "output_type": "stream",
     "text": [
      "Epoch 33: Train Loss=442.3483 RMSE=0.0140 R2=0.2518 | Val Loss=2414.1567 RMSE=0.0143 R2=0.2282\n",
      "No improvement in validation R^2 for 1 epochs.\n",
      "--- Epoch 34/500 ---\n"
     ]
    },
    {
     "data": {
      "application/vnd.jupyter.widget-view+json": {
       "model_id": "",
       "version_major": 2,
       "version_minor": 0
      },
      "text/plain": [
       "Training:   0%|          | 0/9 [00:00<?, ?it/s]"
      ]
     },
     "metadata": {},
     "output_type": "display_data"
    },
    {
     "data": {
      "application/vnd.jupyter.widget-view+json": {
       "model_id": "",
       "version_major": 2,
       "version_minor": 0
      },
      "text/plain": [
       "Validation:   0%|          | 0/1 [00:00<?, ?it/s]"
      ]
     },
     "metadata": {},
     "output_type": "display_data"
    },
    {
     "name": "stdout",
     "output_type": "stream",
     "text": [
      "Epoch 34: Train Loss=478.2115 RMSE=0.0146 R2=0.1911 | Val Loss=2426.7026 RMSE=0.0143 R2=0.2242\n",
      "No improvement in validation R^2 for 2 epochs.\n",
      "--- Epoch 35/500 ---\n"
     ]
    },
    {
     "data": {
      "application/vnd.jupyter.widget-view+json": {
       "model_id": "",
       "version_major": 2,
       "version_minor": 0
      },
      "text/plain": [
       "Training:   0%|          | 0/9 [00:00<?, ?it/s]"
      ]
     },
     "metadata": {},
     "output_type": "display_data"
    },
    {
     "data": {
      "application/vnd.jupyter.widget-view+json": {
       "model_id": "",
       "version_major": 2,
       "version_minor": 0
      },
      "text/plain": [
       "Validation:   0%|          | 0/1 [00:00<?, ?it/s]"
      ]
     },
     "metadata": {},
     "output_type": "display_data"
    },
    {
     "name": "stdout",
     "output_type": "stream",
     "text": [
      "Epoch 35: Train Loss=457.2233 RMSE=0.0142 R2=0.2266 | Val Loss=2224.4580 RMSE=0.0137 R2=0.2889\n",
      "New best validation R^2: 0.2889\n",
      "Saved new best model to /home/jupyter/MLC-Project/training_runs/NYC_UHINetCNN_20250430_022023/model_best.pth.tar\n",
      "--- Epoch 36/500 ---\n"
     ]
    },
    {
     "data": {
      "application/vnd.jupyter.widget-view+json": {
       "model_id": "",
       "version_major": 2,
       "version_minor": 0
      },
      "text/plain": [
       "Training:   0%|          | 0/9 [00:00<?, ?it/s]"
      ]
     },
     "metadata": {},
     "output_type": "display_data"
    },
    {
     "data": {
      "application/vnd.jupyter.widget-view+json": {
       "model_id": "",
       "version_major": 2,
       "version_minor": 0
      },
      "text/plain": [
       "Validation:   0%|          | 0/1 [00:00<?, ?it/s]"
      ]
     },
     "metadata": {},
     "output_type": "display_data"
    },
    {
     "name": "stdout",
     "output_type": "stream",
     "text": [
      "Epoch 36: Train Loss=430.4526 RMSE=0.0138 R2=0.2719 | Val Loss=2388.2051 RMSE=0.0142 R2=0.2365\n",
      "No improvement in validation R^2 for 1 epochs.\n",
      "--- Epoch 37/500 ---\n"
     ]
    },
    {
     "data": {
      "application/vnd.jupyter.widget-view+json": {
       "model_id": "",
       "version_major": 2,
       "version_minor": 0
      },
      "text/plain": [
       "Training:   0%|          | 0/9 [00:00<?, ?it/s]"
      ]
     },
     "metadata": {},
     "output_type": "display_data"
    },
    {
     "data": {
      "application/vnd.jupyter.widget-view+json": {
       "model_id": "",
       "version_major": 2,
       "version_minor": 0
      },
      "text/plain": [
       "Validation:   0%|          | 0/1 [00:00<?, ?it/s]"
      ]
     },
     "metadata": {},
     "output_type": "display_data"
    },
    {
     "name": "stdout",
     "output_type": "stream",
     "text": [
      "Epoch 37: Train Loss=424.3486 RMSE=0.0137 R2=0.2823 | Val Loss=2329.2456 RMSE=0.0140 R2=0.2554\n",
      "No improvement in validation R^2 for 2 epochs.\n",
      "--- Epoch 38/500 ---\n"
     ]
    },
    {
     "data": {
      "application/vnd.jupyter.widget-view+json": {
       "model_id": "",
       "version_major": 2,
       "version_minor": 0
      },
      "text/plain": [
       "Training:   0%|          | 0/9 [00:00<?, ?it/s]"
      ]
     },
     "metadata": {},
     "output_type": "display_data"
    },
    {
     "data": {
      "application/vnd.jupyter.widget-view+json": {
       "model_id": "",
       "version_major": 2,
       "version_minor": 0
      },
      "text/plain": [
       "Validation:   0%|          | 0/1 [00:00<?, ?it/s]"
      ]
     },
     "metadata": {},
     "output_type": "display_data"
    },
    {
     "name": "stdout",
     "output_type": "stream",
     "text": [
      "Epoch 38: Train Loss=444.7784 RMSE=0.0140 R2=0.2477 | Val Loss=2322.1597 RMSE=0.0140 R2=0.2577\n",
      "No improvement in validation R^2 for 3 epochs.\n",
      "--- Epoch 39/500 ---\n"
     ]
    },
    {
     "data": {
      "application/vnd.jupyter.widget-view+json": {
       "model_id": "",
       "version_major": 2,
       "version_minor": 0
      },
      "text/plain": [
       "Training:   0%|          | 0/9 [00:00<?, ?it/s]"
      ]
     },
     "metadata": {},
     "output_type": "display_data"
    },
    {
     "data": {
      "application/vnd.jupyter.widget-view+json": {
       "model_id": "",
       "version_major": 2,
       "version_minor": 0
      },
      "text/plain": [
       "Validation:   0%|          | 0/1 [00:00<?, ?it/s]"
      ]
     },
     "metadata": {},
     "output_type": "display_data"
    },
    {
     "name": "stdout",
     "output_type": "stream",
     "text": [
      "Epoch 39: Train Loss=442.9476 RMSE=0.0140 R2=0.2508 | Val Loss=2306.8652 RMSE=0.0140 R2=0.2625\n",
      "No improvement in validation R^2 for 4 epochs.\n",
      "--- Epoch 40/500 ---\n"
     ]
    },
    {
     "data": {
      "application/vnd.jupyter.widget-view+json": {
       "model_id": "",
       "version_major": 2,
       "version_minor": 0
      },
      "text/plain": [
       "Training:   0%|          | 0/9 [00:00<?, ?it/s]"
      ]
     },
     "metadata": {},
     "output_type": "display_data"
    },
    {
     "data": {
      "application/vnd.jupyter.widget-view+json": {
       "model_id": "",
       "version_major": 2,
       "version_minor": 0
      },
      "text/plain": [
       "Validation:   0%|          | 0/1 [00:00<?, ?it/s]"
      ]
     },
     "metadata": {},
     "output_type": "display_data"
    },
    {
     "name": "stdout",
     "output_type": "stream",
     "text": [
      "Epoch 40: Train Loss=463.1776 RMSE=0.0143 R2=0.2166 | Val Loss=2428.4136 RMSE=0.0143 R2=0.2237\n",
      "No improvement in validation R^2 for 5 epochs.\n",
      "--- Epoch 41/500 ---\n"
     ]
    },
    {
     "data": {
      "application/vnd.jupyter.widget-view+json": {
       "model_id": "",
       "version_major": 2,
       "version_minor": 0
      },
      "text/plain": [
       "Training:   0%|          | 0/9 [00:00<?, ?it/s]"
      ]
     },
     "metadata": {},
     "output_type": "display_data"
    },
    {
     "data": {
      "application/vnd.jupyter.widget-view+json": {
       "model_id": "",
       "version_major": 2,
       "version_minor": 0
      },
      "text/plain": [
       "Validation:   0%|          | 0/1 [00:00<?, ?it/s]"
      ]
     },
     "metadata": {},
     "output_type": "display_data"
    },
    {
     "name": "stdout",
     "output_type": "stream",
     "text": [
      "Epoch 41: Train Loss=449.8522 RMSE=0.0141 R2=0.2391 | Val Loss=2418.5312 RMSE=0.0143 R2=0.2269\n",
      "No improvement in validation R^2 for 6 epochs.\n",
      "--- Epoch 42/500 ---\n"
     ]
    },
    {
     "data": {
      "application/vnd.jupyter.widget-view+json": {
       "model_id": "",
       "version_major": 2,
       "version_minor": 0
      },
      "text/plain": [
       "Training:   0%|          | 0/9 [00:00<?, ?it/s]"
      ]
     },
     "metadata": {},
     "output_type": "display_data"
    },
    {
     "data": {
      "application/vnd.jupyter.widget-view+json": {
       "model_id": "",
       "version_major": 2,
       "version_minor": 0
      },
      "text/plain": [
       "Validation:   0%|          | 0/1 [00:00<?, ?it/s]"
      ]
     },
     "metadata": {},
     "output_type": "display_data"
    },
    {
     "name": "stdout",
     "output_type": "stream",
     "text": [
      "Epoch 42: Train Loss=411.7442 RMSE=0.0135 R2=0.3036 | Val Loss=2499.1460 RMSE=0.0145 R2=0.2011\n",
      "No improvement in validation R^2 for 7 epochs.\n",
      "--- Epoch 43/500 ---\n"
     ]
    },
    {
     "data": {
      "application/vnd.jupyter.widget-view+json": {
       "model_id": "",
       "version_major": 2,
       "version_minor": 0
      },
      "text/plain": [
       "Training:   0%|          | 0/9 [00:00<?, ?it/s]"
      ]
     },
     "metadata": {},
     "output_type": "display_data"
    },
    {
     "data": {
      "application/vnd.jupyter.widget-view+json": {
       "model_id": "",
       "version_major": 2,
       "version_minor": 0
      },
      "text/plain": [
       "Validation:   0%|          | 0/1 [00:00<?, ?it/s]"
      ]
     },
     "metadata": {},
     "output_type": "display_data"
    },
    {
     "name": "stdout",
     "output_type": "stream",
     "text": [
      "Epoch 43: Train Loss=399.8607 RMSE=0.0133 R2=0.3237 | Val Loss=2479.8770 RMSE=0.0145 R2=0.2072\n",
      "No improvement in validation R^2 for 8 epochs.\n",
      "--- Epoch 44/500 ---\n"
     ]
    },
    {
     "data": {
      "application/vnd.jupyter.widget-view+json": {
       "model_id": "",
       "version_major": 2,
       "version_minor": 0
      },
      "text/plain": [
       "Training:   0%|          | 0/9 [00:00<?, ?it/s]"
      ]
     },
     "metadata": {},
     "output_type": "display_data"
    },
    {
     "data": {
      "application/vnd.jupyter.widget-view+json": {
       "model_id": "",
       "version_major": 2,
       "version_minor": 0
      },
      "text/plain": [
       "Validation:   0%|          | 0/1 [00:00<?, ?it/s]"
      ]
     },
     "metadata": {},
     "output_type": "display_data"
    },
    {
     "name": "stdout",
     "output_type": "stream",
     "text": [
      "Epoch 44: Train Loss=410.2854 RMSE=0.0135 R2=0.3060 | Val Loss=2315.1528 RMSE=0.0140 R2=0.2599\n",
      "No improvement in validation R^2 for 9 epochs.\n",
      "--- Epoch 45/500 ---\n"
     ]
    },
    {
     "data": {
      "application/vnd.jupyter.widget-view+json": {
       "model_id": "",
       "version_major": 2,
       "version_minor": 0
      },
      "text/plain": [
       "Training:   0%|          | 0/9 [00:00<?, ?it/s]"
      ]
     },
     "metadata": {},
     "output_type": "display_data"
    },
    {
     "data": {
      "application/vnd.jupyter.widget-view+json": {
       "model_id": "",
       "version_major": 2,
       "version_minor": 0
      },
      "text/plain": [
       "Validation:   0%|          | 0/1 [00:00<?, ?it/s]"
      ]
     },
     "metadata": {},
     "output_type": "display_data"
    },
    {
     "name": "stdout",
     "output_type": "stream",
     "text": [
      "Epoch 45: Train Loss=414.6050 RMSE=0.0136 R2=0.2987 | Val Loss=2449.3984 RMSE=0.0144 R2=0.2170\n",
      "No improvement in validation R^2 for 10 epochs.\n",
      "--- Epoch 46/500 ---\n"
     ]
    },
    {
     "data": {
      "application/vnd.jupyter.widget-view+json": {
       "model_id": "",
       "version_major": 2,
       "version_minor": 0
      },
      "text/plain": [
       "Training:   0%|          | 0/9 [00:00<?, ?it/s]"
      ]
     },
     "metadata": {},
     "output_type": "display_data"
    },
    {
     "data": {
      "application/vnd.jupyter.widget-view+json": {
       "model_id": "",
       "version_major": 2,
       "version_minor": 0
      },
      "text/plain": [
       "Validation:   0%|          | 0/1 [00:00<?, ?it/s]"
      ]
     },
     "metadata": {},
     "output_type": "display_data"
    },
    {
     "name": "stdout",
     "output_type": "stream",
     "text": [
      "Epoch 46: Train Loss=407.1415 RMSE=0.0134 R2=0.3114 | Val Loss=2324.5986 RMSE=0.0140 R2=0.2569\n",
      "No improvement in validation R^2 for 11 epochs.\n",
      "--- Epoch 47/500 ---\n"
     ]
    },
    {
     "data": {
      "application/vnd.jupyter.widget-view+json": {
       "model_id": "",
       "version_major": 2,
       "version_minor": 0
      },
      "text/plain": [
       "Training:   0%|          | 0/9 [00:00<?, ?it/s]"
      ]
     },
     "metadata": {},
     "output_type": "display_data"
    },
    {
     "data": {
      "application/vnd.jupyter.widget-view+json": {
       "model_id": "",
       "version_major": 2,
       "version_minor": 0
      },
      "text/plain": [
       "Validation:   0%|          | 0/1 [00:00<?, ?it/s]"
      ]
     },
     "metadata": {},
     "output_type": "display_data"
    },
    {
     "name": "stdout",
     "output_type": "stream",
     "text": [
      "Epoch 47: Train Loss=418.0928 RMSE=0.0136 R2=0.2928 | Val Loss=2296.6802 RMSE=0.0139 R2=0.2658\n",
      "No improvement in validation R^2 for 12 epochs.\n",
      "--- Epoch 48/500 ---\n"
     ]
    },
    {
     "data": {
      "application/vnd.jupyter.widget-view+json": {
       "model_id": "",
       "version_major": 2,
       "version_minor": 0
      },
      "text/plain": [
       "Training:   0%|          | 0/9 [00:00<?, ?it/s]"
      ]
     },
     "metadata": {},
     "output_type": "display_data"
    },
    {
     "data": {
      "application/vnd.jupyter.widget-view+json": {
       "model_id": "",
       "version_major": 2,
       "version_minor": 0
      },
      "text/plain": [
       "Validation:   0%|          | 0/1 [00:00<?, ?it/s]"
      ]
     },
     "metadata": {},
     "output_type": "display_data"
    },
    {
     "name": "stdout",
     "output_type": "stream",
     "text": [
      "Epoch 48: Train Loss=408.4152 RMSE=0.0135 R2=0.3092 | Val Loss=2232.5806 RMSE=0.0137 R2=0.2863\n",
      "No improvement in validation R^2 for 13 epochs.\n",
      "--- Epoch 49/500 ---\n"
     ]
    },
    {
     "data": {
      "application/vnd.jupyter.widget-view+json": {
       "model_id": "",
       "version_major": 2,
       "version_minor": 0
      },
      "text/plain": [
       "Training:   0%|          | 0/9 [00:00<?, ?it/s]"
      ]
     },
     "metadata": {},
     "output_type": "display_data"
    },
    {
     "data": {
      "application/vnd.jupyter.widget-view+json": {
       "model_id": "",
       "version_major": 2,
       "version_minor": 0
      },
      "text/plain": [
       "Validation:   0%|          | 0/1 [00:00<?, ?it/s]"
      ]
     },
     "metadata": {},
     "output_type": "display_data"
    },
    {
     "name": "stdout",
     "output_type": "stream",
     "text": [
      "Epoch 49: Train Loss=435.4211 RMSE=0.0139 R2=0.2635 | Val Loss=2421.5137 RMSE=0.0143 R2=0.2259\n",
      "No improvement in validation R^2 for 14 epochs.\n",
      "--- Epoch 50/500 ---\n"
     ]
    },
    {
     "data": {
      "application/vnd.jupyter.widget-view+json": {
       "model_id": "",
       "version_major": 2,
       "version_minor": 0
      },
      "text/plain": [
       "Training:   0%|          | 0/9 [00:00<?, ?it/s]"
      ]
     },
     "metadata": {},
     "output_type": "display_data"
    },
    {
     "data": {
      "application/vnd.jupyter.widget-view+json": {
       "model_id": "",
       "version_major": 2,
       "version_minor": 0
      },
      "text/plain": [
       "Validation:   0%|          | 0/1 [00:00<?, ?it/s]"
      ]
     },
     "metadata": {},
     "output_type": "display_data"
    },
    {
     "name": "stdout",
     "output_type": "stream",
     "text": [
      "Epoch 50: Train Loss=410.9728 RMSE=0.0135 R2=0.3049 | Val Loss=2342.7922 RMSE=0.0141 R2=0.2511\n",
      "No improvement in validation R^2 for 15 epochs.\n",
      "--- Epoch 51/500 ---\n"
     ]
    },
    {
     "data": {
      "application/vnd.jupyter.widget-view+json": {
       "model_id": "",
       "version_major": 2,
       "version_minor": 0
      },
      "text/plain": [
       "Training:   0%|          | 0/9 [00:00<?, ?it/s]"
      ]
     },
     "metadata": {},
     "output_type": "display_data"
    },
    {
     "data": {
      "application/vnd.jupyter.widget-view+json": {
       "model_id": "",
       "version_major": 2,
       "version_minor": 0
      },
      "text/plain": [
       "Validation:   0%|          | 0/1 [00:00<?, ?it/s]"
      ]
     },
     "metadata": {},
     "output_type": "display_data"
    },
    {
     "name": "stdout",
     "output_type": "stream",
     "text": [
      "Epoch 51: Train Loss=396.1234 RMSE=0.0132 R2=0.3300 | Val Loss=2319.4458 RMSE=0.0140 R2=0.2585\n",
      "No improvement in validation R^2 for 16 epochs.\n",
      "--- Epoch 52/500 ---\n"
     ]
    },
    {
     "data": {
      "application/vnd.jupyter.widget-view+json": {
       "model_id": "",
       "version_major": 2,
       "version_minor": 0
      },
      "text/plain": [
       "Training:   0%|          | 0/9 [00:00<?, ?it/s]"
      ]
     },
     "metadata": {},
     "output_type": "display_data"
    },
    {
     "data": {
      "application/vnd.jupyter.widget-view+json": {
       "model_id": "",
       "version_major": 2,
       "version_minor": 0
      },
      "text/plain": [
       "Validation:   0%|          | 0/1 [00:00<?, ?it/s]"
      ]
     },
     "metadata": {},
     "output_type": "display_data"
    },
    {
     "name": "stdout",
     "output_type": "stream",
     "text": [
      "Epoch 52: Train Loss=408.7001 RMSE=0.0135 R2=0.3087 | Val Loss=2257.1326 RMSE=0.0138 R2=0.2784\n",
      "No improvement in validation R^2 for 17 epochs.\n",
      "--- Epoch 53/500 ---\n"
     ]
    },
    {
     "data": {
      "application/vnd.jupyter.widget-view+json": {
       "model_id": "",
       "version_major": 2,
       "version_minor": 0
      },
      "text/plain": [
       "Training:   0%|          | 0/9 [00:00<?, ?it/s]"
      ]
     },
     "metadata": {},
     "output_type": "display_data"
    },
    {
     "data": {
      "application/vnd.jupyter.widget-view+json": {
       "model_id": "",
       "version_major": 2,
       "version_minor": 0
      },
      "text/plain": [
       "Validation:   0%|          | 0/1 [00:00<?, ?it/s]"
      ]
     },
     "metadata": {},
     "output_type": "display_data"
    },
    {
     "name": "stdout",
     "output_type": "stream",
     "text": [
      "Epoch 53: Train Loss=404.9494 RMSE=0.0134 R2=0.3151 | Val Loss=2173.5132 RMSE=0.0135 R2=0.3052\n",
      "New best validation R^2: 0.3052\n",
      "Saved new best model to /home/jupyter/MLC-Project/training_runs/NYC_UHINetCNN_20250430_022023/model_best.pth.tar\n",
      "--- Epoch 54/500 ---\n"
     ]
    },
    {
     "data": {
      "application/vnd.jupyter.widget-view+json": {
       "model_id": "",
       "version_major": 2,
       "version_minor": 0
      },
      "text/plain": [
       "Training:   0%|          | 0/9 [00:00<?, ?it/s]"
      ]
     },
     "metadata": {},
     "output_type": "display_data"
    },
    {
     "data": {
      "application/vnd.jupyter.widget-view+json": {
       "model_id": "",
       "version_major": 2,
       "version_minor": 0
      },
      "text/plain": [
       "Validation:   0%|          | 0/1 [00:00<?, ?it/s]"
      ]
     },
     "metadata": {},
     "output_type": "display_data"
    },
    {
     "name": "stdout",
     "output_type": "stream",
     "text": [
      "Epoch 54: Train Loss=401.8049 RMSE=0.0133 R2=0.3204 | Val Loss=2168.5771 RMSE=0.0135 R2=0.3068\n",
      "New best validation R^2: 0.3068\n",
      "Saved new best model to /home/jupyter/MLC-Project/training_runs/NYC_UHINetCNN_20250430_022023/model_best.pth.tar\n",
      "--- Epoch 55/500 ---\n"
     ]
    },
    {
     "data": {
      "application/vnd.jupyter.widget-view+json": {
       "model_id": "",
       "version_major": 2,
       "version_minor": 0
      },
      "text/plain": [
       "Training:   0%|          | 0/9 [00:00<?, ?it/s]"
      ]
     },
     "metadata": {},
     "output_type": "display_data"
    },
    {
     "data": {
      "application/vnd.jupyter.widget-view+json": {
       "model_id": "",
       "version_major": 2,
       "version_minor": 0
      },
      "text/plain": [
       "Validation:   0%|          | 0/1 [00:00<?, ?it/s]"
      ]
     },
     "metadata": {},
     "output_type": "display_data"
    },
    {
     "name": "stdout",
     "output_type": "stream",
     "text": [
      "Epoch 55: Train Loss=405.4725 RMSE=0.0134 R2=0.3142 | Val Loss=2231.9050 RMSE=0.0137 R2=0.2865\n",
      "No improvement in validation R^2 for 1 epochs.\n",
      "--- Epoch 56/500 ---\n"
     ]
    },
    {
     "data": {
      "application/vnd.jupyter.widget-view+json": {
       "model_id": "",
       "version_major": 2,
       "version_minor": 0
      },
      "text/plain": [
       "Training:   0%|          | 0/9 [00:00<?, ?it/s]"
      ]
     },
     "metadata": {},
     "output_type": "display_data"
    },
    {
     "data": {
      "application/vnd.jupyter.widget-view+json": {
       "model_id": "",
       "version_major": 2,
       "version_minor": 0
      },
      "text/plain": [
       "Validation:   0%|          | 0/1 [00:00<?, ?it/s]"
      ]
     },
     "metadata": {},
     "output_type": "display_data"
    },
    {
     "name": "stdout",
     "output_type": "stream",
     "text": [
      "Epoch 56: Train Loss=403.3150 RMSE=0.0134 R2=0.3178 | Val Loss=2223.2856 RMSE=0.0137 R2=0.2893\n",
      "No improvement in validation R^2 for 2 epochs.\n",
      "--- Epoch 57/500 ---\n"
     ]
    },
    {
     "data": {
      "application/vnd.jupyter.widget-view+json": {
       "model_id": "",
       "version_major": 2,
       "version_minor": 0
      },
      "text/plain": [
       "Training:   0%|          | 0/9 [00:00<?, ?it/s]"
      ]
     },
     "metadata": {},
     "output_type": "display_data"
    },
    {
     "data": {
      "application/vnd.jupyter.widget-view+json": {
       "model_id": "",
       "version_major": 2,
       "version_minor": 0
      },
      "text/plain": [
       "Validation:   0%|          | 0/1 [00:00<?, ?it/s]"
      ]
     },
     "metadata": {},
     "output_type": "display_data"
    },
    {
     "name": "stdout",
     "output_type": "stream",
     "text": [
      "Epoch 57: Train Loss=400.8580 RMSE=0.0133 R2=0.3220 | Val Loss=2148.3550 RMSE=0.0135 R2=0.3132\n",
      "New best validation R^2: 0.3132\n",
      "Saved new best model to /home/jupyter/MLC-Project/training_runs/NYC_UHINetCNN_20250430_022023/model_best.pth.tar\n",
      "--- Epoch 58/500 ---\n"
     ]
    },
    {
     "data": {
      "application/vnd.jupyter.widget-view+json": {
       "model_id": "",
       "version_major": 2,
       "version_minor": 0
      },
      "text/plain": [
       "Training:   0%|          | 0/9 [00:00<?, ?it/s]"
      ]
     },
     "metadata": {},
     "output_type": "display_data"
    },
    {
     "data": {
      "application/vnd.jupyter.widget-view+json": {
       "model_id": "",
       "version_major": 2,
       "version_minor": 0
      },
      "text/plain": [
       "Validation:   0%|          | 0/1 [00:00<?, ?it/s]"
      ]
     },
     "metadata": {},
     "output_type": "display_data"
    },
    {
     "name": "stdout",
     "output_type": "stream",
     "text": [
      "Epoch 58: Train Loss=409.2723 RMSE=0.0135 R2=0.3078 | Val Loss=2235.0488 RMSE=0.0137 R2=0.2855\n",
      "No improvement in validation R^2 for 1 epochs.\n",
      "--- Epoch 59/500 ---\n"
     ]
    },
    {
     "data": {
      "application/vnd.jupyter.widget-view+json": {
       "model_id": "",
       "version_major": 2,
       "version_minor": 0
      },
      "text/plain": [
       "Training:   0%|          | 0/9 [00:00<?, ?it/s]"
      ]
     },
     "metadata": {},
     "output_type": "display_data"
    },
    {
     "data": {
      "application/vnd.jupyter.widget-view+json": {
       "model_id": "",
       "version_major": 2,
       "version_minor": 0
      },
      "text/plain": [
       "Validation:   0%|          | 0/1 [00:00<?, ?it/s]"
      ]
     },
     "metadata": {},
     "output_type": "display_data"
    },
    {
     "name": "stdout",
     "output_type": "stream",
     "text": [
      "Epoch 59: Train Loss=384.8003 RMSE=0.0131 R2=0.3491 | Val Loss=2198.5828 RMSE=0.0136 R2=0.2972\n",
      "No improvement in validation R^2 for 2 epochs.\n",
      "--- Epoch 60/500 ---\n"
     ]
    },
    {
     "data": {
      "application/vnd.jupyter.widget-view+json": {
       "model_id": "",
       "version_major": 2,
       "version_minor": 0
      },
      "text/plain": [
       "Training:   0%|          | 0/9 [00:00<?, ?it/s]"
      ]
     },
     "metadata": {},
     "output_type": "display_data"
    },
    {
     "data": {
      "application/vnd.jupyter.widget-view+json": {
       "model_id": "",
       "version_major": 2,
       "version_minor": 0
      },
      "text/plain": [
       "Validation:   0%|          | 0/1 [00:00<?, ?it/s]"
      ]
     },
     "metadata": {},
     "output_type": "display_data"
    },
    {
     "name": "stdout",
     "output_type": "stream",
     "text": [
      "Epoch 60: Train Loss=389.9614 RMSE=0.0131 R2=0.3404 | Val Loss=2279.2603 RMSE=0.0139 R2=0.2714\n",
      "No improvement in validation R^2 for 3 epochs.\n",
      "--- Epoch 61/500 ---\n"
     ]
    },
    {
     "data": {
      "application/vnd.jupyter.widget-view+json": {
       "model_id": "",
       "version_major": 2,
       "version_minor": 0
      },
      "text/plain": [
       "Training:   0%|          | 0/9 [00:00<?, ?it/s]"
      ]
     },
     "metadata": {},
     "output_type": "display_data"
    },
    {
     "data": {
      "application/vnd.jupyter.widget-view+json": {
       "model_id": "",
       "version_major": 2,
       "version_minor": 0
      },
      "text/plain": [
       "Validation:   0%|          | 0/1 [00:00<?, ?it/s]"
      ]
     },
     "metadata": {},
     "output_type": "display_data"
    },
    {
     "name": "stdout",
     "output_type": "stream",
     "text": [
      "Epoch 61: Train Loss=372.8433 RMSE=0.0129 R2=0.3694 | Val Loss=2147.8916 RMSE=0.0135 R2=0.3134\n",
      "New best validation R^2: 0.3134\n",
      "Saved new best model to /home/jupyter/MLC-Project/training_runs/NYC_UHINetCNN_20250430_022023/model_best.pth.tar\n",
      "--- Epoch 62/500 ---\n"
     ]
    },
    {
     "data": {
      "application/vnd.jupyter.widget-view+json": {
       "model_id": "",
       "version_major": 2,
       "version_minor": 0
      },
      "text/plain": [
       "Training:   0%|          | 0/9 [00:00<?, ?it/s]"
      ]
     },
     "metadata": {},
     "output_type": "display_data"
    },
    {
     "data": {
      "application/vnd.jupyter.widget-view+json": {
       "model_id": "",
       "version_major": 2,
       "version_minor": 0
      },
      "text/plain": [
       "Validation:   0%|          | 0/1 [00:00<?, ?it/s]"
      ]
     },
     "metadata": {},
     "output_type": "display_data"
    },
    {
     "name": "stdout",
     "output_type": "stream",
     "text": [
      "Epoch 62: Train Loss=395.7443 RMSE=0.0132 R2=0.3306 | Val Loss=2265.1760 RMSE=0.0138 R2=0.2759\n",
      "No improvement in validation R^2 for 1 epochs.\n",
      "--- Epoch 63/500 ---\n"
     ]
    },
    {
     "data": {
      "application/vnd.jupyter.widget-view+json": {
       "model_id": "",
       "version_major": 2,
       "version_minor": 0
      },
      "text/plain": [
       "Training:   0%|          | 0/9 [00:00<?, ?it/s]"
      ]
     },
     "metadata": {},
     "output_type": "display_data"
    },
    {
     "data": {
      "application/vnd.jupyter.widget-view+json": {
       "model_id": "",
       "version_major": 2,
       "version_minor": 0
      },
      "text/plain": [
       "Validation:   0%|          | 0/1 [00:00<?, ?it/s]"
      ]
     },
     "metadata": {},
     "output_type": "display_data"
    },
    {
     "name": "stdout",
     "output_type": "stream",
     "text": [
      "Epoch 63: Train Loss=400.1942 RMSE=0.0133 R2=0.3231 | Val Loss=2058.2993 RMSE=0.0132 R2=0.3420\n",
      "New best validation R^2: 0.3420\n",
      "Saved new best model to /home/jupyter/MLC-Project/training_runs/NYC_UHINetCNN_20250430_022023/model_best.pth.tar\n",
      "--- Epoch 64/500 ---\n"
     ]
    },
    {
     "data": {
      "application/vnd.jupyter.widget-view+json": {
       "model_id": "",
       "version_major": 2,
       "version_minor": 0
      },
      "text/plain": [
       "Training:   0%|          | 0/9 [00:00<?, ?it/s]"
      ]
     },
     "metadata": {},
     "output_type": "display_data"
    },
    {
     "data": {
      "application/vnd.jupyter.widget-view+json": {
       "model_id": "",
       "version_major": 2,
       "version_minor": 0
      },
      "text/plain": [
       "Validation:   0%|          | 0/1 [00:00<?, ?it/s]"
      ]
     },
     "metadata": {},
     "output_type": "display_data"
    },
    {
     "name": "stdout",
     "output_type": "stream",
     "text": [
      "Epoch 64: Train Loss=398.6981 RMSE=0.0133 R2=0.3256 | Val Loss=2196.8345 RMSE=0.0136 R2=0.2977\n",
      "No improvement in validation R^2 for 1 epochs.\n",
      "--- Epoch 65/500 ---\n"
     ]
    },
    {
     "data": {
      "application/vnd.jupyter.widget-view+json": {
       "model_id": "",
       "version_major": 2,
       "version_minor": 0
      },
      "text/plain": [
       "Training:   0%|          | 0/9 [00:00<?, ?it/s]"
      ]
     },
     "metadata": {},
     "output_type": "display_data"
    },
    {
     "data": {
      "application/vnd.jupyter.widget-view+json": {
       "model_id": "",
       "version_major": 2,
       "version_minor": 0
      },
      "text/plain": [
       "Validation:   0%|          | 0/1 [00:00<?, ?it/s]"
      ]
     },
     "metadata": {},
     "output_type": "display_data"
    },
    {
     "name": "stdout",
     "output_type": "stream",
     "text": [
      "Epoch 65: Train Loss=398.6484 RMSE=0.0133 R2=0.3257 | Val Loss=2213.2070 RMSE=0.0137 R2=0.2925\n",
      "No improvement in validation R^2 for 2 epochs.\n",
      "--- Epoch 66/500 ---\n"
     ]
    },
    {
     "data": {
      "application/vnd.jupyter.widget-view+json": {
       "model_id": "",
       "version_major": 2,
       "version_minor": 0
      },
      "text/plain": [
       "Training:   0%|          | 0/9 [00:00<?, ?it/s]"
      ]
     },
     "metadata": {},
     "output_type": "display_data"
    },
    {
     "data": {
      "application/vnd.jupyter.widget-view+json": {
       "model_id": "",
       "version_major": 2,
       "version_minor": 0
      },
      "text/plain": [
       "Validation:   0%|          | 0/1 [00:00<?, ?it/s]"
      ]
     },
     "metadata": {},
     "output_type": "display_data"
    },
    {
     "name": "stdout",
     "output_type": "stream",
     "text": [
      "Epoch 66: Train Loss=405.5837 RMSE=0.0134 R2=0.3140 | Val Loss=2122.1089 RMSE=0.0134 R2=0.3216\n",
      "No improvement in validation R^2 for 3 epochs.\n"
     ]
    }
   ],
   "source": [
    "# %% Model Initialization (CNN Model + Common Resampling)\n",
    "\n",
    "# Instantiate the UHINetCNN\n",
    "print(f\"Initializing {config['model_type']}...\")\n",
    "model = UHINetCNN(\n",
    "    # --- Input Feature Config --- #\n",
    "    feature_flags=config[\"feature_flags\"],\n",
    "    weather_channels=config[\"weather_channels\"],\n",
    "    sentinel_bands_to_load=config.get(\"sentinel_bands_to_load\"),\n",
    "    # Clay Specific\n",
    "    clay_model_size=config.get(\"clay_model_size\"),\n",
    "    clay_bands=config.get(\"clay_bands\"),\n",
    "    clay_platform=config.get(\"clay_platform\"),\n",
    "    clay_gsd=config.get(\"clay_gsd\"),\n",
    "    freeze_backbone=config.get(\"freeze_backbone\", True),\n",
    "    clay_checkpoint_path=config.get(\"clay_checkpoint_path\"),\n",
    "    clay_metadata_path=config.get(\"clay_metadata_path\"),\n",
    "    # --- CNN Backbone Config --- #\n",
    "    base_channels=config[\"unet_base_channels\"], # Corrected key\n",
    "    depth=config[\"unet_depth\"],             # Corrected key\n",
    ")\n",
    "\n",
    "model.to(config[\"device\"])\n",
    "\n",
    "# --- Optimizer ---\n",
    "optimizer = optim.AdamW(model.parameters(), lr=config[\"lr\"], weight_decay=config[\"weight_decay\"])\n",
    "\n",
    "# --- Loss Function ---\n",
    "if config[\"loss_type\"] == 'mse':\n",
    "    loss_fn = masked_mse_loss\n",
    "elif config[\"loss_type\"] == 'mae':\n",
    "    loss_fn = masked_mae_loss\n",
    "else:\n",
    "    raise ValueError(f\"Unsupported loss type: {config['loss_type']}\")\n",
    "\n",
    "print(\"Model, optimizer, and loss function initialized.\")\n",
    "# print(model) # Optional: Print model summary\n"
   ]
  },
  {
   "cell_type": "code",
   "execution_count": null,
   "id": "e3405883-756d-4db5-9864-7e1852b45d58",
   "metadata": {},
   "outputs": [],
   "source": []
  },
  {
   "cell_type": "code",
   "execution_count": null,
   "id": "a7c46204",
   "metadata": {},
   "outputs": [],
   "source": [
    "# %% Training Loop (Generic - Use for both CNN and Branched)\n",
    "\n",
    "# --- Imports ---\n",
    "import time\n",
    "from datetime import datetime\n",
    "import json\n",
    "from pathlib import Path\n",
    "# from torch.cuda.amp import GradScaler # Removed GradScaler import\n",
    "import src.train.train_utils as train_utils # Import the full module\n",
    "import numpy as np # Added for isnan check\n",
    "import pandas as pd # For saving log\n",
    "\n",
    "# --- Setup ---\n",
    "print(f\"Model {config['model_type']} initialized on {device}\")\n",
    "\n",
    "# --- Optimizer and Loss (should be initialized in model setup cell) ---\n",
    "# Ensure optimizer and loss_fn are accessible from the previous cell's scope\n",
    "if 'optimizer' not in locals() or 'loss_fn' not in locals():\n",
    "    raise NameError(\"Optimizer or loss_fn not defined. Run the model initialization cell.\")\n",
    "\n",
    "# --- AMP GradScaler --- #\n",
    "# scaler = GradScaler() # Removed scaler initialization\n",
    "\n",
    "# --- Tracking Variables --- #\n",
    "best_val_r2 = -float('inf') # Using R2 for checkpointing\n",
    "epochs_no_improve = 0\n",
    "last_saved_epoch = -1 # Track last saved epoch\n",
    "\n",
    "# --- Output Directory & Run Name (should be set in config cell) --- #\n",
    "# Ensure output_dir is a Path object if loaded from config str\n",
    "if 'output_dir_base' not in locals() or 'run_name' not in locals(): # Check if base dir and run name were set\n",
    "     run_timestamp = datetime.now().strftime('%Y%m%d_%H%M%S')\n",
    "     run_name = f\"{config.get('wander_run_name_prefix', 'train')}_{run_timestamp}\"\n",
    "     output_dir_base = Path(config.get('project_root', '.')) / \"training_runs\"\n",
    "     output_dir = output_dir_base / run_name\n",
    "     output_dir.mkdir(parents=True, exist_ok=True)\n",
    "     config[\"output_dir\"] = str(output_dir) # Update config\n",
    "else:\n",
    "    output_dir = Path(config[\"output_dir\"])\n",
    "print(f\"Checkpoints and logs will be saved to: {output_dir}\")\n",
    "\n",
    "# --- Retrieve UHI Stats from Config --- #\n",
    "uhi_mean = config.get('uhi_mean')\n",
    "uhi_std = config.get('uhi_std')\n",
    "if uhi_mean is None or uhi_std is None:\n",
    "    raise ValueError(\"uhi_mean/uhi_std not in config. Run data loading cell.\")\n",
    "print(f\"Using Training UHI Mean: {uhi_mean:.4f}, Std Dev: {uhi_std:.4f}\")\n",
    "\n",
    "# --- WANDB Init --- #\n",
    "if wandb:\n",
    "    try:\n",
    "        if wandb.run is not None: wandb.finish() # Finish previous run if any\n",
    "        wandb.init(\n",
    "            project=config[\"wandb_project_name\"],\n",
    "            name=run_name,\n",
    "            config=config\n",
    "        )\n",
    "        print(f\"Wandb initialized for run: {run_name}\")\n",
    "    except Exception as e:\n",
    "        print(f\"Wandb initialization failed: {e}\")\n",
    "        wandb = None\n",
    "else:\n",
    "    print(\"Wandb not available, skipping logging.\")\n",
    "\n",
    "# --- Training Loop --- # \n",
    "print(f\"Starting {config['model_type']} training...\")\n",
    "training_start_time = time.time()\n",
    "training_log = [] # Local log\n",
    "epoch = -1 # Initialize epoch counter before the loop\n",
    "\n",
    "try:\n",
    "    # Use epoch range from config\n",
    "    for epoch in range(config[\"epochs\"]):\n",
    "        epoch_start_time = time.time()\n",
    "        print(f\"--- Epoch {epoch+1}/{config['epochs']} ---\")\n",
    "\n",
    "        # --- Train --- #\n",
    "        if train_loader:\n",
    "            # Use generic train function from train_utils (without scaler)\n",
    "            train_loss, train_rmse, train_r2 = train_utils.train_epoch_generic(\n",
    "                model, train_loader, optimizer, loss_fn, device, uhi_mean, uhi_std # Removed scaler\n",
    "            )\n",
    "            print(f\"Train Loss: {train_loss:.4f}, Train RMSE: {train_rmse:.4f}, Train R2: {train_r2:.4f}\")\n",
    "            if np.isnan(train_loss):\n",
    "                print(\"Warning: Training loss is NaN. Stopping training.\")\n",
    "                break\n",
    "            log_metrics = {\"epoch\": epoch + 1, \"train_loss\": train_loss, \"train_rmse\": train_rmse, \"train_r2\": train_r2}\n",
    "        else:\n",
    "            print(\"Skipping training: train_loader is None.\")\n",
    "            train_loss, train_rmse, train_r2 = float('nan'), float('nan'), float('nan')\n",
    "            log_metrics = {\"epoch\": epoch + 1, \"train_loss\": train_loss, \"train_rmse\": train_rmse, \"train_r2\": train_r2}\n",
    "        \n",
    "        # Log train metrics AFTER checking for NaN\n",
    "        if wandb:\n",
    "            wandb.log(log_metrics)\n",
    "        training_log.append(log_metrics) # Append to local log regardless of W&B\n",
    "\n",
    "\n",
    "        # --- Validate --- #\n",
    "        if val_loader:\n",
    "            # Use generic validate function from train_utils\n",
    "            val_loss, val_rmse, val_r2 = train_utils.validate_epoch_generic(\n",
    "                model, val_loader, loss_fn, device, uhi_mean, uhi_std\n",
    "            )\n",
    "            print(f\"Val Loss:   {val_loss:.4f}, Val RMSE:   {val_rmse:.4f}, Val R2:   {val_r2:.4f}\")\n",
    "            if np.isnan(val_r2):\n",
    "                print(\"Warning: Validation R^2 is NaN. Cannot determine improvement. Stopping training.\")\n",
    "                break\n",
    "            val_metrics = {\"val_loss\": val_loss, \"val_rmse\": val_rmse, \"val_r2\": val_r2}\n",
    "            log_metrics.update(val_metrics) # Add val metrics for local log\n",
    "            if wandb:\n",
    "                wandb.log({\"epoch\": epoch + 1, **val_metrics}) # Log validation metrics too\n",
    "\n",
    "            # --- Checkpointing & Early Stopping (based on Validation R2) --- #\n",
    "            is_best = val_r2 > best_val_r2\n",
    "            if is_best:\n",
    "                print(f\"Validation R2 improved from {best_val_r2:.4f} to {val_r2:.4f}\")\n",
    "                best_val_r2 = val_r2\n",
    "                epochs_no_improve = 0\n",
    "                last_saved_epoch = epoch + 1\n",
    "                # Use save_checkpoint from train_utils\n",
    "                train_utils.save_checkpoint({\n",
    "                    'epoch': epoch + 1,\n",
    "                    'state_dict': model.state_dict(),\n",
    "                    'optimizer': optimizer.state_dict(),\n",
    "                    'best_val_r2': best_val_r2,\n",
    "                    'config': config # Save full config dict\n",
    "                }, is_best=True, output_dir=output_dir)\n",
    "            else:\n",
    "                epochs_no_improve += 1\n",
    "                print(f\"Validation R2 did not improve ({val_r2:.4f}). Best: {best_val_r2:.4f}. No improvement for {epochs_no_improve} epochs.\")\n",
    "\n",
    "            if epochs_no_improve >= config['patience']:\n",
    "                print(f\"Early stopping triggered after {epochs_no_improve} epochs.\")\n",
    "                break\n",
    "        else:\n",
    "            print(\"Skipping validation/checkpointing: val_loader is None.\")\n",
    "            # Always save last checkpoint if no validation\n",
    "            train_utils.save_checkpoint({\n",
    "                'epoch': epoch + 1,\n",
    "                'state_dict': model.state_dict(),\n",
    "                'optimizer': optimizer.state_dict(),\n",
    "                'best_val_r2': best_val_r2, # Save current best R2 seen (which is -inf if no val)\n",
    "                'config': config\n",
    "            }, is_best=False, output_dir=output_dir, filename='checkpoint_last.pth.tar')\n",
    "            last_saved_epoch = epoch + 1 # Update tracker\n",
    "\n",
    "        # --- Epoch Timing --- #\n",
    "        epoch_duration = time.time() - epoch_start_time\n",
    "        print(f\"Epoch {epoch+1} duration: {epoch_duration:.2f} seconds\")\n",
    "        if wandb:\n",
    "            wandb.log({\"epoch\": epoch + 1, \"epoch_duration_sec\": epoch_duration})\n",
    "\n",
    "finally:\n",
    "    # --- End Training Actions (Executed even if loop breaks early) --- #\n",
    "    training_duration = time.time() - training_start_time\n",
    "    print(f\"\\nTotal training time: {training_duration / 60:.2f} minutes\")\n",
    "\n",
    "    # --- Save Final Checkpoint --- #\n",
    "    # Use the state from the last *completed* epoch (before potential break)\n",
    "    final_epoch_num = epoch + 1 # This will be correct whether the loop finished or broke\n",
    "    print(f\"Saving final model state from epoch {final_epoch_num}...\")\n",
    "    try:\n",
    "        train_utils.save_checkpoint({\n",
    "            'epoch': final_epoch_num,\n",
    "            'state_dict': model.state_dict(),\n",
    "            'optimizer': optimizer.state_dict(),\n",
    "            'best_val_r2': best_val_r2,\n",
    "            'config': config\n",
    "        }, is_best=False, output_dir=output_dir, filename='checkpoint_final.pth.tar')\n",
    "        print(f\"Final checkpoint saved to {output_dir / 'checkpoint_final.pth.tar'}\")\n",
    "    except Exception as e:\n",
    "        print(f\"Error saving final checkpoint: {e}\")\n",
    "\n",
    "    # --- Save Local Training Log --- #\n",
    "    if training_log:\n",
    "        try:\n",
    "            log_df = pd.DataFrame(training_log)\n",
    "            log_df.to_csv(output_dir / 'training_log.csv', index=False)\n",
    "            print(f\"Saved local training log to {output_dir / 'training_log.csv'}\")\n",
    "        except Exception as e:\n",
    "            print(f\"Warning: Failed to save local training log: {e}\")\n",
    "    else:\n",
    "        print(\"No training log data to save.\")\n",
    "\n",
    "\n",
    "    if wandb and wandb.run: # Check if wandb run exists before logging/finishing\n",
    "        wandb.log({\"total_training_time_min\": training_duration / 60})\n",
    "        wandb.finish()\n",
    "        print(\"W&B run finished.\")\n",
    "\n",
    "    print(\"Training loop finished.\")\n",
    "    if val_loader:\n",
    "        print(f\"Best validation R^2 recorded: {best_val_r2:.4f} (achieved at epoch {last_saved_epoch if last_saved_epoch > 0 else 'N/A'})\")\n",
    "    if last_saved_epoch > 0:\n",
    "         print(f\"Best model checkpoint saved in: {output_dir / 'model_best.pth.tar'}\")\n"
   ]
  }
 ],
 "metadata": {
  "environment": {
   "kernel": "conda-base-py",
   "name": "workbench-notebooks.m129",
   "type": "gcloud",
   "uri": "us-docker.pkg.dev/deeplearning-platform-release/gcr.io/workbench-notebooks:m129"
  },
  "kernelspec": {
   "display_name": "Python 3",
   "language": "python",
   "name": "python3"
  },
  "language_info": {
   "codemirror_mode": {
    "name": "ipython",
    "version": 3
   },
   "file_extension": ".py",
   "mimetype": "text/x-python",
   "name": "python",
   "nbconvert_exporter": "python",
   "pygments_lexer": "ipython3",
   "version": "3.12.7"
  }
 },
 "nbformat": 4,
 "nbformat_minor": 5
}
