{
 "cells": [
  {
   "cell_type": "code",
   "execution_count": 1,
   "id": "97feb2c0",
   "metadata": {
    "tags": []
   },
   "outputs": [],
   "source": [
    "# %% Setup & Imports\n",
    "\n",
    "import sys\n",
    "import os\n",
    "import pandas as pd\n",
    "import numpy as np\n",
    "import json\n",
    "import matplotlib.pyplot as plt\n",
    "from pathlib import Path\n",
    "from datetime import datetime\n",
    "import logging\n",
    "import torch\n",
    "import torch.nn as nn\n",
    "import torch.optim as optim\n",
    "from torch.utils.data import DataLoader, random_split, Subset # MODIFIED: Added Subset\n",
    "from tqdm import tqdm\n",
    "import math\n",
    "import shutil # For checkpoint saving\n",
    "\n",
    "# Add the project root to the Python path\n",
    "project_root = Path(os.getcwd()).parent # Assumes notebook is in 'notebooks' subdir\n",
    "sys.path.insert(0, str(project_root))\n",
    "\n",
    "# --- Import Model Components ---\n",
    "from src.model import UHINetCNN # Import the CNN model\n",
    "from src.ingest.dataloader_cnn import CityDataSet # MODIFIED: Import the updated dataloader\n",
    "\n",
    "# --- Import Training Utilities & Loss --- ### MODIFIED ###\n",
    "from src.train.loss import masked_mse_loss, masked_mae_loss # Import loss functions\n",
    "import src.train.train_utils as train_utils # Import the new utility module\n",
    "\n",
    "# Setup logging\n",
    "logging.basicConfig(level=logging.INFO, format='%(asctime)s - %(levelname)s - %(message)s')\n",
    "\n",
    "# Optionally import wandb if needed\n",
    "try:\n",
    "    import wandb\n",
    "except ImportError:\n",
    "    print(\"wandb not installed, skipping W&B logging.\")\n",
    "    wandb = None\n",
    "\n",
    "# Import necessary metrics\n",
    "from sklearn.metrics import mean_squared_error, r2_score"
   ]
  },
  {
   "cell_type": "code",
   "execution_count": 6,
   "id": "860c52a0-0d4b-4e3e-a2fc-363a45e9abc1",
   "metadata": {
    "tags": []
   },
   "outputs": [],
   "source": [
    "### UNCOMMENT ON FIRST RUN IF USING Clay\n",
    "#!wget -q https://huggingface.co/made-with-clay/Clay/resolve/main/v1.5/clay-v1.5.ckpt"
   ]
  },
  {
   "cell_type": "markdown",
   "id": "14e727ff",
   "metadata": {},
   "source": [
    "## Configuration\n",
    "\n",
    "Set up paths and hyperparameters."
   ]
  },
  {
   "cell_type": "code",
   "execution_count": 10,
   "id": "bca486df",
   "metadata": {
    "tags": []
   },
   "outputs": [
    {
     "name": "stdout",
     "output_type": "stream",
     "text": [
      "Using device: cuda\n"
     ]
    },
    {
     "ename": "TypeError",
     "evalue": "check_path() got an unexpected keyword argument 'is_absolute'",
     "output_type": "error",
     "traceback": [
      "\u001b[0;31m---------------------------------------------------------------------------\u001b[0m",
      "\u001b[0;31mTypeError\u001b[0m                                 Traceback (most recent call last)",
      "Cell \u001b[0;32mIn[10], line 84\u001b[0m\n\u001b[1;32m     80\u001b[0m \u001b[38;5;28mprint\u001b[39m(\u001b[38;5;124mf\u001b[39m\u001b[38;5;124m\"\u001b[39m\u001b[38;5;124mUsing device: \u001b[39m\u001b[38;5;132;01m{\u001b[39;00mdevice\u001b[38;5;132;01m}\u001b[39;00m\u001b[38;5;124m\"\u001b[39m)\n\u001b[1;32m     82\u001b[0m \u001b[38;5;66;03m# --- Validate Paths (using check_path for files that *must* exist) ---\u001b[39;00m\n\u001b[1;32m     83\u001b[0m \u001b[38;5;66;03m# Ensure check_path can handle is_absolute=True or adapts for already absolute Path objects\u001b[39;00m\n\u001b[0;32m---> 84\u001b[0m uhi_csv_path \u001b[38;5;241m=\u001b[39m \u001b[43mcheck_path\u001b[49m\u001b[43m(\u001b[49m\u001b[43muhi_csv_path\u001b[49m\u001b[43m,\u001b[49m\u001b[43m \u001b[49m\u001b[43mproject_root\u001b[49m\u001b[43m,\u001b[49m\u001b[43m \u001b[49m\u001b[38;5;124;43m\"\u001b[39;49m\u001b[38;5;124;43mUHI CSV\u001b[39;49m\u001b[38;5;124;43m\"\u001b[39;49m\u001b[43m,\u001b[49m\u001b[43m \u001b[49m\u001b[43mis_absolute\u001b[49m\u001b[38;5;241;43m=\u001b[39;49m\u001b[38;5;28;43;01mTrue\u001b[39;49;00m\u001b[43m)\u001b[49m\n\u001b[1;32m     85\u001b[0m bronx_weather_csv_path \u001b[38;5;241m=\u001b[39m check_path(bronx_weather_csv_path, project_root, \u001b[38;5;124m\"\u001b[39m\u001b[38;5;124mBronx Weather CSV\u001b[39m\u001b[38;5;124m\"\u001b[39m, is_absolute\u001b[38;5;241m=\u001b[39m\u001b[38;5;28;01mTrue\u001b[39;00m)\n\u001b[1;32m     86\u001b[0m manhattan_weather_csv_path \u001b[38;5;241m=\u001b[39m check_path(manhattan_weather_csv_path, project_root, \u001b[38;5;124m\"\u001b[39m\u001b[38;5;124mManhattan Weather CSV\u001b[39m\u001b[38;5;124m\"\u001b[39m, is_absolute\u001b[38;5;241m=\u001b[39m\u001b[38;5;28;01mTrue\u001b[39;00m)\n",
      "\u001b[0;31mTypeError\u001b[0m: check_path() got an unexpected keyword argument 'is_absolute'"
     ]
    }
   ],
   "source": [
    "# %% Configuration / Hyperparameters (CNN Model + Common Resampling)\n",
    "\n",
    "# --- Import utils ---\n",
    "from src.train.train_utils import check_path # For path validation\n",
    "# -------------------\n",
    "\n",
    "# --- Paths & Basic Info ---\n",
    "# project_root is defined in the first cell\n",
    "project_root_str = str(project_root)\n",
    "data_dir = project_root / \"data\"\n",
    "city_name = \"NYC\" # Should be defined or loaded\n",
    "output_dir_base = project_root / \"training_runs\"\n",
    "\n",
    "# --- WANDB Config ---\n",
    "wandb_project_name = \"MLC_UHI_Proj\"\n",
    "wander_run_name_prefix = f\"{city_name}_UHINetCNN\"\n",
    "\n",
    "# --- Data Loading Config ---\n",
    "feature_resolution_m = 50\n",
    "uhi_grid_resolution_m = 50\n",
    "\n",
    "# --- Define Absolute Input Data Paths Directly ---\n",
    "uhi_csv_path = data_dir / city_name / \"uhi.csv\"\n",
    "bronx_weather_csv_path = data_dir / city_name / \"bronx_weather.csv\"\n",
    "manhattan_weather_csv_path = data_dir / city_name / \"manhattan_weather.csv\" # Ensure this matches actual filename\n",
    "\n",
    "dem_path = data_dir / city_name / \"sat_files\" / f\"{city_name.lower()}_dem_nasadem_native-resolution_pc.tif\"\n",
    "dsm_path = data_dir / city_name / \"sat_files\" / f\"{city_name.lower()}_dsm_cop-dem-glo-30_native-resolution_pc.tif\"\n",
    "cloudless_mosaic_path = data_dir / city_name / \"sat_files\" / f\"sentinel_{city_name}_20210601_to_20210901_cloudless_mosaic.npy\" # Added .npy\n",
    "# Assuming the LST filename structure from download_data.ipynb if it's used\n",
    "lst_time_window_str_for_filename = \"20210601_to_20210901\" # Match download_data if it defines LST filename like this\n",
    "single_lst_median_path = data_dir / city_name / \"sat_files\" / f\"lst_{city_name}_median_{lst_time_window_str_for_filename}.npy\" # Corrected and added .npy\n",
    "\n",
    "# Nodata values\n",
    "elevation_nodata = -9999.0 # Or np.nan if that's what your files use\n",
    "lst_nodata = 0.0 # Or np.nan\n",
    "\n",
    "# --- Feature Selection Flags --- #\n",
    "feature_flags = {\n",
    "    \"use_dem\": False,\n",
    "    \"use_dsm\": True,\n",
    "    \"use_clay\": True,\n",
    "    \"use_sentinel_composite\": False,\n",
    "    \"use_lst\": False, # Set to True if you intend to use LST\n",
    "    \"use_ndvi\": False,\n",
    "    \"use_ndbi\": False,\n",
    "    \"use_ndwi\": False,\n",
    "}\n",
    "\n",
    "# --- Bands for Sentinel Composite --- #\n",
    "sentinel_bands_to_load = [\"blue\", \"green\", \"red\", \"nir\", \"swir16\", \"swir22\"]\n",
    "\n",
    "# --- Model Config (UHINetCNN) ---\n",
    "clay_model_size = \"large\"\n",
    "clay_bands = [\"blue\", \"green\", \"red\", \"nir\"]\n",
    "clay_platform = \"sentinel-2-l2a\"\n",
    "clay_gsd = 10\n",
    "freeze_backbone = True\n",
    "clay_checkpoint_path = project_root / \"notebooks\" / \"clay-v1.5.ckpt\"\n",
    "clay_metadata_path = project_root / \"src\" / \"Clay\" / \"configs\" / \"metadata.yaml\"\n",
    "\n",
    "weather_channels = 6\n",
    "unet_base_channels = 64 # For UHINetCNN's U-Net like structure\n",
    "unet_depth = 4         # For UHINetCNN's U-Net like structure\n",
    "\n",
    "# --- Training Hyperparameters ---\n",
    "num_workers = 4\n",
    "epochs = 500\n",
    "lr = 5e-5\n",
    "weight_decay = 0.01\n",
    "loss_type = 'mse'\n",
    "patience = 50\n",
    "cpu = False\n",
    "n_train_batches = 9\n",
    "max_grad_norm = 1.0 # Added for consistency with branched\n",
    "warmup_epochs = 5 # Added for consistency with branched\n",
    "\n",
    "# --- Device Setup ---\n",
    "device = torch.device(\"cuda\" if torch.cuda.is_available() and not cpu else \"cpu\")\n",
    "print(f\"Using device: {device}\")\n",
    "\n",
    "# --- Validate Paths (using check_path for files that *must* exist) ---\n",
    "# Ensure check_path can handle is_absolute=True or adapts for already absolute Path objects\n",
    "uhi_csv_path = check_path(uhi_csv_path, project_root, \"UHI CSV\", is_absolute=True)\n",
    "bronx_weather_csv_path = check_path(bronx_weather_csv_path, project_root, \"Bronx Weather CSV\", is_absolute=True)\n",
    "manhattan_weather_csv_path = check_path(manhattan_weather_csv_path, project_root, \"Manhattan Weather CSV\", is_absolute=True)\n",
    "\n",
    "if feature_flags[\"use_dem\"]:\n",
    "    dem_path = check_path(dem_path, project_root, \"DEM TIF\", is_absolute=True)\n",
    "if feature_flags[\"use_dsm\"]:\n",
    "    dsm_path = check_path(dsm_path, project_root, \"DSM TIF\", is_absolute=True)\n",
    "if feature_flags[\"use_clay\"]:\n",
    "    clay_checkpoint_path = check_path(clay_checkpoint_path, project_root, \"Clay Checkpoint\", is_absolute=True)\n",
    "    clay_metadata_path = check_path(clay_metadata_path, project_root, \"Clay Metadata\", is_absolute=True)\n",
    "# Check cloudless mosaic if Clay or direct Sentinel composite is used\n",
    "if feature_flags[\"use_clay\"] or feature_flags[\"use_sentinel_composite\"]:\n",
    "    cloudless_mosaic_path = check_path(cloudless_mosaic_path, project_root, \"Cloudless Mosaic\", is_absolute=True)\n",
    "if feature_flags[\"use_lst\"]:\n",
    "    single_lst_median_path = check_path(single_lst_median_path, project_root, \"Single LST Median\", should_exist=True, is_absolute=True)\n",
    "\n",
    "\n",
    "# --- Calculate Bounds --- #\n",
    "uhi_df = pd.read_csv(uhi_csv_path) # Use the validated path\n",
    "required_cols = ['Longitude', 'Latitude']\n",
    "if not all(col in uhi_df.columns for col in required_cols):\n",
    "    raise ValueError(f\"UHI CSV must contain columns: {required_cols}\")\n",
    "bounds_list = [ # Renamed to avoid conflict if 'bounds' is a global from another notebook\n",
    "    uhi_df['Longitude'].min(),\n",
    "    uhi_df['Latitude'].min(),\n",
    "    uhi_df['Longitude'].max(),\n",
    "    uhi_df['Latitude'].max()\n",
    "]\n",
    "print(f\"Loaded bounds from {uhi_csv_path.name}: {bounds_list}\")\n",
    "\n",
    "# --- Central Config Dictionary --- #\n",
    "config = {\n",
    "    # Paths & Info\n",
    "    \"model_type\": \"UHINetCNN\", # Specific to this notebook\n",
    "    \"project_root\": project_root_str,\n",
    "    # \"run_dir\" will be added below\n",
    "    \"city_name\": city_name,\n",
    "    \"wandb_project_name\": wandb_project_name,\n",
    "    \"wander_run_name_prefix\": wander_run_name_prefix,\n",
    "    # Data Loading\n",
    "    \"feature_resolution_m\": feature_resolution_m,\n",
    "    \"uhi_grid_resolution_m\": uhi_grid_resolution_m,\n",
    "    \"uhi_csv\": str(uhi_csv_path),\n",
    "    \"bronx_weather_csv\": str(bronx_weather_csv_path),\n",
    "    \"manhattan_weather_csv\": str(manhattan_weather_csv_path),\n",
    "    \"bounds\": bounds_list, # Use the locally defined bounds_list\n",
    "    \"feature_flags\": feature_flags,\n",
    "    \"sentinel_bands_to_load\": sentinel_bands_to_load,\n",
    "    \"dem_path\": str(dem_path) if feature_flags[\"use_dem\"] else None,\n",
    "    \"dsm_path\": str(dsm_path) if feature_flags[\"use_dsm\"] else None,\n",
    "    \"elevation_nodata\": elevation_nodata,\n",
    "    \"cloudless_mosaic_path\": str(cloudless_mosaic_path) if feature_flags.get(\"use_clay\") or feature_flags.get(\"use_sentinel_composite\") else None,\n",
    "    \"single_lst_median_path\": str(single_lst_median_path) if feature_flags[\"use_lst\"] else None,\n",
    "    \"lst_nodata\": lst_nodata,\n",
    "    # Model Config (UHINetCNN specific)\n",
    "    \"weather_channels\": weather_channels, # For single weather grid input\n",
    "    \"unet_base_channels\": unet_base_channels,\n",
    "    \"unet_depth\": unet_depth,\n",
    "    # Clay specific\n",
    "    \"clay_model_size\": clay_model_size,\n",
    "    \"clay_bands\": clay_bands,\n",
    "    \"clay_platform\": clay_platform,\n",
    "    \"clay_gsd\": clay_gsd,\n",
    "    \"freeze_backbone\": freeze_backbone,\n",
    "    \"clay_checkpoint_path\": str(clay_checkpoint_path) if feature_flags[\"use_clay\"] else None,\n",
    "    \"clay_metadata_path\": str(clay_metadata_path) if feature_flags[\"use_clay\"] else None,\n",
    "    # Training Hyperparameters\n",
    "    \"n_train_batches\": n_train_batches,\n",
    "    \"num_workers\": num_workers,\n",
    "    \"epochs\": epochs,\n",
    "    \"lr\": lr,\n",
    "    \"weight_decay\": weight_decay,\n",
    "    \"loss_type\": loss_type,\n",
    "    \"patience\": patience,\n",
    "    \"max_grad_norm\": max_grad_norm, # Added\n",
    "    \"warmup_epochs\": warmup_epochs, # Added\n",
    "    \"device\": str(device)\n",
    "}\n",
    "\n",
    "# --- Create Run Directory & Update Config ---\n",
    "run_timestamp = datetime.now().strftime('%Y%m%d_%H%M%S')\n",
    "run_name_suffix = f\"{config['model_type']}_{city_name}_{run_timestamp}\"\n",
    "run_dir = output_dir_base / run_name_suffix\n",
    "run_dir.mkdir(parents=True, exist_ok=True)\n",
    "config[\"run_dir\"] = str(run_dir) # Add to config for later use\n",
    "\n",
    "print(f\"\\nRun directory: {run_dir}\")\n",
    "print(\"UHINetCNN Configuration dictionary created:\")\n",
    "print(json.dumps(config, indent=2, default=lambda x: str(x) if isinstance(x, (Path, torch.device)) else x))\n"
   ]
  },
  {
   "cell_type": "code",
   "execution_count": 8,
   "id": "9848de83-b653-4fb8-b8d4-d6adb8d8844a",
   "metadata": {
    "tags": []
   },
   "outputs": [
    {
     "name": "stderr",
     "output_type": "stream",
     "text": [
      "2025-05-06 23:48:14,353 - INFO - Target FEATURE grid size (H, W): (224, 194) @ 50m, CRS: EPSG:4326\n",
      "2025-05-06 23:48:14,354 - INFO - Target UHI grid size (H, W): (224, 194) @ 50m\n"
     ]
    },
    {
     "name": "stdout",
     "output_type": "stream",
     "text": [
      "Initializing CityDataSet (for CNN model)...\n"
     ]
    },
    {
     "name": "stderr",
     "output_type": "stream",
     "text": [
      "Precomputing UHI grids: 100%|██████████| 59/59 [00:00<00:00, 3740.39it/s]\n",
      "2025-05-06 23:48:14,422 - INFO - Loading DSM from: /home/jupyter/MLC-Project/data/NYC/sat_files/nyc_dsm_cop-dem-glo-30_native-resolution_pc.tif\n",
      "2025-05-06 23:48:14,445 - INFO - Clipping DSM to bounds: [np.float64(-73.99445667), np.float64(40.75879167), np.float64(-73.87945833), np.float64(40.85949667)]\n",
      "2025-05-06 23:48:14,446 - INFO - Opened DSM (lazy load). Native shape (approx): (1, 364, 415)\n",
      "2025-05-06 23:48:14,447 - INFO - Calculating global DSM min/max...\n",
      "2025-05-06 23:48:14,448 - INFO - Global DSM Min: -14.068702697753906, Max: 186.3260040283203\n",
      "2025-05-06 23:48:14,448 - INFO - Loading cloudless mosaic from /home/jupyter/MLC-Project/data/NYC/sat_files/sentinel_NYC_20210601_to_20210901_cloudless_mosaic.npy with memory mapping\n",
      "2025-05-06 23:48:14,449 - INFO - Loaded mosaic shape (native res): (4, 1119, 1278)\n",
      "2025-05-06 23:48:14,458 - INFO - Loaded Bronx weather data: 169 records\n",
      "2025-05-06 23:48:14,458 - INFO - Loaded Manhattan weather data: 169 records\n",
      "2025-05-06 23:48:14,460 - INFO - Computed grid cell center coordinates.\n",
      "2025-05-06 23:48:14,461 - INFO - Dataset initialized for NYC with 59 unique timestamps.\n",
      "2025-05-06 23:48:14,461 - INFO - Enabled features (flags): {\"use_dem\": false, \"use_dsm\": true, \"use_clay\": true, \"use_sentinel_composite\": false, \"use_lst\": false, \"use_ndvi\": false, \"use_ndbi\": false, \"use_ndwi\": false}\n",
      "2025-05-06 23:48:14,462 - INFO - DEM loaded: False\n",
      "2025-05-06 23:48:14,462 - INFO - DSM loaded: True\n",
      "2025-05-06 23:48:14,463 - INFO - LST loaded: False\n",
      "2025-05-06 23:48:14,463 - INFO - Mosaic loaded: True\n",
      "2025-05-06 23:48:14,464 - INFO - Calculating UHI statistics from training data...\n"
     ]
    },
    {
     "name": "stdout",
     "output_type": "stream",
     "text": [
      "Sequential dataset split: 47 training (indices 0-46), 12 validation (indices 47-58) samples.\n"
     ]
    },
    {
     "name": "stderr",
     "output_type": "stream",
     "text": [
      "Calculating stats: 100%|██████████| 47/47 [00:00<00:00, 8484.28it/s]\n",
      "2025-05-06 23:48:14,473 - INFO - Training UHI Mean: 1.0004, Std Dev: 0.0169\n",
      "2025-05-06 23:48:14,475 - INFO - Creating dataloaders...\n",
      "2025-05-06 23:48:14,475 - INFO - Using Train Batch Size: 5\n",
      "2025-05-06 23:48:14,476 - INFO - Using Validation Batch Size: 1\n",
      "2025-05-06 23:48:14,477 - INFO - Data loading setup complete.\n"
     ]
    },
    {
     "name": "stdout",
     "output_type": "stream",
     "text": [
      "Data loading and preprocessing for CNN model complete.\n"
     ]
    }
   ],
   "source": [
    "# %% Data Loading and Preprocessing (CNN Model + Common Resampling)\n",
    "\n",
    "# --- Import utils ---\n",
    "from src.train.train_utils import (\n",
    "    calculate_uhi_stats, # MODIFIED: Removed split_data as we do sequential split here\n",
    "    create_dataloaders\n",
    ")\n",
    "from torch.utils.data import Subset # Ensure Subset is imported\n",
    "# -------------------\n",
    "\n",
    "print(\"Initializing CityDataSet (for CNN model)...\")\n",
    "try:\n",
    "    # Ensure all necessary parameters from the config are passed to CityDataSet\n",
    "    dataset = CityDataSet(\n",
    "        bounds=config[\"bounds\"],\n",
    "        feature_resolution_m=config[\"feature_resolution_m\"],\n",
    "        uhi_grid_resolution_m=config[\"uhi_grid_resolution_m\"],\n",
    "        uhi_csv=absolute_uhi_csv, \n",
    "        bronx_weather_csv=absolute_bronx_weather_csv,\n",
    "        manhattan_weather_csv=absolute_manhattan_weather_csv,\n",
    "        data_dir=project_root_str, # data_dir should be project_root for this loader\n",
    "        city_name=config[\"city_name\"],\n",
    "        feature_flags=config[\"feature_flags\"],\n",
    "        sentinel_bands_to_load=config[\"sentinel_bands_to_load\"],\n",
    "        dem_path=config[\"dem_path\"],\n",
    "        dsm_path=config[\"dsm_path\"],\n",
    "        elevation_nodata=config[\"elevation_nodata\"],\n",
    "        cloudless_mosaic_path=config[\"cloudless_mosaic_path\"],\n",
    "        single_lst_median_path=config[\"single_lst_median_path\"],\n",
    "        lst_nodata=config[\"lst_nodata\"],\n",
    "        target_crs_str=config.get(\"target_crs_str\", \"EPSG:4326\") # Added optional param\n",
    "    )\n",
    "except FileNotFoundError as e:\n",
    "    print(f\"Dataset initialization failed: {e}\")\n",
    "    print(\"Ensure required data files (DEM, DSM, weather, UHI, potentially mosaic/LST) exist.\")\n",
    "    print(\"Run `notebooks/download_data.ipynb` first.\")\n",
    "    raise\n",
    "except Exception as e:\n",
    "    print(f\"Unexpected error during dataset initialization: {e}\")\n",
    "    raise\n",
    "\n",
    "# --- Sequential Train/Val Split (More common for time-series like data if order matters) ---\n",
    "val_percent = 0.20 # Example: 20% for validation\n",
    "num_samples = len(dataset)\n",
    "\n",
    "if num_samples < 2: # Check if there are enough samples for a split\n",
    "    raise ValueError(f\"Dataset has only {num_samples} samples, cannot perform train/val split.\")\n",
    "\n",
    "n_train = int(num_samples * (1 - val_percent))\n",
    "n_val = num_samples - n_train\n",
    "\n",
    "if n_train == 0 or n_val == 0: # Check if split results in empty sets\n",
    "    raise ValueError(f\"Split resulted in zero samples for train ({n_train}) or validation ({n_val}). Adjust val_percent or check dataset size.\")\n",
    "\n",
    "# Create sequential indices for train and validation\n",
    "# This assumes your UHI data is chronologically ordered if that's desired for the split\n",
    "train_indices = list(range(n_train))\n",
    "val_indices = list(range(n_train, num_samples))\n",
    "\n",
    "train_ds = Subset(dataset, train_indices)\n",
    "val_ds = Subset(dataset, val_indices)\n",
    "\n",
    "print(f\"Sequential dataset split: {len(train_ds)} training (indices 0-{n_train-1}), {len(val_ds)} validation (indices {n_train}-{num_samples-1}) samples.\")\n",
    "\n",
    "# --- Calculate UHI Mean and Std from Training Data ONLY --- #\n",
    "uhi_mean, uhi_std = calculate_uhi_stats(train_ds)\n",
    "config['uhi_mean'] = uhi_mean\n",
    "config['uhi_std'] = uhi_std\n",
    "\n",
    "# --- Create DataLoaders --- #\n",
    "train_loader, val_loader = create_dataloaders(\n",
    "    train_ds,\n",
    "    val_ds,\n",
    "    n_train_batches=config['n_train_batches'],\n",
    "    num_workers=config['num_workers'],\n",
    "    device=device # Pass device from config cell\n",
    ")\n",
    "print(\"Data loading and preprocessing for CNN model complete.\")\n"
   ]
  },
  {
   "cell_type": "code",
   "execution_count": 11,
   "id": "b2abac67",
   "metadata": {
    "tags": []
   },
   "outputs": [
    {
     "name": "stdout",
     "output_type": "stream",
     "text": [
      "Initializing UHINetCNN_CommonRes (CNN variant)...\n",
      "Manually loading checkpoint: /home/jupyter/MLC-Project/notebooks/clay-v1.5.ckpt\n",
      "Instantiating ClayMAEModule manually...\n"
     ]
    },
    {
     "name": "stderr",
     "output_type": "stream",
     "text": [
      "2025-05-06 23:52:14,411 - INFO - Loading pretrained weights from Hugging Face hub (timm/vit_large_patch14_reg4_dinov2.lvd142m)\n",
      "2025-05-06 23:52:14,520 - INFO - [timm/vit_large_patch14_reg4_dinov2.lvd142m] Safe alternative available for 'pytorch_model.bin' (as 'model.safetensors'). Loading weights using safetensors.\n"
     ]
    },
    {
     "name": "stdout",
     "output_type": "stream",
     "text": [
      "Loading state_dict manually into self.model.model...\n"
     ]
    },
    {
     "name": "stderr",
     "output_type": "stream",
     "text": [
      "2025-05-06 23:52:17,655 - INFO - Identified final encoder layer as self.model.model.proj\n",
      "2025-05-06 23:52:17,656 - INFO - Keeping Clay backbone frozen.\n",
      "2025-05-06 23:52:17,660 - INFO - ClayFeatureExtractor output channels set to: 1024\n",
      "2025-05-06 23:52:17,664 - INFO - Initialized Clay model (large), output channels: 1024\n",
      "2025-05-06 23:52:17,664 - INFO - Total calculated input channels for U-Net: 1031\n"
     ]
    },
    {
     "name": "stdout",
     "output_type": "stream",
     "text": [
      "WARNING: Overriding patch size from hparams. Using fixed patch_size = 16\n",
      "Clay model properties: model_size=large, embed_dim=1024, patch_size=16 (patch_size OVERRIDDEN)\n",
      "Normalization prepared for bands: ['blue', 'green', 'red', 'nir']\n"
     ]
    },
    {
     "name": "stderr",
     "output_type": "stream",
     "text": [
      "2025-05-06 23:52:17,919 - INFO - Initialized UNetDecoder. In channels: 1031, Base channels: 64, Depth: 4\n",
      "2025-05-06 23:52:17,921 - INFO - UHINetCNN initialized. U-Net Input Ch: 1031, Base Ch: 64, Depth: 4\n"
     ]
    },
    {
     "name": "stdout",
     "output_type": "stream",
     "text": [
      "UHINetCNN_CommonRes (CNN variant) initialized successfully.\n",
      "Optimizer (AdamW) initialized.\n",
      "Loss function set to masked_mse_loss.\n",
      "Initialized ReduceLROnPlateau scheduler.\n",
      "\n",
      "CNN Model, optimizer, loss function, and scheduler setup complete.\n"
     ]
    }
   ],
   "source": [
    "# %% Model Initialization (CNN Model + Common Resampling)\n",
    "\n",
    "# --- Import necessary components ---\n",
    "from src.model import UHINetCNN # Ensure this is the correct model for the CNN pipeline\n",
    "from src.train.loss import masked_mse_loss, masked_mae_loss\n",
    "import torch.optim as optim\n",
    "from torch.optim.lr_scheduler import ReduceLROnPlateau # Added scheduler import\n",
    "import logging # Ensure logging is imported if not already\n",
    "\n",
    "# Instantiate the UHINetCNN (or your chosen CNN model)\n",
    "print(f\"Initializing {config['model_type']} (U-net Head)...\")\n",
    "try:\n",
    "    # Ensure parameters match the UHINetCNN constructor\n",
    "    model = UHINetCNN(\n",
    "        feature_flags=config[\"feature_flags\"],\n",
    "        weather_channels=config[\"weather_channels\"], # Used for single weather grid\n",
    "        sentinel_bands_to_load=config.get(\"sentinel_bands_to_load\"),\n",
    "        clay_model_size=config.get(\"clay_model_size\"),\n",
    "        clay_bands=config.get(\"clay_bands\"),\n",
    "        clay_platform=config.get(\"clay_platform\"),\n",
    "        clay_gsd=config.get(\"clay_gsd\"),\n",
    "        freeze_backbone=config.get(\"freeze_backbone\", True),\n",
    "        clay_checkpoint_path=config.get(\"clay_checkpoint_path\"),\n",
    "        clay_metadata_path=config.get(\"clay_metadata_path\"),\n",
    "        base_channels=config[\"unet_base_channels\"], # Typically CNNs use a U-Net like backbone\n",
    "        depth=config[\"unet_depth\"],\n",
    "    )\n",
    "    model.to(config[\"device\"])\n",
    "    print(f\"{config['model_type']} (U-Net head) initialized successfully.\")\n",
    "\n",
    "except Exception as e:\n",
    "    logging.error(f\"Error initializing UHINetCNN: {e}\", exc_info=True)\n",
    "    raise # Re-raise the exception after logging\n",
    "\n",
    "# --- Optimizer --- #\n",
    "optimizer = optim.AdamW(model.parameters(), lr=config[\"lr\"], weight_decay=config[\"weight_decay\"])\n",
    "print(\"Optimizer (AdamW) initialized.\")\n",
    "\n",
    "# --- Loss Function --- #\n",
    "if config[\"loss_type\"] == 'mse':\n",
    "    loss_fn = masked_mse_loss\n",
    "    print(\"Loss function set to masked_mse_loss.\")\n",
    "elif config[\"loss_type\"] == 'mae':\n",
    "    loss_fn = masked_mae_loss\n",
    "    print(\"Loss function set to masked_mae_loss.\")\n",
    "else:\n",
    "    raise ValueError(f\"Unsupported loss type: {config['loss_type']}\")\n",
    "\n",
    "# --- LR Scheduler --- #\n",
    "# Ensure scheduler is defined, even if None, for the training loop\n",
    "scheduler = None \n",
    "if config.get(\"patience\"): # Check if patience is set for scheduler\n",
    "    try:\n",
    "        scheduler = ReduceLROnPlateau(optimizer, 'min', patience=config.get(\"scheduler_patience\", 10), factor=0.5)\n",
    "        print(\"Initialized ReduceLROnPlateau scheduler.\")\n",
    "    except Exception as e:\n",
    "        logging.error(f\"Error initializing scheduler: {e}\", exc_info=True)\n",
    "        print(\"Proceeding without LR scheduler due to initialization error.\")\n",
    "else:\n",
    "    print(\"Patience not set in config, proceeding without LR scheduler.\")\n",
    "\n",
    "print(\"\\nCNN Model, optimizer, loss function, and scheduler setup complete.\")\n",
    "# print(model) # Optional: Print model summary\n"
   ]
  },
  {
   "cell_type": "code",
   "execution_count": null,
   "id": "ab087292-f6cb-4c31-8db0-6ae9bb6223f7",
   "metadata": {
    "tags": []
   },
   "outputs": [
    {
     "name": "stdout",
     "output_type": "stream",
     "text": [
      "Model UHINetCNN initialized on cuda\n",
      "Checkpoints and logs will be saved to: /home/jupyter/MLC-Project/training_runs/NYC_UHINetCNN_20250430_022023\n",
      "Using Training UHI Mean: 1.0004, Std Dev: 0.0162 for normalization.\n"
     ]
    },
    {
     "name": "stderr",
     "output_type": "stream",
     "text": [
      "\u001b[34m\u001b[1mwandb\u001b[0m: \u001b[32m\u001b[41mERROR\u001b[0m Failed to detect the name of this notebook. You can set it manually with the WANDB_NOTEBOOK_NAME environment variable to enable code saving.\n",
      "\u001b[34m\u001b[1mwandb\u001b[0m: Currently logged in as: \u001b[33marnava1304\u001b[0m (\u001b[33marnava1304-columbia-university\u001b[0m) to \u001b[32mhttps://api.wandb.ai\u001b[0m. Use \u001b[1m`wandb login --relogin`\u001b[0m to force relogin\n"
     ]
    },
    {
     "data": {
      "text/html": [
       "Tracking run with wandb version 0.19.10"
      ],
      "text/plain": [
       "<IPython.core.display.HTML object>"
      ]
     },
     "metadata": {},
     "output_type": "display_data"
    },
    {
     "data": {
      "text/html": [
       "Run data is saved locally in <code>/home/jupyter/MLC-Project/notebooks/wandb/run-20250430_022024-1hnl57gu</code>"
      ],
      "text/plain": [
       "<IPython.core.display.HTML object>"
      ]
     },
     "metadata": {},
     "output_type": "display_data"
    },
    {
     "data": {
      "text/html": [
       "Syncing run <strong><a href='https://wandb.ai/arnava1304-columbia-university/MLC_UHI_Proj/runs/1hnl57gu' target=\"_blank\">NYC_UHINetCNN_20250430_022023</a></strong> to <a href='https://wandb.ai/arnava1304-columbia-university/MLC_UHI_Proj' target=\"_blank\">Weights & Biases</a> (<a href='https://wandb.me/developer-guide' target=\"_blank\">docs</a>)<br>"
      ],
      "text/plain": [
       "<IPython.core.display.HTML object>"
      ]
     },
     "metadata": {},
     "output_type": "display_data"
    },
    {
     "data": {
      "text/html": [
       " View project at <a href='https://wandb.ai/arnava1304-columbia-university/MLC_UHI_Proj' target=\"_blank\">https://wandb.ai/arnava1304-columbia-university/MLC_UHI_Proj</a>"
      ],
      "text/plain": [
       "<IPython.core.display.HTML object>"
      ]
     },
     "metadata": {},
     "output_type": "display_data"
    },
    {
     "data": {
      "text/html": [
       " View run at <a href='https://wandb.ai/arnava1304-columbia-university/MLC_UHI_Proj/runs/1hnl57gu' target=\"_blank\">https://wandb.ai/arnava1304-columbia-university/MLC_UHI_Proj/runs/1hnl57gu</a>"
      ],
      "text/plain": [
       "<IPython.core.display.HTML object>"
      ]
     },
     "metadata": {},
     "output_type": "display_data"
    },
    {
     "name": "stdout",
     "output_type": "stream",
     "text": [
      "Wandb initialized for run: NYC_UHINetCNN_20250430_022023\n",
      "Saved local configuration to config.json\n",
      "Starting CNN training...\n",
      "--- Epoch 1/500 ---\n"
     ]
    },
    {
     "data": {
      "application/vnd.jupyter.widget-view+json": {
       "model_id": "",
       "version_major": 2,
       "version_minor": 0
      },
      "text/plain": [
       "Training:   0%|          | 0/9 [00:00<?, ?it/s]"
      ]
     },
     "metadata": {},
     "output_type": "display_data"
    },
    {
     "data": {
      "application/vnd.jupyter.widget-view+json": {
       "model_id": "",
       "version_major": 2,
       "version_minor": 0
      },
      "text/plain": [
       "Validation:   0%|          | 0/1 [00:00<?, ?it/s]"
      ]
     },
     "metadata": {},
     "output_type": "display_data"
    },
    {
     "name": "stdout",
     "output_type": "stream",
     "text": [
      "Epoch 1: Train Loss=645.8097 RMSE=0.0169 R2=-0.0923 | Val Loss=3226.9849 RMSE=0.0165 R2=-0.0316\n",
      "New best validation R^2: -0.0316\n",
      "Saved new best model to /home/jupyter/MLC-Project/training_runs/NYC_UHINetCNN_20250430_022023/model_best.pth.tar\n",
      "--- Epoch 2/500 ---\n"
     ]
    },
    {
     "data": {
      "application/vnd.jupyter.widget-view+json": {
       "model_id": "",
       "version_major": 2,
       "version_minor": 0
      },
      "text/plain": [
       "Training:   0%|          | 0/9 [00:00<?, ?it/s]"
      ]
     },
     "metadata": {},
     "output_type": "display_data"
    },
    {
     "data": {
      "application/vnd.jupyter.widget-view+json": {
       "model_id": "",
       "version_major": 2,
       "version_minor": 0
      },
      "text/plain": [
       "Validation:   0%|          | 0/1 [00:00<?, ?it/s]"
      ]
     },
     "metadata": {},
     "output_type": "display_data"
    },
    {
     "name": "stdout",
     "output_type": "stream",
     "text": [
      "Epoch 2: Train Loss=619.4320 RMSE=0.0166 R2=-0.0477 | Val Loss=3201.6125 RMSE=0.0164 R2=-0.0235\n",
      "New best validation R^2: -0.0235\n",
      "Saved new best model to /home/jupyter/MLC-Project/training_runs/NYC_UHINetCNN_20250430_022023/model_best.pth.tar\n",
      "--- Epoch 3/500 ---\n"
     ]
    },
    {
     "data": {
      "application/vnd.jupyter.widget-view+json": {
       "model_id": "",
       "version_major": 2,
       "version_minor": 0
      },
      "text/plain": [
       "Training:   0%|          | 0/9 [00:00<?, ?it/s]"
      ]
     },
     "metadata": {},
     "output_type": "display_data"
    },
    {
     "data": {
      "application/vnd.jupyter.widget-view+json": {
       "model_id": "",
       "version_major": 2,
       "version_minor": 0
      },
      "text/plain": [
       "Validation:   0%|          | 0/1 [00:00<?, ?it/s]"
      ]
     },
     "metadata": {},
     "output_type": "display_data"
    },
    {
     "name": "stdout",
     "output_type": "stream",
     "text": [
      "Epoch 3: Train Loss=592.4688 RMSE=0.0162 R2=-0.0021 | Val Loss=3103.2617 RMSE=0.0162 R2=0.0080\n",
      "New best validation R^2: 0.0080\n",
      "Saved new best model to /home/jupyter/MLC-Project/training_runs/NYC_UHINetCNN_20250430_022023/model_best.pth.tar\n",
      "--- Epoch 4/500 ---\n"
     ]
    },
    {
     "data": {
      "application/vnd.jupyter.widget-view+json": {
       "model_id": "",
       "version_major": 2,
       "version_minor": 0
      },
      "text/plain": [
       "Training:   0%|          | 0/9 [00:00<?, ?it/s]"
      ]
     },
     "metadata": {},
     "output_type": "display_data"
    },
    {
     "data": {
      "application/vnd.jupyter.widget-view+json": {
       "model_id": "",
       "version_major": 2,
       "version_minor": 0
      },
      "text/plain": [
       "Validation:   0%|          | 0/1 [00:00<?, ?it/s]"
      ]
     },
     "metadata": {},
     "output_type": "display_data"
    },
    {
     "name": "stdout",
     "output_type": "stream",
     "text": [
      "Epoch 4: Train Loss=608.3326 RMSE=0.0164 R2=-0.0289 | Val Loss=2994.3579 RMSE=0.0159 R2=0.0428\n",
      "New best validation R^2: 0.0428\n",
      "Saved new best model to /home/jupyter/MLC-Project/training_runs/NYC_UHINetCNN_20250430_022023/model_best.pth.tar\n",
      "--- Epoch 5/500 ---\n"
     ]
    },
    {
     "data": {
      "application/vnd.jupyter.widget-view+json": {
       "model_id": "",
       "version_major": 2,
       "version_minor": 0
      },
      "text/plain": [
       "Training:   0%|          | 0/9 [00:00<?, ?it/s]"
      ]
     },
     "metadata": {},
     "output_type": "display_data"
    },
    {
     "data": {
      "application/vnd.jupyter.widget-view+json": {
       "model_id": "",
       "version_major": 2,
       "version_minor": 0
      },
      "text/plain": [
       "Validation:   0%|          | 0/1 [00:00<?, ?it/s]"
      ]
     },
     "metadata": {},
     "output_type": "display_data"
    },
    {
     "name": "stdout",
     "output_type": "stream",
     "text": [
      "Epoch 5: Train Loss=555.4505 RMSE=0.0157 R2=0.0605 | Val Loss=2895.1689 RMSE=0.0156 R2=0.0745\n",
      "New best validation R^2: 0.0745\n",
      "Saved new best model to /home/jupyter/MLC-Project/training_runs/NYC_UHINetCNN_20250430_022023/model_best.pth.tar\n",
      "--- Epoch 6/500 ---\n"
     ]
    },
    {
     "data": {
      "application/vnd.jupyter.widget-view+json": {
       "model_id": "",
       "version_major": 2,
       "version_minor": 0
      },
      "text/plain": [
       "Training:   0%|          | 0/9 [00:00<?, ?it/s]"
      ]
     },
     "metadata": {},
     "output_type": "display_data"
    },
    {
     "data": {
      "application/vnd.jupyter.widget-view+json": {
       "model_id": "",
       "version_major": 2,
       "version_minor": 0
      },
      "text/plain": [
       "Validation:   0%|          | 0/1 [00:00<?, ?it/s]"
      ]
     },
     "metadata": {},
     "output_type": "display_data"
    },
    {
     "name": "stdout",
     "output_type": "stream",
     "text": [
      "Epoch 6: Train Loss=520.1677 RMSE=0.0152 R2=0.1202 | Val Loss=2928.8545 RMSE=0.0157 R2=0.0637\n",
      "No improvement in validation R^2 for 1 epochs.\n",
      "--- Epoch 7/500 ---\n"
     ]
    },
    {
     "data": {
      "application/vnd.jupyter.widget-view+json": {
       "model_id": "",
       "version_major": 2,
       "version_minor": 0
      },
      "text/plain": [
       "Training:   0%|          | 0/9 [00:00<?, ?it/s]"
      ]
     },
     "metadata": {},
     "output_type": "display_data"
    },
    {
     "data": {
      "application/vnd.jupyter.widget-view+json": {
       "model_id": "",
       "version_major": 2,
       "version_minor": 0
      },
      "text/plain": [
       "Validation:   0%|          | 0/1 [00:00<?, ?it/s]"
      ]
     },
     "metadata": {},
     "output_type": "display_data"
    },
    {
     "name": "stdout",
     "output_type": "stream",
     "text": [
      "Epoch 7: Train Loss=596.9733 RMSE=0.0163 R2=-0.0097 | Val Loss=2853.7822 RMSE=0.0155 R2=0.0877\n",
      "New best validation R^2: 0.0877\n",
      "Saved new best model to /home/jupyter/MLC-Project/training_runs/NYC_UHINetCNN_20250430_022023/model_best.pth.tar\n",
      "--- Epoch 8/500 ---\n"
     ]
    },
    {
     "data": {
      "application/vnd.jupyter.widget-view+json": {
       "model_id": "",
       "version_major": 2,
       "version_minor": 0
      },
      "text/plain": [
       "Training:   0%|          | 0/9 [00:00<?, ?it/s]"
      ]
     },
     "metadata": {},
     "output_type": "display_data"
    },
    {
     "data": {
      "application/vnd.jupyter.widget-view+json": {
       "model_id": "",
       "version_major": 2,
       "version_minor": 0
      },
      "text/plain": [
       "Validation:   0%|          | 0/1 [00:00<?, ?it/s]"
      ]
     },
     "metadata": {},
     "output_type": "display_data"
    },
    {
     "name": "stdout",
     "output_type": "stream",
     "text": [
      "Epoch 8: Train Loss=532.3227 RMSE=0.0154 R2=0.0996 | Val Loss=2936.8237 RMSE=0.0157 R2=0.0612\n",
      "No improvement in validation R^2 for 1 epochs.\n",
      "--- Epoch 9/500 ---\n"
     ]
    },
    {
     "data": {
      "application/vnd.jupyter.widget-view+json": {
       "model_id": "",
       "version_major": 2,
       "version_minor": 0
      },
      "text/plain": [
       "Training:   0%|          | 0/9 [00:00<?, ?it/s]"
      ]
     },
     "metadata": {},
     "output_type": "display_data"
    },
    {
     "data": {
      "application/vnd.jupyter.widget-view+json": {
       "model_id": "",
       "version_major": 2,
       "version_minor": 0
      },
      "text/plain": [
       "Validation:   0%|          | 0/1 [00:00<?, ?it/s]"
      ]
     },
     "metadata": {},
     "output_type": "display_data"
    },
    {
     "name": "stdout",
     "output_type": "stream",
     "text": [
      "Epoch 9: Train Loss=566.1273 RMSE=0.0158 R2=0.0424 | Val Loss=2793.0508 RMSE=0.0154 R2=0.1071\n",
      "New best validation R^2: 0.1071\n",
      "Saved new best model to /home/jupyter/MLC-Project/training_runs/NYC_UHINetCNN_20250430_022023/model_best.pth.tar\n",
      "--- Epoch 10/500 ---\n"
     ]
    },
    {
     "data": {
      "application/vnd.jupyter.widget-view+json": {
       "model_id": "",
       "version_major": 2,
       "version_minor": 0
      },
      "text/plain": [
       "Training:   0%|          | 0/9 [00:00<?, ?it/s]"
      ]
     },
     "metadata": {},
     "output_type": "display_data"
    },
    {
     "data": {
      "application/vnd.jupyter.widget-view+json": {
       "model_id": "",
       "version_major": 2,
       "version_minor": 0
      },
      "text/plain": [
       "Validation:   0%|          | 0/1 [00:00<?, ?it/s]"
      ]
     },
     "metadata": {},
     "output_type": "display_data"
    },
    {
     "name": "stdout",
     "output_type": "stream",
     "text": [
      "Epoch 10: Train Loss=534.8112 RMSE=0.0154 R2=0.0954 | Val Loss=2801.7456 RMSE=0.0154 R2=0.1043\n",
      "No improvement in validation R^2 for 1 epochs.\n",
      "--- Epoch 11/500 ---\n"
     ]
    },
    {
     "data": {
      "application/vnd.jupyter.widget-view+json": {
       "model_id": "",
       "version_major": 2,
       "version_minor": 0
      },
      "text/plain": [
       "Training:   0%|          | 0/9 [00:00<?, ?it/s]"
      ]
     },
     "metadata": {},
     "output_type": "display_data"
    },
    {
     "data": {
      "application/vnd.jupyter.widget-view+json": {
       "model_id": "",
       "version_major": 2,
       "version_minor": 0
      },
      "text/plain": [
       "Validation:   0%|          | 0/1 [00:00<?, ?it/s]"
      ]
     },
     "metadata": {},
     "output_type": "display_data"
    },
    {
     "name": "stdout",
     "output_type": "stream",
     "text": [
      "Epoch 11: Train Loss=562.8188 RMSE=0.0158 R2=0.0480 | Val Loss=2649.6572 RMSE=0.0150 R2=0.1530\n",
      "New best validation R^2: 0.1530\n",
      "Saved new best model to /home/jupyter/MLC-Project/training_runs/NYC_UHINetCNN_20250430_022023/model_best.pth.tar\n",
      "--- Epoch 12/500 ---\n"
     ]
    },
    {
     "data": {
      "application/vnd.jupyter.widget-view+json": {
       "model_id": "",
       "version_major": 2,
       "version_minor": 0
      },
      "text/plain": [
       "Training:   0%|          | 0/9 [00:00<?, ?it/s]"
      ]
     },
     "metadata": {},
     "output_type": "display_data"
    },
    {
     "data": {
      "application/vnd.jupyter.widget-view+json": {
       "model_id": "",
       "version_major": 2,
       "version_minor": 0
      },
      "text/plain": [
       "Validation:   0%|          | 0/1 [00:00<?, ?it/s]"
      ]
     },
     "metadata": {},
     "output_type": "display_data"
    },
    {
     "name": "stdout",
     "output_type": "stream",
     "text": [
      "Epoch 12: Train Loss=535.5470 RMSE=0.0154 R2=0.0942 | Val Loss=2979.5686 RMSE=0.0159 R2=0.0475\n",
      "No improvement in validation R^2 for 1 epochs.\n",
      "--- Epoch 13/500 ---\n"
     ]
    },
    {
     "data": {
      "application/vnd.jupyter.widget-view+json": {
       "model_id": "",
       "version_major": 2,
       "version_minor": 0
      },
      "text/plain": [
       "Training:   0%|          | 0/9 [00:00<?, ?it/s]"
      ]
     },
     "metadata": {},
     "output_type": "display_data"
    },
    {
     "data": {
      "application/vnd.jupyter.widget-view+json": {
       "model_id": "",
       "version_major": 2,
       "version_minor": 0
      },
      "text/plain": [
       "Validation:   0%|          | 0/1 [00:00<?, ?it/s]"
      ]
     },
     "metadata": {},
     "output_type": "display_data"
    },
    {
     "name": "stdout",
     "output_type": "stream",
     "text": [
      "Epoch 13: Train Loss=554.7834 RMSE=0.0157 R2=0.0616 | Val Loss=2787.3311 RMSE=0.0153 R2=0.1090\n",
      "No improvement in validation R^2 for 2 epochs.\n",
      "--- Epoch 14/500 ---\n"
     ]
    },
    {
     "data": {
      "application/vnd.jupyter.widget-view+json": {
       "model_id": "",
       "version_major": 2,
       "version_minor": 0
      },
      "text/plain": [
       "Training:   0%|          | 0/9 [00:00<?, ?it/s]"
      ]
     },
     "metadata": {},
     "output_type": "display_data"
    },
    {
     "data": {
      "application/vnd.jupyter.widget-view+json": {
       "model_id": "",
       "version_major": 2,
       "version_minor": 0
      },
      "text/plain": [
       "Validation:   0%|          | 0/1 [00:00<?, ?it/s]"
      ]
     },
     "metadata": {},
     "output_type": "display_data"
    },
    {
     "name": "stdout",
     "output_type": "stream",
     "text": [
      "Epoch 14: Train Loss=505.4470 RMSE=0.0150 R2=0.1451 | Val Loss=2786.1643 RMSE=0.0153 R2=0.1093\n",
      "No improvement in validation R^2 for 3 epochs.\n",
      "--- Epoch 15/500 ---\n"
     ]
    },
    {
     "data": {
      "application/vnd.jupyter.widget-view+json": {
       "model_id": "",
       "version_major": 2,
       "version_minor": 0
      },
      "text/plain": [
       "Training:   0%|          | 0/9 [00:00<?, ?it/s]"
      ]
     },
     "metadata": {},
     "output_type": "display_data"
    },
    {
     "data": {
      "application/vnd.jupyter.widget-view+json": {
       "model_id": "",
       "version_major": 2,
       "version_minor": 0
      },
      "text/plain": [
       "Validation:   0%|          | 0/1 [00:00<?, ?it/s]"
      ]
     },
     "metadata": {},
     "output_type": "display_data"
    },
    {
     "name": "stdout",
     "output_type": "stream",
     "text": [
      "Epoch 15: Train Loss=554.4417 RMSE=0.0157 R2=0.0622 | Val Loss=2901.9517 RMSE=0.0157 R2=0.0723\n",
      "No improvement in validation R^2 for 4 epochs.\n",
      "--- Epoch 16/500 ---\n"
     ]
    },
    {
     "data": {
      "application/vnd.jupyter.widget-view+json": {
       "model_id": "",
       "version_major": 2,
       "version_minor": 0
      },
      "text/plain": [
       "Training:   0%|          | 0/9 [00:00<?, ?it/s]"
      ]
     },
     "metadata": {},
     "output_type": "display_data"
    },
    {
     "data": {
      "application/vnd.jupyter.widget-view+json": {
       "model_id": "",
       "version_major": 2,
       "version_minor": 0
      },
      "text/plain": [
       "Validation:   0%|          | 0/1 [00:00<?, ?it/s]"
      ]
     },
     "metadata": {},
     "output_type": "display_data"
    },
    {
     "name": "stdout",
     "output_type": "stream",
     "text": [
      "Epoch 16: Train Loss=508.4681 RMSE=0.0150 R2=0.1400 | Val Loss=2693.0142 RMSE=0.0151 R2=0.1391\n",
      "No improvement in validation R^2 for 5 epochs.\n",
      "--- Epoch 17/500 ---\n"
     ]
    },
    {
     "data": {
      "application/vnd.jupyter.widget-view+json": {
       "model_id": "",
       "version_major": 2,
       "version_minor": 0
      },
      "text/plain": [
       "Training:   0%|          | 0/9 [00:00<?, ?it/s]"
      ]
     },
     "metadata": {},
     "output_type": "display_data"
    },
    {
     "data": {
      "application/vnd.jupyter.widget-view+json": {
       "model_id": "",
       "version_major": 2,
       "version_minor": 0
      },
      "text/plain": [
       "Validation:   0%|          | 0/1 [00:00<?, ?it/s]"
      ]
     },
     "metadata": {},
     "output_type": "display_data"
    },
    {
     "name": "stdout",
     "output_type": "stream",
     "text": [
      "Epoch 17: Train Loss=518.6981 RMSE=0.0152 R2=0.1227 | Val Loss=2603.2144 RMSE=0.0148 R2=0.1678\n",
      "New best validation R^2: 0.1678\n",
      "Saved new best model to /home/jupyter/MLC-Project/training_runs/NYC_UHINetCNN_20250430_022023/model_best.pth.tar\n",
      "--- Epoch 18/500 ---\n"
     ]
    },
    {
     "data": {
      "application/vnd.jupyter.widget-view+json": {
       "model_id": "",
       "version_major": 2,
       "version_minor": 0
      },
      "text/plain": [
       "Training:   0%|          | 0/9 [00:00<?, ?it/s]"
      ]
     },
     "metadata": {},
     "output_type": "display_data"
    },
    {
     "data": {
      "application/vnd.jupyter.widget-view+json": {
       "model_id": "",
       "version_major": 2,
       "version_minor": 0
      },
      "text/plain": [
       "Validation:   0%|          | 0/1 [00:00<?, ?it/s]"
      ]
     },
     "metadata": {},
     "output_type": "display_data"
    },
    {
     "name": "stdout",
     "output_type": "stream",
     "text": [
      "Epoch 18: Train Loss=544.8151 RMSE=0.0155 R2=0.0785 | Val Loss=2575.1655 RMSE=0.0147 R2=0.1768\n",
      "New best validation R^2: 0.1768\n",
      "Saved new best model to /home/jupyter/MLC-Project/training_runs/NYC_UHINetCNN_20250430_022023/model_best.pth.tar\n",
      "--- Epoch 19/500 ---\n"
     ]
    },
    {
     "data": {
      "application/vnd.jupyter.widget-view+json": {
       "model_id": "",
       "version_major": 2,
       "version_minor": 0
      },
      "text/plain": [
       "Training:   0%|          | 0/9 [00:00<?, ?it/s]"
      ]
     },
     "metadata": {},
     "output_type": "display_data"
    },
    {
     "data": {
      "application/vnd.jupyter.widget-view+json": {
       "model_id": "",
       "version_major": 2,
       "version_minor": 0
      },
      "text/plain": [
       "Validation:   0%|          | 0/1 [00:00<?, ?it/s]"
      ]
     },
     "metadata": {},
     "output_type": "display_data"
    },
    {
     "name": "stdout",
     "output_type": "stream",
     "text": [
      "Epoch 19: Train Loss=507.7743 RMSE=0.0150 R2=0.1411 | Val Loss=2620.6755 RMSE=0.0149 R2=0.1622\n",
      "No improvement in validation R^2 for 1 epochs.\n",
      "--- Epoch 20/500 ---\n"
     ]
    },
    {
     "data": {
      "application/vnd.jupyter.widget-view+json": {
       "model_id": "",
       "version_major": 2,
       "version_minor": 0
      },
      "text/plain": [
       "Training:   0%|          | 0/9 [00:00<?, ?it/s]"
      ]
     },
     "metadata": {},
     "output_type": "display_data"
    },
    {
     "data": {
      "application/vnd.jupyter.widget-view+json": {
       "model_id": "",
       "version_major": 2,
       "version_minor": 0
      },
      "text/plain": [
       "Validation:   0%|          | 0/1 [00:00<?, ?it/s]"
      ]
     },
     "metadata": {},
     "output_type": "display_data"
    },
    {
     "name": "stdout",
     "output_type": "stream",
     "text": [
      "Epoch 20: Train Loss=503.7513 RMSE=0.0149 R2=0.1479 | Val Loss=2610.5540 RMSE=0.0148 R2=0.1655\n",
      "No improvement in validation R^2 for 2 epochs.\n",
      "--- Epoch 21/500 ---\n"
     ]
    },
    {
     "data": {
      "application/vnd.jupyter.widget-view+json": {
       "model_id": "",
       "version_major": 2,
       "version_minor": 0
      },
      "text/plain": [
       "Training:   0%|          | 0/9 [00:00<?, ?it/s]"
      ]
     },
     "metadata": {},
     "output_type": "display_data"
    },
    {
     "data": {
      "application/vnd.jupyter.widget-view+json": {
       "model_id": "",
       "version_major": 2,
       "version_minor": 0
      },
      "text/plain": [
       "Validation:   0%|          | 0/1 [00:00<?, ?it/s]"
      ]
     },
     "metadata": {},
     "output_type": "display_data"
    },
    {
     "name": "stdout",
     "output_type": "stream",
     "text": [
      "Epoch 21: Train Loss=527.9740 RMSE=0.0153 R2=0.1070 | Val Loss=2656.1699 RMSE=0.0150 R2=0.1509\n",
      "No improvement in validation R^2 for 3 epochs.\n",
      "--- Epoch 22/500 ---\n"
     ]
    },
    {
     "data": {
      "application/vnd.jupyter.widget-view+json": {
       "model_id": "",
       "version_major": 2,
       "version_minor": 0
      },
      "text/plain": [
       "Training:   0%|          | 0/9 [00:00<?, ?it/s]"
      ]
     },
     "metadata": {},
     "output_type": "display_data"
    },
    {
     "data": {
      "application/vnd.jupyter.widget-view+json": {
       "model_id": "",
       "version_major": 2,
       "version_minor": 0
      },
      "text/plain": [
       "Validation:   0%|          | 0/1 [00:00<?, ?it/s]"
      ]
     },
     "metadata": {},
     "output_type": "display_data"
    },
    {
     "name": "stdout",
     "output_type": "stream",
     "text": [
      "Epoch 22: Train Loss=468.0458 RMSE=0.0144 R2=0.2083 | Val Loss=2524.9971 RMSE=0.0146 R2=0.1928\n",
      "New best validation R^2: 0.1928\n",
      "Saved new best model to /home/jupyter/MLC-Project/training_runs/NYC_UHINetCNN_20250430_022023/model_best.pth.tar\n",
      "--- Epoch 23/500 ---\n"
     ]
    },
    {
     "data": {
      "application/vnd.jupyter.widget-view+json": {
       "model_id": "",
       "version_major": 2,
       "version_minor": 0
      },
      "text/plain": [
       "Training:   0%|          | 0/9 [00:00<?, ?it/s]"
      ]
     },
     "metadata": {},
     "output_type": "display_data"
    },
    {
     "data": {
      "application/vnd.jupyter.widget-view+json": {
       "model_id": "",
       "version_major": 2,
       "version_minor": 0
      },
      "text/plain": [
       "Validation:   0%|          | 0/1 [00:00<?, ?it/s]"
      ]
     },
     "metadata": {},
     "output_type": "display_data"
    },
    {
     "name": "stdout",
     "output_type": "stream",
     "text": [
      "Epoch 23: Train Loss=470.5060 RMSE=0.0144 R2=0.2042 | Val Loss=2646.7505 RMSE=0.0150 R2=0.1539\n",
      "No improvement in validation R^2 for 1 epochs.\n",
      "--- Epoch 24/500 ---\n"
     ]
    },
    {
     "data": {
      "application/vnd.jupyter.widget-view+json": {
       "model_id": "",
       "version_major": 2,
       "version_minor": 0
      },
      "text/plain": [
       "Training:   0%|          | 0/9 [00:00<?, ?it/s]"
      ]
     },
     "metadata": {},
     "output_type": "display_data"
    },
    {
     "data": {
      "application/vnd.jupyter.widget-view+json": {
       "model_id": "",
       "version_major": 2,
       "version_minor": 0
      },
      "text/plain": [
       "Validation:   0%|          | 0/1 [00:00<?, ?it/s]"
      ]
     },
     "metadata": {},
     "output_type": "display_data"
    },
    {
     "name": "stdout",
     "output_type": "stream",
     "text": [
      "Epoch 24: Train Loss=470.8963 RMSE=0.0144 R2=0.2035 | Val Loss=2551.9546 RMSE=0.0147 R2=0.1842\n",
      "No improvement in validation R^2 for 2 epochs.\n",
      "--- Epoch 25/500 ---\n"
     ]
    },
    {
     "data": {
      "application/vnd.jupyter.widget-view+json": {
       "model_id": "",
       "version_major": 2,
       "version_minor": 0
      },
      "text/plain": [
       "Training:   0%|          | 0/9 [00:00<?, ?it/s]"
      ]
     },
     "metadata": {},
     "output_type": "display_data"
    },
    {
     "data": {
      "application/vnd.jupyter.widget-view+json": {
       "model_id": "",
       "version_major": 2,
       "version_minor": 0
      },
      "text/plain": [
       "Validation:   0%|          | 0/1 [00:00<?, ?it/s]"
      ]
     },
     "metadata": {},
     "output_type": "display_data"
    },
    {
     "name": "stdout",
     "output_type": "stream",
     "text": [
      "Epoch 25: Train Loss=428.7389 RMSE=0.0138 R2=0.2748 | Val Loss=2549.7131 RMSE=0.0147 R2=0.1849\n",
      "No improvement in validation R^2 for 3 epochs.\n",
      "--- Epoch 26/500 ---\n"
     ]
    },
    {
     "data": {
      "application/vnd.jupyter.widget-view+json": {
       "model_id": "",
       "version_major": 2,
       "version_minor": 0
      },
      "text/plain": [
       "Training:   0%|          | 0/9 [00:00<?, ?it/s]"
      ]
     },
     "metadata": {},
     "output_type": "display_data"
    },
    {
     "data": {
      "application/vnd.jupyter.widget-view+json": {
       "model_id": "",
       "version_major": 2,
       "version_minor": 0
      },
      "text/plain": [
       "Validation:   0%|          | 0/1 [00:00<?, ?it/s]"
      ]
     },
     "metadata": {},
     "output_type": "display_data"
    },
    {
     "name": "stdout",
     "output_type": "stream",
     "text": [
      "Epoch 26: Train Loss=479.1599 RMSE=0.0146 R2=0.1895 | Val Loss=2494.6724 RMSE=0.0145 R2=0.2025\n",
      "New best validation R^2: 0.2025\n",
      "Saved new best model to /home/jupyter/MLC-Project/training_runs/NYC_UHINetCNN_20250430_022023/model_best.pth.tar\n",
      "--- Epoch 27/500 ---\n"
     ]
    },
    {
     "data": {
      "application/vnd.jupyter.widget-view+json": {
       "model_id": "",
       "version_major": 2,
       "version_minor": 0
      },
      "text/plain": [
       "Training:   0%|          | 0/9 [00:00<?, ?it/s]"
      ]
     },
     "metadata": {},
     "output_type": "display_data"
    },
    {
     "data": {
      "application/vnd.jupyter.widget-view+json": {
       "model_id": "",
       "version_major": 2,
       "version_minor": 0
      },
      "text/plain": [
       "Validation:   0%|          | 0/1 [00:00<?, ?it/s]"
      ]
     },
     "metadata": {},
     "output_type": "display_data"
    },
    {
     "name": "stdout",
     "output_type": "stream",
     "text": [
      "Epoch 27: Train Loss=462.3014 RMSE=0.0143 R2=0.2181 | Val Loss=2327.6934 RMSE=0.0140 R2=0.2559\n",
      "New best validation R^2: 0.2559\n",
      "Saved new best model to /home/jupyter/MLC-Project/training_runs/NYC_UHINetCNN_20250430_022023/model_best.pth.tar\n",
      "--- Epoch 28/500 ---\n"
     ]
    },
    {
     "data": {
      "application/vnd.jupyter.widget-view+json": {
       "model_id": "",
       "version_major": 2,
       "version_minor": 0
      },
      "text/plain": [
       "Training:   0%|          | 0/9 [00:00<?, ?it/s]"
      ]
     },
     "metadata": {},
     "output_type": "display_data"
    },
    {
     "data": {
      "application/vnd.jupyter.widget-view+json": {
       "model_id": "",
       "version_major": 2,
       "version_minor": 0
      },
      "text/plain": [
       "Validation:   0%|          | 0/1 [00:00<?, ?it/s]"
      ]
     },
     "metadata": {},
     "output_type": "display_data"
    },
    {
     "name": "stdout",
     "output_type": "stream",
     "text": [
      "Epoch 28: Train Loss=441.2404 RMSE=0.0140 R2=0.2537 | Val Loss=2539.5195 RMSE=0.0146 R2=0.1882\n",
      "No improvement in validation R^2 for 1 epochs.\n",
      "--- Epoch 29/500 ---\n"
     ]
    },
    {
     "data": {
      "application/vnd.jupyter.widget-view+json": {
       "model_id": "",
       "version_major": 2,
       "version_minor": 0
      },
      "text/plain": [
       "Training:   0%|          | 0/9 [00:00<?, ?it/s]"
      ]
     },
     "metadata": {},
     "output_type": "display_data"
    },
    {
     "data": {
      "application/vnd.jupyter.widget-view+json": {
       "model_id": "",
       "version_major": 2,
       "version_minor": 0
      },
      "text/plain": [
       "Validation:   0%|          | 0/1 [00:00<?, ?it/s]"
      ]
     },
     "metadata": {},
     "output_type": "display_data"
    },
    {
     "name": "stdout",
     "output_type": "stream",
     "text": [
      "Epoch 29: Train Loss=445.1794 RMSE=0.0140 R2=0.2470 | Val Loss=2350.2019 RMSE=0.0141 R2=0.2487\n",
      "No improvement in validation R^2 for 2 epochs.\n",
      "--- Epoch 30/500 ---\n"
     ]
    },
    {
     "data": {
      "application/vnd.jupyter.widget-view+json": {
       "model_id": "",
       "version_major": 2,
       "version_minor": 0
      },
      "text/plain": [
       "Training:   0%|          | 0/9 [00:00<?, ?it/s]"
      ]
     },
     "metadata": {},
     "output_type": "display_data"
    },
    {
     "data": {
      "application/vnd.jupyter.widget-view+json": {
       "model_id": "",
       "version_major": 2,
       "version_minor": 0
      },
      "text/plain": [
       "Validation:   0%|          | 0/1 [00:00<?, ?it/s]"
      ]
     },
     "metadata": {},
     "output_type": "display_data"
    },
    {
     "name": "stdout",
     "output_type": "stream",
     "text": [
      "Epoch 30: Train Loss=471.6626 RMSE=0.0145 R2=0.2022 | Val Loss=2426.2075 RMSE=0.0143 R2=0.2244\n",
      "No improvement in validation R^2 for 3 epochs.\n",
      "--- Epoch 31/500 ---\n"
     ]
    },
    {
     "data": {
      "application/vnd.jupyter.widget-view+json": {
       "model_id": "",
       "version_major": 2,
       "version_minor": 0
      },
      "text/plain": [
       "Training:   0%|          | 0/9 [00:00<?, ?it/s]"
      ]
     },
     "metadata": {},
     "output_type": "display_data"
    },
    {
     "data": {
      "application/vnd.jupyter.widget-view+json": {
       "model_id": "",
       "version_major": 2,
       "version_minor": 0
      },
      "text/plain": [
       "Validation:   0%|          | 0/1 [00:00<?, ?it/s]"
      ]
     },
     "metadata": {},
     "output_type": "display_data"
    },
    {
     "name": "stdout",
     "output_type": "stream",
     "text": [
      "Epoch 31: Train Loss=444.9828 RMSE=0.0140 R2=0.2474 | Val Loss=2549.3318 RMSE=0.0147 R2=0.1850\n",
      "No improvement in validation R^2 for 4 epochs.\n",
      "--- Epoch 32/500 ---\n"
     ]
    },
    {
     "data": {
      "application/vnd.jupyter.widget-view+json": {
       "model_id": "",
       "version_major": 2,
       "version_minor": 0
      },
      "text/plain": [
       "Training:   0%|          | 0/9 [00:00<?, ?it/s]"
      ]
     },
     "metadata": {},
     "output_type": "display_data"
    },
    {
     "data": {
      "application/vnd.jupyter.widget-view+json": {
       "model_id": "",
       "version_major": 2,
       "version_minor": 0
      },
      "text/plain": [
       "Validation:   0%|          | 0/1 [00:00<?, ?it/s]"
      ]
     },
     "metadata": {},
     "output_type": "display_data"
    },
    {
     "name": "stdout",
     "output_type": "stream",
     "text": [
      "Epoch 32: Train Loss=454.2806 RMSE=0.0142 R2=0.2316 | Val Loss=2284.2578 RMSE=0.0139 R2=0.2698\n",
      "New best validation R^2: 0.2698\n",
      "Saved new best model to /home/jupyter/MLC-Project/training_runs/NYC_UHINetCNN_20250430_022023/model_best.pth.tar\n",
      "--- Epoch 33/500 ---\n"
     ]
    },
    {
     "data": {
      "application/vnd.jupyter.widget-view+json": {
       "model_id": "",
       "version_major": 2,
       "version_minor": 0
      },
      "text/plain": [
       "Training:   0%|          | 0/9 [00:00<?, ?it/s]"
      ]
     },
     "metadata": {},
     "output_type": "display_data"
    },
    {
     "data": {
      "application/vnd.jupyter.widget-view+json": {
       "model_id": "",
       "version_major": 2,
       "version_minor": 0
      },
      "text/plain": [
       "Validation:   0%|          | 0/1 [00:00<?, ?it/s]"
      ]
     },
     "metadata": {},
     "output_type": "display_data"
    },
    {
     "name": "stdout",
     "output_type": "stream",
     "text": [
      "Epoch 33: Train Loss=442.3483 RMSE=0.0140 R2=0.2518 | Val Loss=2414.1567 RMSE=0.0143 R2=0.2282\n",
      "No improvement in validation R^2 for 1 epochs.\n",
      "--- Epoch 34/500 ---\n"
     ]
    },
    {
     "data": {
      "application/vnd.jupyter.widget-view+json": {
       "model_id": "",
       "version_major": 2,
       "version_minor": 0
      },
      "text/plain": [
       "Training:   0%|          | 0/9 [00:00<?, ?it/s]"
      ]
     },
     "metadata": {},
     "output_type": "display_data"
    },
    {
     "data": {
      "application/vnd.jupyter.widget-view+json": {
       "model_id": "",
       "version_major": 2,
       "version_minor": 0
      },
      "text/plain": [
       "Validation:   0%|          | 0/1 [00:00<?, ?it/s]"
      ]
     },
     "metadata": {},
     "output_type": "display_data"
    },
    {
     "name": "stdout",
     "output_type": "stream",
     "text": [
      "Epoch 34: Train Loss=478.2115 RMSE=0.0146 R2=0.1911 | Val Loss=2426.7026 RMSE=0.0143 R2=0.2242\n",
      "No improvement in validation R^2 for 2 epochs.\n",
      "--- Epoch 35/500 ---\n"
     ]
    },
    {
     "data": {
      "application/vnd.jupyter.widget-view+json": {
       "model_id": "",
       "version_major": 2,
       "version_minor": 0
      },
      "text/plain": [
       "Training:   0%|          | 0/9 [00:00<?, ?it/s]"
      ]
     },
     "metadata": {},
     "output_type": "display_data"
    },
    {
     "data": {
      "application/vnd.jupyter.widget-view+json": {
       "model_id": "",
       "version_major": 2,
       "version_minor": 0
      },
      "text/plain": [
       "Validation:   0%|          | 0/1 [00:00<?, ?it/s]"
      ]
     },
     "metadata": {},
     "output_type": "display_data"
    },
    {
     "name": "stdout",
     "output_type": "stream",
     "text": [
      "Epoch 35: Train Loss=457.2233 RMSE=0.0142 R2=0.2266 | Val Loss=2224.4580 RMSE=0.0137 R2=0.2889\n",
      "New best validation R^2: 0.2889\n",
      "Saved new best model to /home/jupyter/MLC-Project/training_runs/NYC_UHINetCNN_20250430_022023/model_best.pth.tar\n",
      "--- Epoch 36/500 ---\n"
     ]
    },
    {
     "data": {
      "application/vnd.jupyter.widget-view+json": {
       "model_id": "",
       "version_major": 2,
       "version_minor": 0
      },
      "text/plain": [
       "Training:   0%|          | 0/9 [00:00<?, ?it/s]"
      ]
     },
     "metadata": {},
     "output_type": "display_data"
    },
    {
     "data": {
      "application/vnd.jupyter.widget-view+json": {
       "model_id": "",
       "version_major": 2,
       "version_minor": 0
      },
      "text/plain": [
       "Validation:   0%|          | 0/1 [00:00<?, ?it/s]"
      ]
     },
     "metadata": {},
     "output_type": "display_data"
    },
    {
     "name": "stdout",
     "output_type": "stream",
     "text": [
      "Epoch 36: Train Loss=430.4526 RMSE=0.0138 R2=0.2719 | Val Loss=2388.2051 RMSE=0.0142 R2=0.2365\n",
      "No improvement in validation R^2 for 1 epochs.\n",
      "--- Epoch 37/500 ---\n"
     ]
    },
    {
     "data": {
      "application/vnd.jupyter.widget-view+json": {
       "model_id": "",
       "version_major": 2,
       "version_minor": 0
      },
      "text/plain": [
       "Training:   0%|          | 0/9 [00:00<?, ?it/s]"
      ]
     },
     "metadata": {},
     "output_type": "display_data"
    },
    {
     "data": {
      "application/vnd.jupyter.widget-view+json": {
       "model_id": "",
       "version_major": 2,
       "version_minor": 0
      },
      "text/plain": [
       "Validation:   0%|          | 0/1 [00:00<?, ?it/s]"
      ]
     },
     "metadata": {},
     "output_type": "display_data"
    },
    {
     "name": "stdout",
     "output_type": "stream",
     "text": [
      "Epoch 37: Train Loss=424.3486 RMSE=0.0137 R2=0.2823 | Val Loss=2329.2456 RMSE=0.0140 R2=0.2554\n",
      "No improvement in validation R^2 for 2 epochs.\n",
      "--- Epoch 38/500 ---\n"
     ]
    },
    {
     "data": {
      "application/vnd.jupyter.widget-view+json": {
       "model_id": "",
       "version_major": 2,
       "version_minor": 0
      },
      "text/plain": [
       "Training:   0%|          | 0/9 [00:00<?, ?it/s]"
      ]
     },
     "metadata": {},
     "output_type": "display_data"
    },
    {
     "data": {
      "application/vnd.jupyter.widget-view+json": {
       "model_id": "",
       "version_major": 2,
       "version_minor": 0
      },
      "text/plain": [
       "Validation:   0%|          | 0/1 [00:00<?, ?it/s]"
      ]
     },
     "metadata": {},
     "output_type": "display_data"
    },
    {
     "name": "stdout",
     "output_type": "stream",
     "text": [
      "Epoch 38: Train Loss=444.7784 RMSE=0.0140 R2=0.2477 | Val Loss=2322.1597 RMSE=0.0140 R2=0.2577\n",
      "No improvement in validation R^2 for 3 epochs.\n",
      "--- Epoch 39/500 ---\n"
     ]
    },
    {
     "data": {
      "application/vnd.jupyter.widget-view+json": {
       "model_id": "",
       "version_major": 2,
       "version_minor": 0
      },
      "text/plain": [
       "Training:   0%|          | 0/9 [00:00<?, ?it/s]"
      ]
     },
     "metadata": {},
     "output_type": "display_data"
    },
    {
     "data": {
      "application/vnd.jupyter.widget-view+json": {
       "model_id": "",
       "version_major": 2,
       "version_minor": 0
      },
      "text/plain": [
       "Validation:   0%|          | 0/1 [00:00<?, ?it/s]"
      ]
     },
     "metadata": {},
     "output_type": "display_data"
    },
    {
     "name": "stdout",
     "output_type": "stream",
     "text": [
      "Epoch 39: Train Loss=442.9476 RMSE=0.0140 R2=0.2508 | Val Loss=2306.8652 RMSE=0.0140 R2=0.2625\n",
      "No improvement in validation R^2 for 4 epochs.\n",
      "--- Epoch 40/500 ---\n"
     ]
    },
    {
     "data": {
      "application/vnd.jupyter.widget-view+json": {
       "model_id": "",
       "version_major": 2,
       "version_minor": 0
      },
      "text/plain": [
       "Training:   0%|          | 0/9 [00:00<?, ?it/s]"
      ]
     },
     "metadata": {},
     "output_type": "display_data"
    },
    {
     "data": {
      "application/vnd.jupyter.widget-view+json": {
       "model_id": "",
       "version_major": 2,
       "version_minor": 0
      },
      "text/plain": [
       "Validation:   0%|          | 0/1 [00:00<?, ?it/s]"
      ]
     },
     "metadata": {},
     "output_type": "display_data"
    },
    {
     "name": "stdout",
     "output_type": "stream",
     "text": [
      "Epoch 40: Train Loss=463.1776 RMSE=0.0143 R2=0.2166 | Val Loss=2428.4136 RMSE=0.0143 R2=0.2237\n",
      "No improvement in validation R^2 for 5 epochs.\n",
      "--- Epoch 41/500 ---\n"
     ]
    },
    {
     "data": {
      "application/vnd.jupyter.widget-view+json": {
       "model_id": "",
       "version_major": 2,
       "version_minor": 0
      },
      "text/plain": [
       "Training:   0%|          | 0/9 [00:00<?, ?it/s]"
      ]
     },
     "metadata": {},
     "output_type": "display_data"
    },
    {
     "data": {
      "application/vnd.jupyter.widget-view+json": {
       "model_id": "",
       "version_major": 2,
       "version_minor": 0
      },
      "text/plain": [
       "Validation:   0%|          | 0/1 [00:00<?, ?it/s]"
      ]
     },
     "metadata": {},
     "output_type": "display_data"
    },
    {
     "name": "stdout",
     "output_type": "stream",
     "text": [
      "Epoch 41: Train Loss=449.8522 RMSE=0.0141 R2=0.2391 | Val Loss=2418.5312 RMSE=0.0143 R2=0.2269\n",
      "No improvement in validation R^2 for 6 epochs.\n",
      "--- Epoch 42/500 ---\n"
     ]
    },
    {
     "data": {
      "application/vnd.jupyter.widget-view+json": {
       "model_id": "",
       "version_major": 2,
       "version_minor": 0
      },
      "text/plain": [
       "Training:   0%|          | 0/9 [00:00<?, ?it/s]"
      ]
     },
     "metadata": {},
     "output_type": "display_data"
    },
    {
     "data": {
      "application/vnd.jupyter.widget-view+json": {
       "model_id": "",
       "version_major": 2,
       "version_minor": 0
      },
      "text/plain": [
       "Validation:   0%|          | 0/1 [00:00<?, ?it/s]"
      ]
     },
     "metadata": {},
     "output_type": "display_data"
    },
    {
     "name": "stdout",
     "output_type": "stream",
     "text": [
      "Epoch 42: Train Loss=411.7442 RMSE=0.0135 R2=0.3036 | Val Loss=2499.1460 RMSE=0.0145 R2=0.2011\n",
      "No improvement in validation R^2 for 7 epochs.\n",
      "--- Epoch 43/500 ---\n"
     ]
    },
    {
     "data": {
      "application/vnd.jupyter.widget-view+json": {
       "model_id": "",
       "version_major": 2,
       "version_minor": 0
      },
      "text/plain": [
       "Training:   0%|          | 0/9 [00:00<?, ?it/s]"
      ]
     },
     "metadata": {},
     "output_type": "display_data"
    },
    {
     "data": {
      "application/vnd.jupyter.widget-view+json": {
       "model_id": "",
       "version_major": 2,
       "version_minor": 0
      },
      "text/plain": [
       "Validation:   0%|          | 0/1 [00:00<?, ?it/s]"
      ]
     },
     "metadata": {},
     "output_type": "display_data"
    },
    {
     "name": "stdout",
     "output_type": "stream",
     "text": [
      "Epoch 43: Train Loss=399.8607 RMSE=0.0133 R2=0.3237 | Val Loss=2479.8770 RMSE=0.0145 R2=0.2072\n",
      "No improvement in validation R^2 for 8 epochs.\n",
      "--- Epoch 44/500 ---\n"
     ]
    },
    {
     "data": {
      "application/vnd.jupyter.widget-view+json": {
       "model_id": "",
       "version_major": 2,
       "version_minor": 0
      },
      "text/plain": [
       "Training:   0%|          | 0/9 [00:00<?, ?it/s]"
      ]
     },
     "metadata": {},
     "output_type": "display_data"
    },
    {
     "data": {
      "application/vnd.jupyter.widget-view+json": {
       "model_id": "",
       "version_major": 2,
       "version_minor": 0
      },
      "text/plain": [
       "Validation:   0%|          | 0/1 [00:00<?, ?it/s]"
      ]
     },
     "metadata": {},
     "output_type": "display_data"
    },
    {
     "name": "stdout",
     "output_type": "stream",
     "text": [
      "Epoch 44: Train Loss=410.2854 RMSE=0.0135 R2=0.3060 | Val Loss=2315.1528 RMSE=0.0140 R2=0.2599\n",
      "No improvement in validation R^2 for 9 epochs.\n",
      "--- Epoch 45/500 ---\n"
     ]
    },
    {
     "data": {
      "application/vnd.jupyter.widget-view+json": {
       "model_id": "",
       "version_major": 2,
       "version_minor": 0
      },
      "text/plain": [
       "Training:   0%|          | 0/9 [00:00<?, ?it/s]"
      ]
     },
     "metadata": {},
     "output_type": "display_data"
    },
    {
     "data": {
      "application/vnd.jupyter.widget-view+json": {
       "model_id": "",
       "version_major": 2,
       "version_minor": 0
      },
      "text/plain": [
       "Validation:   0%|          | 0/1 [00:00<?, ?it/s]"
      ]
     },
     "metadata": {},
     "output_type": "display_data"
    },
    {
     "name": "stdout",
     "output_type": "stream",
     "text": [
      "Epoch 45: Train Loss=414.6050 RMSE=0.0136 R2=0.2987 | Val Loss=2449.3984 RMSE=0.0144 R2=0.2170\n",
      "No improvement in validation R^2 for 10 epochs.\n",
      "--- Epoch 46/500 ---\n"
     ]
    },
    {
     "data": {
      "application/vnd.jupyter.widget-view+json": {
       "model_id": "",
       "version_major": 2,
       "version_minor": 0
      },
      "text/plain": [
       "Training:   0%|          | 0/9 [00:00<?, ?it/s]"
      ]
     },
     "metadata": {},
     "output_type": "display_data"
    },
    {
     "data": {
      "application/vnd.jupyter.widget-view+json": {
       "model_id": "",
       "version_major": 2,
       "version_minor": 0
      },
      "text/plain": [
       "Validation:   0%|          | 0/1 [00:00<?, ?it/s]"
      ]
     },
     "metadata": {},
     "output_type": "display_data"
    },
    {
     "name": "stdout",
     "output_type": "stream",
     "text": [
      "Epoch 46: Train Loss=407.1415 RMSE=0.0134 R2=0.3114 | Val Loss=2324.5986 RMSE=0.0140 R2=0.2569\n",
      "No improvement in validation R^2 for 11 epochs.\n",
      "--- Epoch 47/500 ---\n"
     ]
    },
    {
     "data": {
      "application/vnd.jupyter.widget-view+json": {
       "model_id": "",
       "version_major": 2,
       "version_minor": 0
      },
      "text/plain": [
       "Training:   0%|          | 0/9 [00:00<?, ?it/s]"
      ]
     },
     "metadata": {},
     "output_type": "display_data"
    },
    {
     "data": {
      "application/vnd.jupyter.widget-view+json": {
       "model_id": "",
       "version_major": 2,
       "version_minor": 0
      },
      "text/plain": [
       "Validation:   0%|          | 0/1 [00:00<?, ?it/s]"
      ]
     },
     "metadata": {},
     "output_type": "display_data"
    },
    {
     "name": "stdout",
     "output_type": "stream",
     "text": [
      "Epoch 47: Train Loss=418.0928 RMSE=0.0136 R2=0.2928 | Val Loss=2296.6802 RMSE=0.0139 R2=0.2658\n",
      "No improvement in validation R^2 for 12 epochs.\n",
      "--- Epoch 48/500 ---\n"
     ]
    },
    {
     "data": {
      "application/vnd.jupyter.widget-view+json": {
       "model_id": "",
       "version_major": 2,
       "version_minor": 0
      },
      "text/plain": [
       "Training:   0%|          | 0/9 [00:00<?, ?it/s]"
      ]
     },
     "metadata": {},
     "output_type": "display_data"
    },
    {
     "data": {
      "application/vnd.jupyter.widget-view+json": {
       "model_id": "",
       "version_major": 2,
       "version_minor": 0
      },
      "text/plain": [
       "Validation:   0%|          | 0/1 [00:00<?, ?it/s]"
      ]
     },
     "metadata": {},
     "output_type": "display_data"
    },
    {
     "name": "stdout",
     "output_type": "stream",
     "text": [
      "Epoch 48: Train Loss=408.4152 RMSE=0.0135 R2=0.3092 | Val Loss=2232.5806 RMSE=0.0137 R2=0.2863\n",
      "No improvement in validation R^2 for 13 epochs.\n",
      "--- Epoch 49/500 ---\n"
     ]
    },
    {
     "data": {
      "application/vnd.jupyter.widget-view+json": {
       "model_id": "",
       "version_major": 2,
       "version_minor": 0
      },
      "text/plain": [
       "Training:   0%|          | 0/9 [00:00<?, ?it/s]"
      ]
     },
     "metadata": {},
     "output_type": "display_data"
    },
    {
     "data": {
      "application/vnd.jupyter.widget-view+json": {
       "model_id": "",
       "version_major": 2,
       "version_minor": 0
      },
      "text/plain": [
       "Validation:   0%|          | 0/1 [00:00<?, ?it/s]"
      ]
     },
     "metadata": {},
     "output_type": "display_data"
    },
    {
     "name": "stdout",
     "output_type": "stream",
     "text": [
      "Epoch 49: Train Loss=435.4211 RMSE=0.0139 R2=0.2635 | Val Loss=2421.5137 RMSE=0.0143 R2=0.2259\n",
      "No improvement in validation R^2 for 14 epochs.\n",
      "--- Epoch 50/500 ---\n"
     ]
    },
    {
     "data": {
      "application/vnd.jupyter.widget-view+json": {
       "model_id": "",
       "version_major": 2,
       "version_minor": 0
      },
      "text/plain": [
       "Training:   0%|          | 0/9 [00:00<?, ?it/s]"
      ]
     },
     "metadata": {},
     "output_type": "display_data"
    },
    {
     "data": {
      "application/vnd.jupyter.widget-view+json": {
       "model_id": "",
       "version_major": 2,
       "version_minor": 0
      },
      "text/plain": [
       "Validation:   0%|          | 0/1 [00:00<?, ?it/s]"
      ]
     },
     "metadata": {},
     "output_type": "display_data"
    },
    {
     "name": "stdout",
     "output_type": "stream",
     "text": [
      "Epoch 50: Train Loss=410.9728 RMSE=0.0135 R2=0.3049 | Val Loss=2342.7922 RMSE=0.0141 R2=0.2511\n",
      "No improvement in validation R^2 for 15 epochs.\n",
      "--- Epoch 51/500 ---\n"
     ]
    },
    {
     "data": {
      "application/vnd.jupyter.widget-view+json": {
       "model_id": "",
       "version_major": 2,
       "version_minor": 0
      },
      "text/plain": [
       "Training:   0%|          | 0/9 [00:00<?, ?it/s]"
      ]
     },
     "metadata": {},
     "output_type": "display_data"
    },
    {
     "data": {
      "application/vnd.jupyter.widget-view+json": {
       "model_id": "",
       "version_major": 2,
       "version_minor": 0
      },
      "text/plain": [
       "Validation:   0%|          | 0/1 [00:00<?, ?it/s]"
      ]
     },
     "metadata": {},
     "output_type": "display_data"
    },
    {
     "name": "stdout",
     "output_type": "stream",
     "text": [
      "Epoch 51: Train Loss=396.1234 RMSE=0.0132 R2=0.3300 | Val Loss=2319.4458 RMSE=0.0140 R2=0.2585\n",
      "No improvement in validation R^2 for 16 epochs.\n",
      "--- Epoch 52/500 ---\n"
     ]
    },
    {
     "data": {
      "application/vnd.jupyter.widget-view+json": {
       "model_id": "",
       "version_major": 2,
       "version_minor": 0
      },
      "text/plain": [
       "Training:   0%|          | 0/9 [00:00<?, ?it/s]"
      ]
     },
     "metadata": {},
     "output_type": "display_data"
    },
    {
     "data": {
      "application/vnd.jupyter.widget-view+json": {
       "model_id": "",
       "version_major": 2,
       "version_minor": 0
      },
      "text/plain": [
       "Validation:   0%|          | 0/1 [00:00<?, ?it/s]"
      ]
     },
     "metadata": {},
     "output_type": "display_data"
    },
    {
     "name": "stdout",
     "output_type": "stream",
     "text": [
      "Epoch 52: Train Loss=408.7001 RMSE=0.0135 R2=0.3087 | Val Loss=2257.1326 RMSE=0.0138 R2=0.2784\n",
      "No improvement in validation R^2 for 17 epochs.\n",
      "--- Epoch 53/500 ---\n"
     ]
    },
    {
     "data": {
      "application/vnd.jupyter.widget-view+json": {
       "model_id": "",
       "version_major": 2,
       "version_minor": 0
      },
      "text/plain": [
       "Training:   0%|          | 0/9 [00:00<?, ?it/s]"
      ]
     },
     "metadata": {},
     "output_type": "display_data"
    },
    {
     "data": {
      "application/vnd.jupyter.widget-view+json": {
       "model_id": "",
       "version_major": 2,
       "version_minor": 0
      },
      "text/plain": [
       "Validation:   0%|          | 0/1 [00:00<?, ?it/s]"
      ]
     },
     "metadata": {},
     "output_type": "display_data"
    },
    {
     "name": "stdout",
     "output_type": "stream",
     "text": [
      "Epoch 53: Train Loss=404.9494 RMSE=0.0134 R2=0.3151 | Val Loss=2173.5132 RMSE=0.0135 R2=0.3052\n",
      "New best validation R^2: 0.3052\n",
      "Saved new best model to /home/jupyter/MLC-Project/training_runs/NYC_UHINetCNN_20250430_022023/model_best.pth.tar\n",
      "--- Epoch 54/500 ---\n"
     ]
    },
    {
     "data": {
      "application/vnd.jupyter.widget-view+json": {
       "model_id": "",
       "version_major": 2,
       "version_minor": 0
      },
      "text/plain": [
       "Training:   0%|          | 0/9 [00:00<?, ?it/s]"
      ]
     },
     "metadata": {},
     "output_type": "display_data"
    },
    {
     "data": {
      "application/vnd.jupyter.widget-view+json": {
       "model_id": "",
       "version_major": 2,
       "version_minor": 0
      },
      "text/plain": [
       "Validation:   0%|          | 0/1 [00:00<?, ?it/s]"
      ]
     },
     "metadata": {},
     "output_type": "display_data"
    },
    {
     "name": "stdout",
     "output_type": "stream",
     "text": [
      "Epoch 54: Train Loss=401.8049 RMSE=0.0133 R2=0.3204 | Val Loss=2168.5771 RMSE=0.0135 R2=0.3068\n",
      "New best validation R^2: 0.3068\n",
      "Saved new best model to /home/jupyter/MLC-Project/training_runs/NYC_UHINetCNN_20250430_022023/model_best.pth.tar\n",
      "--- Epoch 55/500 ---\n"
     ]
    },
    {
     "data": {
      "application/vnd.jupyter.widget-view+json": {
       "model_id": "",
       "version_major": 2,
       "version_minor": 0
      },
      "text/plain": [
       "Training:   0%|          | 0/9 [00:00<?, ?it/s]"
      ]
     },
     "metadata": {},
     "output_type": "display_data"
    },
    {
     "data": {
      "application/vnd.jupyter.widget-view+json": {
       "model_id": "",
       "version_major": 2,
       "version_minor": 0
      },
      "text/plain": [
       "Validation:   0%|          | 0/1 [00:00<?, ?it/s]"
      ]
     },
     "metadata": {},
     "output_type": "display_data"
    },
    {
     "name": "stdout",
     "output_type": "stream",
     "text": [
      "Epoch 55: Train Loss=405.4725 RMSE=0.0134 R2=0.3142 | Val Loss=2231.9050 RMSE=0.0137 R2=0.2865\n",
      "No improvement in validation R^2 for 1 epochs.\n",
      "--- Epoch 56/500 ---\n"
     ]
    },
    {
     "data": {
      "application/vnd.jupyter.widget-view+json": {
       "model_id": "",
       "version_major": 2,
       "version_minor": 0
      },
      "text/plain": [
       "Training:   0%|          | 0/9 [00:00<?, ?it/s]"
      ]
     },
     "metadata": {},
     "output_type": "display_data"
    },
    {
     "data": {
      "application/vnd.jupyter.widget-view+json": {
       "model_id": "",
       "version_major": 2,
       "version_minor": 0
      },
      "text/plain": [
       "Validation:   0%|          | 0/1 [00:00<?, ?it/s]"
      ]
     },
     "metadata": {},
     "output_type": "display_data"
    },
    {
     "name": "stdout",
     "output_type": "stream",
     "text": [
      "Epoch 56: Train Loss=403.3150 RMSE=0.0134 R2=0.3178 | Val Loss=2223.2856 RMSE=0.0137 R2=0.2893\n",
      "No improvement in validation R^2 for 2 epochs.\n",
      "--- Epoch 57/500 ---\n"
     ]
    },
    {
     "data": {
      "application/vnd.jupyter.widget-view+json": {
       "model_id": "",
       "version_major": 2,
       "version_minor": 0
      },
      "text/plain": [
       "Training:   0%|          | 0/9 [00:00<?, ?it/s]"
      ]
     },
     "metadata": {},
     "output_type": "display_data"
    },
    {
     "data": {
      "application/vnd.jupyter.widget-view+json": {
       "model_id": "",
       "version_major": 2,
       "version_minor": 0
      },
      "text/plain": [
       "Validation:   0%|          | 0/1 [00:00<?, ?it/s]"
      ]
     },
     "metadata": {},
     "output_type": "display_data"
    },
    {
     "name": "stdout",
     "output_type": "stream",
     "text": [
      "Epoch 57: Train Loss=400.8580 RMSE=0.0133 R2=0.3220 | Val Loss=2148.3550 RMSE=0.0135 R2=0.3132\n",
      "New best validation R^2: 0.3132\n",
      "Saved new best model to /home/jupyter/MLC-Project/training_runs/NYC_UHINetCNN_20250430_022023/model_best.pth.tar\n",
      "--- Epoch 58/500 ---\n"
     ]
    },
    {
     "data": {
      "application/vnd.jupyter.widget-view+json": {
       "model_id": "",
       "version_major": 2,
       "version_minor": 0
      },
      "text/plain": [
       "Training:   0%|          | 0/9 [00:00<?, ?it/s]"
      ]
     },
     "metadata": {},
     "output_type": "display_data"
    },
    {
     "data": {
      "application/vnd.jupyter.widget-view+json": {
       "model_id": "",
       "version_major": 2,
       "version_minor": 0
      },
      "text/plain": [
       "Validation:   0%|          | 0/1 [00:00<?, ?it/s]"
      ]
     },
     "metadata": {},
     "output_type": "display_data"
    },
    {
     "name": "stdout",
     "output_type": "stream",
     "text": [
      "Epoch 58: Train Loss=409.2723 RMSE=0.0135 R2=0.3078 | Val Loss=2235.0488 RMSE=0.0137 R2=0.2855\n",
      "No improvement in validation R^2 for 1 epochs.\n",
      "--- Epoch 59/500 ---\n"
     ]
    },
    {
     "data": {
      "application/vnd.jupyter.widget-view+json": {
       "model_id": "",
       "version_major": 2,
       "version_minor": 0
      },
      "text/plain": [
       "Training:   0%|          | 0/9 [00:00<?, ?it/s]"
      ]
     },
     "metadata": {},
     "output_type": "display_data"
    },
    {
     "data": {
      "application/vnd.jupyter.widget-view+json": {
       "model_id": "",
       "version_major": 2,
       "version_minor": 0
      },
      "text/plain": [
       "Validation:   0%|          | 0/1 [00:00<?, ?it/s]"
      ]
     },
     "metadata": {},
     "output_type": "display_data"
    },
    {
     "name": "stdout",
     "output_type": "stream",
     "text": [
      "Epoch 59: Train Loss=384.8003 RMSE=0.0131 R2=0.3491 | Val Loss=2198.5828 RMSE=0.0136 R2=0.2972\n",
      "No improvement in validation R^2 for 2 epochs.\n",
      "--- Epoch 60/500 ---\n"
     ]
    },
    {
     "data": {
      "application/vnd.jupyter.widget-view+json": {
       "model_id": "",
       "version_major": 2,
       "version_minor": 0
      },
      "text/plain": [
       "Training:   0%|          | 0/9 [00:00<?, ?it/s]"
      ]
     },
     "metadata": {},
     "output_type": "display_data"
    },
    {
     "data": {
      "application/vnd.jupyter.widget-view+json": {
       "model_id": "",
       "version_major": 2,
       "version_minor": 0
      },
      "text/plain": [
       "Validation:   0%|          | 0/1 [00:00<?, ?it/s]"
      ]
     },
     "metadata": {},
     "output_type": "display_data"
    },
    {
     "name": "stdout",
     "output_type": "stream",
     "text": [
      "Epoch 60: Train Loss=389.9614 RMSE=0.0131 R2=0.3404 | Val Loss=2279.2603 RMSE=0.0139 R2=0.2714\n",
      "No improvement in validation R^2 for 3 epochs.\n",
      "--- Epoch 61/500 ---\n"
     ]
    },
    {
     "data": {
      "application/vnd.jupyter.widget-view+json": {
       "model_id": "",
       "version_major": 2,
       "version_minor": 0
      },
      "text/plain": [
       "Training:   0%|          | 0/9 [00:00<?, ?it/s]"
      ]
     },
     "metadata": {},
     "output_type": "display_data"
    },
    {
     "data": {
      "application/vnd.jupyter.widget-view+json": {
       "model_id": "",
       "version_major": 2,
       "version_minor": 0
      },
      "text/plain": [
       "Validation:   0%|          | 0/1 [00:00<?, ?it/s]"
      ]
     },
     "metadata": {},
     "output_type": "display_data"
    },
    {
     "name": "stdout",
     "output_type": "stream",
     "text": [
      "Epoch 61: Train Loss=372.8433 RMSE=0.0129 R2=0.3694 | Val Loss=2147.8916 RMSE=0.0135 R2=0.3134\n",
      "New best validation R^2: 0.3134\n",
      "Saved new best model to /home/jupyter/MLC-Project/training_runs/NYC_UHINetCNN_20250430_022023/model_best.pth.tar\n",
      "--- Epoch 62/500 ---\n"
     ]
    },
    {
     "data": {
      "application/vnd.jupyter.widget-view+json": {
       "model_id": "",
       "version_major": 2,
       "version_minor": 0
      },
      "text/plain": [
       "Training:   0%|          | 0/9 [00:00<?, ?it/s]"
      ]
     },
     "metadata": {},
     "output_type": "display_data"
    },
    {
     "data": {
      "application/vnd.jupyter.widget-view+json": {
       "model_id": "",
       "version_major": 2,
       "version_minor": 0
      },
      "text/plain": [
       "Validation:   0%|          | 0/1 [00:00<?, ?it/s]"
      ]
     },
     "metadata": {},
     "output_type": "display_data"
    },
    {
     "name": "stdout",
     "output_type": "stream",
     "text": [
      "Epoch 62: Train Loss=395.7443 RMSE=0.0132 R2=0.3306 | Val Loss=2265.1760 RMSE=0.0138 R2=0.2759\n",
      "No improvement in validation R^2 for 1 epochs.\n",
      "--- Epoch 63/500 ---\n"
     ]
    },
    {
     "data": {
      "application/vnd.jupyter.widget-view+json": {
       "model_id": "",
       "version_major": 2,
       "version_minor": 0
      },
      "text/plain": [
       "Training:   0%|          | 0/9 [00:00<?, ?it/s]"
      ]
     },
     "metadata": {},
     "output_type": "display_data"
    },
    {
     "data": {
      "application/vnd.jupyter.widget-view+json": {
       "model_id": "",
       "version_major": 2,
       "version_minor": 0
      },
      "text/plain": [
       "Validation:   0%|          | 0/1 [00:00<?, ?it/s]"
      ]
     },
     "metadata": {},
     "output_type": "display_data"
    },
    {
     "name": "stdout",
     "output_type": "stream",
     "text": [
      "Epoch 63: Train Loss=400.1942 RMSE=0.0133 R2=0.3231 | Val Loss=2058.2993 RMSE=0.0132 R2=0.3420\n",
      "New best validation R^2: 0.3420\n",
      "Saved new best model to /home/jupyter/MLC-Project/training_runs/NYC_UHINetCNN_20250430_022023/model_best.pth.tar\n",
      "--- Epoch 64/500 ---\n"
     ]
    },
    {
     "data": {
      "application/vnd.jupyter.widget-view+json": {
       "model_id": "",
       "version_major": 2,
       "version_minor": 0
      },
      "text/plain": [
       "Training:   0%|          | 0/9 [00:00<?, ?it/s]"
      ]
     },
     "metadata": {},
     "output_type": "display_data"
    },
    {
     "data": {
      "application/vnd.jupyter.widget-view+json": {
       "model_id": "",
       "version_major": 2,
       "version_minor": 0
      },
      "text/plain": [
       "Validation:   0%|          | 0/1 [00:00<?, ?it/s]"
      ]
     },
     "metadata": {},
     "output_type": "display_data"
    },
    {
     "name": "stdout",
     "output_type": "stream",
     "text": [
      "Epoch 64: Train Loss=398.6981 RMSE=0.0133 R2=0.3256 | Val Loss=2196.8345 RMSE=0.0136 R2=0.2977\n",
      "No improvement in validation R^2 for 1 epochs.\n",
      "--- Epoch 65/500 ---\n"
     ]
    },
    {
     "data": {
      "application/vnd.jupyter.widget-view+json": {
       "model_id": "",
       "version_major": 2,
       "version_minor": 0
      },
      "text/plain": [
       "Training:   0%|          | 0/9 [00:00<?, ?it/s]"
      ]
     },
     "metadata": {},
     "output_type": "display_data"
    },
    {
     "data": {
      "application/vnd.jupyter.widget-view+json": {
       "model_id": "",
       "version_major": 2,
       "version_minor": 0
      },
      "text/plain": [
       "Validation:   0%|          | 0/1 [00:00<?, ?it/s]"
      ]
     },
     "metadata": {},
     "output_type": "display_data"
    },
    {
     "name": "stdout",
     "output_type": "stream",
     "text": [
      "Epoch 65: Train Loss=398.6484 RMSE=0.0133 R2=0.3257 | Val Loss=2213.2070 RMSE=0.0137 R2=0.2925\n",
      "No improvement in validation R^2 for 2 epochs.\n",
      "--- Epoch 66/500 ---\n"
     ]
    },
    {
     "data": {
      "application/vnd.jupyter.widget-view+json": {
       "model_id": "",
       "version_major": 2,
       "version_minor": 0
      },
      "text/plain": [
       "Training:   0%|          | 0/9 [00:00<?, ?it/s]"
      ]
     },
     "metadata": {},
     "output_type": "display_data"
    },
    {
     "data": {
      "application/vnd.jupyter.widget-view+json": {
       "model_id": "",
       "version_major": 2,
       "version_minor": 0
      },
      "text/plain": [
       "Validation:   0%|          | 0/1 [00:00<?, ?it/s]"
      ]
     },
     "metadata": {},
     "output_type": "display_data"
    },
    {
     "name": "stdout",
     "output_type": "stream",
     "text": [
      "Epoch 66: Train Loss=405.5837 RMSE=0.0134 R2=0.3140 | Val Loss=2122.1089 RMSE=0.0134 R2=0.3216\n",
      "No improvement in validation R^2 for 3 epochs.\n"
     ]
    }
   ],
   "source": [
    "# %% Training Loop (Generic - Use for both CNN and Branched)\n",
    "\n",
    "# --- Imports ---\n",
    "import time\n",
    "from datetime import datetime\n",
    "import json\n",
    "from pathlib import Path\n",
    "import src.train.train_utils as train_utils # Import the full module\n",
    "import numpy as np # Added for isnan check\n",
    "import pandas as pd # For saving log\n",
    "\n",
    "# --- Setup ---\n",
    "print(f\"Model {config['model_type']} training starting on {device}\")\n",
    "\n",
    "# --- Optimizer and Loss (should be initialized in model setup cell) ---\n",
    "if 'optimizer' not in locals() or 'loss_fn' not in locals():\n",
    "    raise NameError(\"Optimizer or loss_fn not defined. Run the model initialization cell.\")\n",
    "\n",
    "# --- Tracking Variables --- #\n",
    "best_val_r2 = -float('inf') \n",
    "patience_counter = 0 # Renamed from epochs_no_improve for clarity\n",
    "\n",
    "# --- Output Directory & Run Name --- #\n",
    "run_dir = Path(config[\"run_dir\"]) # Ensure output_dir is from config\n",
    "model_save_dir = run_dir / \"checkpoints\"\n",
    "model_save_dir.mkdir(parents=True, exist_ok=True)\n",
    "print(f\"Checkpoints and logs will be saved to: {run_dir}\")\n",
    "\n",
    "# --- Save Config --- #\n",
    "config_path = run_dir / \"config.json\"\n",
    "with open(config_path, 'w') as f:\n",
    "    json.dump(config, f, indent=2, default=lambda x: str(x) if isinstance(x, (Path, torch.device)) else x)\n",
    "print(f\"Saved configuration to {config_path}\")\n",
    "\n",
    "# --- Retrieve UHI Stats from Config --- #\n",
    "uhi_mean = config.get('uhi_mean')\n",
    "uhi_std = config.get('uhi_std')\n",
    "if uhi_mean is None or uhi_std is None:\n",
    "    raise ValueError(\"uhi_mean/uhi_std not in config. Run data loading cell.\")\n",
    "print(f\"Using Training UHI Mean: {uhi_mean:.4f}, Std Dev: {uhi_std:.4f}\")\n",
    "\n",
    "# --- WANDB Init --- #\n",
    "if wandb:\n",
    "    try:\n",
    "        if wandb.run is not None: wandb.finish() # Finish previous run if any\n",
    "        wandb.init(\n",
    "            project=config[\"wandb_project_name\"],\n",
    "            name=run_dir.name, # Use the actual run_dir name for W&B run name\n",
    "            config=config\n",
    "        )\n",
    "        wandb.watch(model) # Watch model parameters\n",
    "        print(f\"Wandb initialized for run: {run_dir.name}\")\n",
    "    except Exception as e:\n",
    "        print(f\"Wandb initialization failed: {e}\")\n",
    "        wandb = None\n",
    "else:\n",
    "    print(\"Wandb not available, skipping logging.\")\n",
    "\n",
    "# --- Training Loop --- # \n",
    "print(f\"Starting {config['model_type']} training for {config['epochs']} epochs...\")\n",
    "training_start_time = time.time()\n",
    "training_log_list = [] # Local log\n",
    "\n",
    "# Get warmup_epochs from config, default to 0 if not present\n",
    "warmup_epochs = config.get(\"warmup_epochs\", 0)\n",
    "\n",
    "try:\n",
    "    for epoch in range(config[\"epochs\"]):\n",
    "        epoch_start_time = time.time()\n",
    "        print(f\"--- Epoch {epoch+1}/{config['epochs']} ---\")\n",
    "\n",
    "        # --- Train --- #\n",
    "        if train_loader:\n",
    "            train_loss, train_rmse, train_r2 = train_utils.train_epoch_generic(\n",
    "                model, train_loader, optimizer, loss_fn, device, uhi_mean, uhi_std,\n",
    "                max_grad_norm=config.get(\"max_grad_norm\", 1.0)\n",
    "            )\n",
    "            print(f\"Train Loss: {train_loss:.4f}, Train RMSE: {train_rmse:.4f}, Train R2: {train_r2:.4f}\")\n",
    "            if np.isnan(train_loss):\n",
    "                print(\"Warning: Training loss is NaN. Stopping training.\")\n",
    "                break\n",
    "            current_metrics = {\"epoch\": epoch + 1, \"train_loss\": train_loss, \"train_rmse\": train_rmse, \"train_r2\": train_r2}\n",
    "        else:\n",
    "            print(\"Skipping training: train_loader is None.\")\n",
    "            train_loss, train_rmse, train_r2 = float('nan'), float('nan'), float('nan')\n",
    "            current_metrics = {\"epoch\": epoch + 1, \"train_loss\": train_loss, \"train_rmse\": train_rmse, \"train_r2\": train_r2}\n",
    "        \n",
    "        # --- Validate --- #\n",
    "        if val_loader:\n",
    "            val_loss, val_rmse, val_r2 = train_utils.validate_epoch_generic(\n",
    "                model, val_loader, loss_fn, device, uhi_mean, uhi_std\n",
    "            )\n",
    "            print(f\"Val Loss:   {val_loss:.4f}, Val RMSE:   {val_rmse:.4f}, Val R2:   {val_r2:.4f}\")\n",
    "            if np.isnan(val_loss) or np.isnan(val_r2):\n",
    "                print(\"Warning: Validation Loss or R^2 is NaN. Stopping training.\")\n",
    "                break\n",
    "            current_metrics.update({\"val_loss\": val_loss, \"val_rmse\": val_rmse, \"val_r2\": val_r2})\n",
    "            \n",
    "            # Checkpointing and Early Stopping (after warmup)\n",
    "            if epoch >= warmup_epochs:\n",
    "                if val_r2 > best_val_r2:\n",
    "                    print(f\"Validation R2 improved from {best_val_r2:.4f} to {val_r2:.4f}\")\n",
    "                    best_val_r2 = val_r2\n",
    "                    patience_counter = 0\n",
    "                    train_utils.save_checkpoint({\n",
    "                        'epoch': epoch + 1,\n",
    "                        'model_state_dict': model.state_dict(),\n",
    "                        'optimizer_state_dict': optimizer.state_dict(),\n",
    "                        'scheduler_state_dict': scheduler.state_dict() if scheduler else None,\n",
    "                        'best_val_r2': best_val_r2,\n",
    "                        'config': config\n",
    "                    }, is_best=True, output_dir=model_save_dir) # Save to checkpoints subdir\n",
    "                else:\n",
    "                    patience_counter += 1\n",
    "                    print(f\"Validation R2 did not improve. Patience: {patience_counter}/{config['patience']}\")\n",
    "                    if patience_counter >= config['patience']:\n",
    "                        print(f\"Early stopping triggered after {epoch+1} epochs.\")\n",
    "                        break\n",
    "            else:\n",
    "                print(f\"Warmup epoch {epoch+1}/{warmup_epochs}. Skipping checkpointing and early stopping.\")\n",
    "        else:\n",
    "            print(\"Skipping validation: val_loader is None.\")\n",
    "\n",
    "        # --- Log Metrics (local and W&B) ---\n",
    "        training_log_list.append(current_metrics)\n",
    "        if wandb:\n",
    "            wandb.log(current_metrics) # Log all metrics for the epoch\n",
    "        \n",
    "        # --- LR Scheduler Step --- #\n",
    "        if scheduler:\n",
    "            if isinstance(scheduler, ReduceLROnPlateau):\n",
    "                if val_loader: scheduler.step(val_loss) # Step on val_loss if available\n",
    "                else: print(\"Skipping scheduler.step() as val_loader is None for ReduceLROnPlateau\")\n",
    "            else:\n",
    "                scheduler.step() \n",
    "            if wandb:\n",
    "                 wandb.log({\"lr\": optimizer.param_groups[0]['lr']}) # Log learning rate\n",
    "\n",
    "        # --- Epoch Timing & Summary --- #\n",
    "        epoch_duration = time.time() - epoch_start_time\n",
    "        print(f\"Epoch {epoch+1} duration: {epoch_duration:.2f} seconds. LR: {optimizer.param_groups[0]['lr']:.2e}\")\n",
    "        print(\"-\"*80)\n",
    "\n",
    "finally:\n",
    "    # --- End Training Actions --- #\n",
    "    training_duration = time.time() - training_start_time\n",
    "    print(f\"\\nTotal training time: {training_duration / 60:.2f} minutes\")\n",
    "\n",
    "    # --- Save Final Model --- #\n",
    "    final_epoch_num = epoch + 1 if 'epoch' in locals() else 0 # Handle case where loop doesn't run\n",
    "    print(f\"Saving final model state from epoch {final_epoch_num}...\")\n",
    "    train_utils.save_checkpoint({\n",
    "        'epoch': final_epoch_num,\n",
    "        'model_state_dict': model.state_dict(),\n",
    "        'optimizer_state_dict': optimizer.state_dict(),\n",
    "        'scheduler_state_dict': scheduler.state_dict() if scheduler else None,\n",
    "        'best_val_r2': best_val_r2,\n",
    "        'config': config\n",
    "    }, is_best=False, output_dir=model_save_dir, filename='checkpoint_final.pth.tar')\n",
    "    print(f\"Final checkpoint saved to {model_save_dir / 'checkpoint_final.pth.tar'}\")\n",
    "\n",
    "    # --- Save Local Training Log --- #\n",
    "    if training_log_list:\n",
    "        log_df = pd.DataFrame(training_log_list)\n",
    "        log_df.to_csv(run_dir / 'training_log.csv', index=False)\n",
    "        print(f\"Saved local training log to {run_dir / 'training_log.csv'}\")\n",
    "    else:\n",
    "        print(\"No training log data to save.\")\n",
    "\n",
    "    # --- Finish W&B Run --- #\n",
    "    if wandb and wandb.run:\n",
    "        wandb.log({\"total_training_time_min\": training_duration / 60})\n",
    "        # Optionally, save best model to W&B artifacts\n",
    "        if (model_save_dir / 'model_best.pth.tar').exists():\n",
    "            best_model_artifact = wandb.Artifact(f\"{run_dir.name}-best_model\", type=\"model\")\n",
    "            best_model_artifact.add_file(model_save_dir / 'model_best.pth.tar')\n",
    "            wandb.log_artifact(best_model_artifact)\n",
    "            print(\"Logged best model to W&B Artifacts.\")\n",
    "        wandb.finish()\n",
    "        print(\"W&B run finished.\")\n",
    "\n",
    "    print(\"Training loop finished.\")\n",
    "    if val_loader:\n",
    "        print(f\"Best validation R^2 recorded: {best_val_r2:.4f}\")\n"
   ]
  },
  {
   "cell_type": "code",
   "execution_count": null,
   "id": "e3405883-756d-4db5-9864-7e1852b45d58",
   "metadata": {},
   "outputs": [],
   "source": []
  },
  {
   "cell_type": "code",
   "execution_count": null,
   "id": "a7c46204",
   "metadata": {},
   "outputs": [],
   "source": [
    "# %% Training Loop (Generic - Use for both CNN and Branched)\n",
    "\n",
    "# --- Imports ---\n",
    "import time\n",
    "from datetime import datetime\n",
    "import json\n",
    "from pathlib import Path\n",
    "# from torch.cuda.amp import GradScaler # Removed GradScaler import\n",
    "import src.train.train_utils as train_utils # Import the full module\n",
    "import numpy as np # Added for isnan check\n",
    "import pandas as pd # For saving log\n",
    "\n",
    "# --- Setup ---\n",
    "print(f\"Model {config['model_type']} initialized on {device}\")\n",
    "\n",
    "# --- Optimizer and Loss (should be initialized in model setup cell) ---\n",
    "# Ensure optimizer and loss_fn are accessible from the previous cell's scope\n",
    "if 'optimizer' not in locals() or 'loss_fn' not in locals():\n",
    "    raise NameError(\"Optimizer or loss_fn not defined. Run the model initialization cell.\")\n",
    "\n",
    "# --- AMP GradScaler --- #\n",
    "# scaler = GradScaler() # Removed scaler initialization\n",
    "\n",
    "# --- Tracking Variables --- #\n",
    "best_val_r2 = -float('inf') # Using R2 for checkpointing\n",
    "epochs_no_improve = 0\n",
    "last_saved_epoch = -1 # Track last saved epoch\n",
    "\n",
    "# --- Output Directory & Run Name (should be set in config cell) --- #\n",
    "# Ensure output_dir is a Path object if loaded from config str\n",
    "if 'output_dir_base' not in locals() or 'run_name' not in locals(): # Check if base dir and run name were set\n",
    "     run_timestamp = datetime.now().strftime('%Y%m%d_%H%M%S')\n",
    "     run_name = f\"{config.get('wander_run_name_prefix', 'train')}_{run_timestamp}\"\n",
    "     output_dir_base = Path(config.get('project_root', '.')) / \"training_runs\"\n",
    "     output_dir = output_dir_base / run_name\n",
    "     output_dir.mkdir(parents=True, exist_ok=True)\n",
    "     config[\"output_dir\"] = str(output_dir) # Update config\n",
    "else:\n",
    "    output_dir = Path(config[\"output_dir\"])\n",
    "print(f\"Checkpoints and logs will be saved to: {output_dir}\")\n",
    "\n",
    "# --- Retrieve UHI Stats from Config --- #\n",
    "uhi_mean = config.get('uhi_mean')\n",
    "uhi_std = config.get('uhi_std')\n",
    "if uhi_mean is None or uhi_std is None:\n",
    "    raise ValueError(\"uhi_mean/uhi_std not in config. Run data loading cell.\")\n",
    "print(f\"Using Training UHI Mean: {uhi_mean:.4f}, Std Dev: {uhi_std:.4f}\")\n",
    "\n",
    "# --- WANDB Init --- #\n",
    "if wandb:\n",
    "    try:\n",
    "        if wandb.run is not None: wandb.finish() # Finish previous run if any\n",
    "        wandb.init(\n",
    "            project=config[\"wandb_project_name\"],\n",
    "            name=run_name,\n",
    "            config=config\n",
    "        )\n",
    "        print(f\"Wandb initialized for run: {run_name}\")\n",
    "    except Exception as e:\n",
    "        print(f\"Wandb initialization failed: {e}\")\n",
    "        wandb = None\n",
    "else:\n",
    "    print(\"Wandb not available, skipping logging.\")\n",
    "\n",
    "# --- Training Loop --- # \n",
    "print(f\"Starting {config['model_type']} training...\")\n",
    "training_start_time = time.time()\n",
    "training_log = [] # Local log\n",
    "epoch = -1 # Initialize epoch counter before the loop\n",
    "\n",
    "try:\n",
    "    # Use epoch range from config\n",
    "    for epoch in range(config[\"epochs\"]):\n",
    "        epoch_start_time = time.time()\n",
    "        print(f\"--- Epoch {epoch+1}/{config['epochs']} ---\")\n",
    "\n",
    "        # --- Train --- #\n",
    "        if train_loader:\n",
    "            # Use generic train function from train_utils (without scaler)\n",
    "            train_loss, train_rmse, train_r2 = train_utils.train_epoch_generic(\n",
    "                model, train_loader, optimizer, loss_fn, device, uhi_mean, uhi_std # Removed scaler\n",
    "            )\n",
    "            print(f\"Train Loss: {train_loss:.4f}, Train RMSE: {train_rmse:.4f}, Train R2: {train_r2:.4f}\")\n",
    "            if np.isnan(train_loss):\n",
    "                print(\"Warning: Training loss is NaN. Stopping training.\")\n",
    "                break\n",
    "            log_metrics = {\"epoch\": epoch + 1, \"train_loss\": train_loss, \"train_rmse\": train_rmse, \"train_r2\": train_r2}\n",
    "        else:\n",
    "            print(\"Skipping training: train_loader is None.\")\n",
    "            train_loss, train_rmse, train_r2 = float('nan'), float('nan'), float('nan')\n",
    "            log_metrics = {\"epoch\": epoch + 1, \"train_loss\": train_loss, \"train_rmse\": train_rmse, \"train_r2\": train_r2}\n",
    "        \n",
    "        # Log train metrics AFTER checking for NaN\n",
    "        if wandb:\n",
    "            wandb.log(log_metrics)\n",
    "        training_log.append(log_metrics) # Append to local log regardless of W&B\n",
    "\n",
    "\n",
    "        # --- Validate --- #\n",
    "        if val_loader:\n",
    "            # Use generic validate function from train_utils\n",
    "            val_loss, val_rmse, val_r2 = train_utils.validate_epoch_generic(\n",
    "                model, val_loader, loss_fn, device, uhi_mean, uhi_std\n",
    "            )\n",
    "            print(f\"Val Loss:   {val_loss:.4f}, Val RMSE:   {val_rmse:.4f}, Val R2:   {val_r2:.4f}\")\n",
    "            if np.isnan(val_r2):\n",
    "                print(\"Warning: Validation R^2 is NaN. Cannot determine improvement. Stopping training.\")\n",
    "                break\n",
    "            val_metrics = {\"val_loss\": val_loss, \"val_rmse\": val_rmse, \"val_r2\": val_r2}\n",
    "            log_metrics.update(val_metrics) # Add val metrics for local log\n",
    "            if wandb:\n",
    "                wandb.log({\"epoch\": epoch + 1, **val_metrics}) # Log validation metrics too\n",
    "\n",
    "            # --- Checkpointing & Early Stopping (based on Validation R2) --- #\n",
    "            is_best = val_r2 > best_val_r2\n",
    "            if is_best:\n",
    "                print(f\"Validation R2 improved from {best_val_r2:.4f} to {val_r2:.4f}\")\n",
    "                best_val_r2 = val_r2\n",
    "                epochs_no_improve = 0\n",
    "                last_saved_epoch = epoch + 1\n",
    "                # Use save_checkpoint from train_utils\n",
    "                train_utils.save_checkpoint({\n",
    "                    'epoch': epoch + 1,\n",
    "                    'state_dict': model.state_dict(),\n",
    "                    'optimizer': optimizer.state_dict(),\n",
    "                    'best_val_r2': best_val_r2,\n",
    "                    'config': config # Save full config dict\n",
    "                }, is_best=True, output_dir=output_dir)\n",
    "            else:\n",
    "                epochs_no_improve += 1\n",
    "                print(f\"Validation R2 did not improve ({val_r2:.4f}). Best: {best_val_r2:.4f}. No improvement for {epochs_no_improve} epochs.\")\n",
    "\n",
    "            if epochs_no_improve >= config['patience']:\n",
    "                print(f\"Early stopping triggered after {epochs_no_improve} epochs.\")\n",
    "                break\n",
    "        else:\n",
    "            print(\"Skipping validation/checkpointing: val_loader is None.\")\n",
    "            # Always save last checkpoint if no validation\n",
    "            train_utils.save_checkpoint({\n",
    "                'epoch': epoch + 1,\n",
    "                'state_dict': model.state_dict(),\n",
    "                'optimizer': optimizer.state_dict(),\n",
    "                'best_val_r2': best_val_r2, # Save current best R2 seen (which is -inf if no val)\n",
    "                'config': config\n",
    "            }, is_best=False, output_dir=output_dir, filename='checkpoint_last.pth.tar')\n",
    "            last_saved_epoch = epoch + 1 # Update tracker\n",
    "\n",
    "        # --- Epoch Timing --- #\n",
    "        epoch_duration = time.time() - epoch_start_time\n",
    "        print(f\"Epoch {epoch+1} duration: {epoch_duration:.2f} seconds\")\n",
    "        if wandb:\n",
    "            wandb.log({\"epoch\": epoch + 1, \"epoch_duration_sec\": epoch_duration})\n",
    "\n",
    "finally:\n",
    "    # --- End Training Actions (Executed even if loop breaks early) --- #\n",
    "    training_duration = time.time() - training_start_time\n",
    "    print(f\"\\nTotal training time: {training_duration / 60:.2f} minutes\")\n",
    "\n",
    "    # --- Save Final Checkpoint --- #\n",
    "    # Use the state from the last *completed* epoch (before potential break)\n",
    "    final_epoch_num = epoch + 1 # This will be correct whether the loop finished or broke\n",
    "    print(f\"Saving final model state from epoch {final_epoch_num}...\")\n",
    "    try:\n",
    "        train_utils.save_checkpoint({\n",
    "            'epoch': final_epoch_num,\n",
    "            'state_dict': model.state_dict(),\n",
    "            'optimizer': optimizer.state_dict(),\n",
    "            'best_val_r2': best_val_r2,\n",
    "            'config': config\n",
    "        }, is_best=False, output_dir=output_dir, filename='checkpoint_final.pth.tar')\n",
    "        print(f\"Final checkpoint saved to {output_dir / 'checkpoint_final.pth.tar'}\")\n",
    "    except Exception as e:\n",
    "        print(f\"Error saving final checkpoint: {e}\")\n",
    "\n",
    "    # --- Save Local Training Log --- #\n",
    "    if training_log:\n",
    "        try:\n",
    "            log_df = pd.DataFrame(training_log)\n",
    "            log_df.to_csv(output_dir / 'training_log.csv', index=False)\n",
    "            print(f\"Saved local training log to {output_dir / 'training_log.csv'}\")\n",
    "        except Exception as e:\n",
    "            print(f\"Warning: Failed to save local training log: {e}\")\n",
    "    else:\n",
    "        print(\"No training log data to save.\")\n",
    "\n",
    "\n",
    "    if wandb and wandb.run: # Check if wandb run exists before logging/finishing\n",
    "        wandb.log({\"total_training_time_min\": training_duration / 60})\n",
    "        wandb.finish()\n",
    "        print(\"W&B run finished.\")\n",
    "\n",
    "    print(\"Training loop finished.\")\n",
    "    if val_loader:\n",
    "        print(f\"Best validation R^2 recorded: {best_val_r2:.4f} (achieved at epoch {last_saved_epoch if last_saved_epoch > 0 else 'N/A'})\")\n",
    "    if last_saved_epoch > 0:\n",
    "         print(f\"Best model checkpoint saved in: {output_dir / 'model_best.pth.tar'}\")\n"
   ]
  }
 ],
 "metadata": {
  "environment": {
   "kernel": "conda-base-py",
   "name": "workbench-notebooks.m129",
   "type": "gcloud",
   "uri": "us-docker.pkg.dev/deeplearning-platform-release/gcr.io/workbench-notebooks:m129"
  },
  "kernelspec": {
   "display_name": "Python 3 (ipykernel) (Local)",
   "language": "python",
   "name": "conda-base-py"
  },
  "language_info": {
   "codemirror_mode": {
    "name": "ipython",
    "version": 3
   },
   "file_extension": ".py",
   "mimetype": "text/x-python",
   "name": "python",
   "nbconvert_exporter": "python",
   "pygments_lexer": "ipython3",
   "version": "3.10.16"
  }
 },
 "nbformat": 4,
 "nbformat_minor": 5
}
